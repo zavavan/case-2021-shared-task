{
  "nbformat": 4,
  "nbformat_minor": 0,
  "metadata": {
    "colab": {
      "provenance": [],
      "authorship_tag": "ABX9TyP+6G7MHApG4F1gP1WkHzcd",
      "include_colab_link": true
    },
    "kernelspec": {
      "name": "python3",
      "display_name": "Python 3"
    },
    "language_info": {
      "name": "python"
    }
  },
  "cells": [
    {
      "cell_type": "markdown",
      "metadata": {
        "id": "view-in-github",
        "colab_type": "text"
      },
      "source": [
        "<a href=\"https://colab.research.google.com/github/zavavan/case-2021-shared-task/blob/main/EmbeddingClusteringWithUMAP_Hdbscan.ipynb\" target=\"_parent\"><img src=\"https://colab.research.google.com/assets/colab-badge.svg\" alt=\"Open In Colab\"/></a>"
      ]
    },
    {
      "cell_type": "code",
      "execution_count": 1,
      "metadata": {
        "id": "r3X3M8IFnxVM",
        "colab": {
          "base_uri": "https://localhost:8080/"
        },
        "outputId": "6b80edf8-4963-43d9-c7fc-09e57f94a89e"
      },
      "outputs": [
        {
          "output_type": "stream",
          "name": "stdout",
          "text": [
            "Mounted at /content/drive\n"
          ]
        }
      ],
      "source": [
        "from google.colab import drive\n",
        "drive.mount('/content/drive')"
      ]
    },
    {
      "cell_type": "code",
      "execution_count": 2,
      "metadata": {
        "id": "q739Tlz6tZkz",
        "colab": {
          "base_uri": "https://localhost:8080/"
        },
        "outputId": "9014574e-36d6-4789-e3db-e6dac316c4ac"
      },
      "outputs": [
        {
          "output_type": "execute_result",
          "data": {
            "text/plain": [
              "2"
            ]
          },
          "metadata": {},
          "execution_count": 2
        }
      ],
      "source": [
        "import multiprocessing\n",
        "\n",
        "cores = multiprocessing.cpu_count() # Count the number of cores in a computer\n",
        "cores"
      ]
    },
    {
      "cell_type": "code",
      "execution_count": 3,
      "metadata": {
        "id": "_62NIBxmw0gP"
      },
      "outputs": [],
      "source": [
        "import time\n",
        "from joblib import Parallel, delayed\n",
        "from tqdm import tqdm\n",
        "from functools import partial\n",
        "tqdm = partial(tqdm, position=0, leave=True)"
      ]
    },
    {
      "cell_type": "code",
      "source": [
        "!pip install openpyxl\n",
        "!pip install XlsxWriter"
      ],
      "metadata": {
        "colab": {
          "base_uri": "https://localhost:8080/"
        },
        "id": "74WVPkz5Sslx",
        "outputId": "7f3c5576-c152-4380-bbda-a6e4bbf0e236"
      },
      "execution_count": 4,
      "outputs": [
        {
          "output_type": "stream",
          "name": "stdout",
          "text": [
            "Looking in indexes: https://pypi.org/simple, https://us-python.pkg.dev/colab-wheels/public/simple/\n",
            "Requirement already satisfied: openpyxl in /usr/local/lib/python3.10/dist-packages (3.0.10)\n",
            "Requirement already satisfied: et-xmlfile in /usr/local/lib/python3.10/dist-packages (from openpyxl) (1.1.0)\n",
            "Looking in indexes: https://pypi.org/simple, https://us-python.pkg.dev/colab-wheels/public/simple/\n",
            "Collecting XlsxWriter\n",
            "  Downloading XlsxWriter-3.1.2-py3-none-any.whl (153 kB)\n",
            "\u001b[2K     \u001b[90m━━━━━━━━━━━━━━━━━━━━━━━━━━━━━━━━━━━━━━━\u001b[0m \u001b[32m153.0/153.0 kB\u001b[0m \u001b[31m4.0 MB/s\u001b[0m eta \u001b[36m0:00:00\u001b[0m\n",
            "\u001b[?25hInstalling collected packages: XlsxWriter\n",
            "Successfully installed XlsxWriter-3.1.2\n"
          ]
        }
      ]
    },
    {
      "cell_type": "code",
      "execution_count": null,
      "metadata": {
        "id": "MvZJHuHFGEdI"
      },
      "outputs": [],
      "source": [
        "import os\n",
        "import pandas as pd\n",
        "import numpy as np\n",
        "from itertools import compress\n",
        "\n",
        "from numpy import asarray\n",
        "from sklearn import preprocessing\n",
        "from sklearn.preprocessing import StandardScaler\n",
        "from sklearn.preprocessing import MinMaxScaler\n",
        "\n",
        "from itertools import compress\n",
        "from sklearn.decomposition import PCA\n",
        "from sklearn.pipeline import Pipeline\n",
        "\n",
        "# To plot pretty figures\n",
        "%matplotlib inline\n",
        "import matplotlib as mpl\n",
        "import matplotlib.pyplot as plt\n",
        "from mpl_toolkits.mplot3d import Axes3D\n",
        "from matplotlib import cm\n",
        "\n",
        "from sklearn.datasets import fetch_openml\n",
        "import getpass\n",
        "import logging\n",
        "\n",
        "!pip install umap-learn\n",
        "!pip install hdbscan\n",
        "# Dimension reduction and clustering libraries\n",
        "import umap.umap_ as umap\n",
        "import hdbscan\n",
        "import sklearn.cluster as cluster\n",
        "from sklearn.metrics import adjusted_rand_score, adjusted_mutual_info_score\n",
        "\n",
        "from sklearn.model_selection import GridSearchCV\n",
        "\n"
      ]
    },
    {
      "cell_type": "code",
      "source": [
        "import csv"
      ],
      "metadata": {
        "id": "gjgz5u-nhL-S"
      },
      "execution_count": 115,
      "outputs": []
    },
    {
      "cell_type": "code",
      "source": [
        "# Scikit-Learn ≥0.20 is required\n",
        "import sklearn\n",
        "assert sklearn.__version__ >= \"0.20\"\n",
        "# to make this notebook's output stable across runs\n",
        "np.random.seed(42)\n",
        "import warnings\n",
        "warnings.simplefilter(action='ignore')\n",
        "\n",
        "from sklearn import metrics\n",
        "from sklearn.metrics import silhouette_score\n",
        "from sklearn.cluster import AgglomerativeClustering\n",
        "from sklearn.cluster import KMeans\n",
        "\n",
        "!pip -q install scikit-learn-extra > log\n",
        "\n",
        "\n",
        "mpl.rc('axes', labelsize=14)\n",
        "mpl.rc('xtick', labelsize=12)\n",
        "mpl.rc('ytick', labelsize=12)"
      ],
      "metadata": {
        "id": "sFMx_z3Aehf-"
      },
      "execution_count": 6,
      "outputs": []
    },
    {
      "cell_type": "code",
      "source": [
        "import torch\n",
        "if torch.cuda.is_available():\n",
        "    device_name = torch.device(\"cuda\")\n",
        "else:\n",
        "    device_name = torch.device('cpu')\n",
        "print(\"Using {}.\".format(device_name))"
      ],
      "metadata": {
        "colab": {
          "base_uri": "https://localhost:8080/"
        },
        "id": "YDEmWZwUYAeZ",
        "outputId": "82c82983-8072-4661-9b09-bfcb7218d6ee"
      },
      "execution_count": 7,
      "outputs": [
        {
          "output_type": "stream",
          "name": "stdout",
          "text": [
            "Using cpu.\n"
          ]
        }
      ]
    },
    {
      "cell_type": "code",
      "source": [
        "def save_fig(fig_id, path, tight_layout=True, fig_extension=\"png\", resolution=600):\n",
        "    IMAGES_PATH = os.path.join(path, \"images\")\n",
        "    os.makedirs(IMAGES_PATH, exist_ok=True)\n",
        "    concatenated_path = os.path.join(IMAGES_PATH, fig_id + \".\" + fig_extension)\n",
        "    print(\"Saving figure\", fig_id)\n",
        "    if tight_layout:\n",
        "        plt.tight_layout()\n",
        "    plt.savefig(concatenated_path, format=fig_extension, dpi=resolution)"
      ],
      "metadata": {
        "id": "ZKxH3Y5qsAoN"
      },
      "execution_count": 8,
      "outputs": []
    },
    {
      "cell_type": "code",
      "execution_count": 9,
      "metadata": {
        "id": "09kOO1TXGMfI"
      },
      "outputs": [],
      "source": [
        "import locale\n",
        "def getpreferredencoding(do_setlocale = True):\n",
        "    return \"UTF-8\"\n",
        "locale.getpreferredencoding = getpreferredencoding"
      ]
    },
    {
      "cell_type": "code",
      "execution_count": 10,
      "metadata": {
        "id": "fDEAuWuWi1hu"
      },
      "outputs": [],
      "source": [
        "import warnings\n",
        "warnings.simplefilter(action='ignore')"
      ]
    },
    {
      "cell_type": "code",
      "execution_count": 184,
      "metadata": {
        "id": "dM97v7EUF5lE"
      },
      "outputs": [],
      "source": [
        "test_folder = '/content/drive/MyDrive/Colab Notebooks'\n",
        "result_folder = '/content/drive/MyDrive/Colab Notebooks/clustering'\n",
        "shared_folder = '/content/drive/MyDrive/PhDThesis/Twitter'\n",
        "clustering_shared_folder = '/content/drive/MyDrive/PhDThesis/Twitter/clustering'\n",
        "base_folder= '/content/drive/MyDrive/Colab Notebooks/resultsNewsCorpus'\n",
        "tensor_folder= '/content/drive/MyDrive/Colab Notebooks/results100kSample_multitoken/tensors_chunks/bert'\n",
        "relations_folder= '/content/drive/MyDrive/Colab Notebooks/results100kSample_multitoken/relations_chunks'"
      ]
    },
    {
      "cell_type": "markdown",
      "source": [
        "##rebuild glove tensors and relations from file ##"
      ],
      "metadata": {
        "id": "3e4YB0SKCP-t"
      }
    },
    {
      "cell_type": "code",
      "source": [
        "#glove_tensors = torch.load(os.path.join(test_folder,'glove_tensors_1k_news.pt'))\n",
        "glove_tensors = torch.load(os.path.join(test_folder,'glove_tensors_100k_tweets.pt'))"
      ],
      "metadata": {
        "id": "uD6cSvK0kuE6"
      },
      "execution_count": 12,
      "outputs": []
    },
    {
      "cell_type": "code",
      "source": [
        "#glove_relations = pd.read_csv(os.path.join(test_folder,'relations_news_1k_glove_.csv'), header=0, index_col=0)\n",
        "glove_relations = pd.read_csv(os.path.join(test_folder,'relations_tweets_100k_glove_.csv'), header=0, index_col=0)"
      ],
      "metadata": {
        "id": "uaF_Y5l6R2pm"
      },
      "execution_count": 13,
      "outputs": []
    },
    {
      "cell_type": "code",
      "source": [
        "print(len(glove_relations))\n",
        "print(len(glove_tensors))"
      ],
      "metadata": {
        "colab": {
          "base_uri": "https://localhost:8080/"
        },
        "id": "-gRoasOaCvSf",
        "outputId": "58767d0b-2ab2-4749-cfa3-a39fb8441329"
      },
      "execution_count": 14,
      "outputs": [
        {
          "output_type": "stream",
          "name": "stdout",
          "text": [
            "29209\n",
            "29209\n"
          ]
        }
      ]
    },
    {
      "cell_type": "code",
      "execution_count": 15,
      "metadata": {
        "id": "NGe5L-J4wemq"
      },
      "outputs": [],
      "source": [
        "glove_relations['glove_embeddings']=glove_tensors"
      ]
    },
    {
      "cell_type": "code",
      "execution_count": 16,
      "metadata": {
        "id": "K_rpxdPP1QIP",
        "colab": {
          "base_uri": "https://localhost:8080/",
          "height": 206
        },
        "outputId": "796ef185-6b73-4ddc-fd31-e6502a1a5422"
      },
      "outputs": [
        {
          "output_type": "execute_result",
          "data": {
            "text/plain": [
              "  RelationHead RelationHeadLemma  DocIndex TokenIndex  \\\n",
              "0   converging          converge         1        [6]   \n",
              "1       taking              take         7        [3]   \n",
              "2           go                go        27        [3]   \n",
              "3         face              face        28        [3]   \n",
              "4         spur              spur        30        [4]   \n",
              "\n",
              "                                    glove_embeddings  \n",
              "0  [-3.0448, 1.6889, -2.0189, 0.83227, 2.0169, 0....  \n",
              "1  [3.3667, -4.2011, -4.0966, -2.6492, 1.5651, 0....  \n",
              "2  [1.484, 8.3944, -8.3806, 3.2081, -4.2582, 1.97...  \n",
              "3  [2.6234, 3.2451, -4.9375, 1.6368, 3.6953, 2.61...  \n",
              "4  [-2.0217, 3.3765, 0.6967, -0.88704, 1.1327, -1...  "
            ],
            "text/html": [
              "\n",
              "  <div id=\"df-0aeb24ce-2370-4a87-ad9e-b9a12e2501aa\">\n",
              "    <div class=\"colab-df-container\">\n",
              "      <div>\n",
              "<style scoped>\n",
              "    .dataframe tbody tr th:only-of-type {\n",
              "        vertical-align: middle;\n",
              "    }\n",
              "\n",
              "    .dataframe tbody tr th {\n",
              "        vertical-align: top;\n",
              "    }\n",
              "\n",
              "    .dataframe thead th {\n",
              "        text-align: right;\n",
              "    }\n",
              "</style>\n",
              "<table border=\"1\" class=\"dataframe\">\n",
              "  <thead>\n",
              "    <tr style=\"text-align: right;\">\n",
              "      <th></th>\n",
              "      <th>RelationHead</th>\n",
              "      <th>RelationHeadLemma</th>\n",
              "      <th>DocIndex</th>\n",
              "      <th>TokenIndex</th>\n",
              "      <th>glove_embeddings</th>\n",
              "    </tr>\n",
              "  </thead>\n",
              "  <tbody>\n",
              "    <tr>\n",
              "      <th>0</th>\n",
              "      <td>converging</td>\n",
              "      <td>converge</td>\n",
              "      <td>1</td>\n",
              "      <td>[6]</td>\n",
              "      <td>[-3.0448, 1.6889, -2.0189, 0.83227, 2.0169, 0....</td>\n",
              "    </tr>\n",
              "    <tr>\n",
              "      <th>1</th>\n",
              "      <td>taking</td>\n",
              "      <td>take</td>\n",
              "      <td>7</td>\n",
              "      <td>[3]</td>\n",
              "      <td>[3.3667, -4.2011, -4.0966, -2.6492, 1.5651, 0....</td>\n",
              "    </tr>\n",
              "    <tr>\n",
              "      <th>2</th>\n",
              "      <td>go</td>\n",
              "      <td>go</td>\n",
              "      <td>27</td>\n",
              "      <td>[3]</td>\n",
              "      <td>[1.484, 8.3944, -8.3806, 3.2081, -4.2582, 1.97...</td>\n",
              "    </tr>\n",
              "    <tr>\n",
              "      <th>3</th>\n",
              "      <td>face</td>\n",
              "      <td>face</td>\n",
              "      <td>28</td>\n",
              "      <td>[3]</td>\n",
              "      <td>[2.6234, 3.2451, -4.9375, 1.6368, 3.6953, 2.61...</td>\n",
              "    </tr>\n",
              "    <tr>\n",
              "      <th>4</th>\n",
              "      <td>spur</td>\n",
              "      <td>spur</td>\n",
              "      <td>30</td>\n",
              "      <td>[4]</td>\n",
              "      <td>[-2.0217, 3.3765, 0.6967, -0.88704, 1.1327, -1...</td>\n",
              "    </tr>\n",
              "  </tbody>\n",
              "</table>\n",
              "</div>\n",
              "      <button class=\"colab-df-convert\" onclick=\"convertToInteractive('df-0aeb24ce-2370-4a87-ad9e-b9a12e2501aa')\"\n",
              "              title=\"Convert this dataframe to an interactive table.\"\n",
              "              style=\"display:none;\">\n",
              "        \n",
              "  <svg xmlns=\"http://www.w3.org/2000/svg\" height=\"24px\"viewBox=\"0 0 24 24\"\n",
              "       width=\"24px\">\n",
              "    <path d=\"M0 0h24v24H0V0z\" fill=\"none\"/>\n",
              "    <path d=\"M18.56 5.44l.94 2.06.94-2.06 2.06-.94-2.06-.94-.94-2.06-.94 2.06-2.06.94zm-11 1L8.5 8.5l.94-2.06 2.06-.94-2.06-.94L8.5 2.5l-.94 2.06-2.06.94zm10 10l.94 2.06.94-2.06 2.06-.94-2.06-.94-.94-2.06-.94 2.06-2.06.94z\"/><path d=\"M17.41 7.96l-1.37-1.37c-.4-.4-.92-.59-1.43-.59-.52 0-1.04.2-1.43.59L10.3 9.45l-7.72 7.72c-.78.78-.78 2.05 0 2.83L4 21.41c.39.39.9.59 1.41.59.51 0 1.02-.2 1.41-.59l7.78-7.78 2.81-2.81c.8-.78.8-2.07 0-2.86zM5.41 20L4 18.59l7.72-7.72 1.47 1.35L5.41 20z\"/>\n",
              "  </svg>\n",
              "      </button>\n",
              "      \n",
              "  <style>\n",
              "    .colab-df-container {\n",
              "      display:flex;\n",
              "      flex-wrap:wrap;\n",
              "      gap: 12px;\n",
              "    }\n",
              "\n",
              "    .colab-df-convert {\n",
              "      background-color: #E8F0FE;\n",
              "      border: none;\n",
              "      border-radius: 50%;\n",
              "      cursor: pointer;\n",
              "      display: none;\n",
              "      fill: #1967D2;\n",
              "      height: 32px;\n",
              "      padding: 0 0 0 0;\n",
              "      width: 32px;\n",
              "    }\n",
              "\n",
              "    .colab-df-convert:hover {\n",
              "      background-color: #E2EBFA;\n",
              "      box-shadow: 0px 1px 2px rgba(60, 64, 67, 0.3), 0px 1px 3px 1px rgba(60, 64, 67, 0.15);\n",
              "      fill: #174EA6;\n",
              "    }\n",
              "\n",
              "    [theme=dark] .colab-df-convert {\n",
              "      background-color: #3B4455;\n",
              "      fill: #D2E3FC;\n",
              "    }\n",
              "\n",
              "    [theme=dark] .colab-df-convert:hover {\n",
              "      background-color: #434B5C;\n",
              "      box-shadow: 0px 1px 3px 1px rgba(0, 0, 0, 0.15);\n",
              "      filter: drop-shadow(0px 1px 2px rgba(0, 0, 0, 0.3));\n",
              "      fill: #FFFFFF;\n",
              "    }\n",
              "  </style>\n",
              "\n",
              "      <script>\n",
              "        const buttonEl =\n",
              "          document.querySelector('#df-0aeb24ce-2370-4a87-ad9e-b9a12e2501aa button.colab-df-convert');\n",
              "        buttonEl.style.display =\n",
              "          google.colab.kernel.accessAllowed ? 'block' : 'none';\n",
              "\n",
              "        async function convertToInteractive(key) {\n",
              "          const element = document.querySelector('#df-0aeb24ce-2370-4a87-ad9e-b9a12e2501aa');\n",
              "          const dataTable =\n",
              "            await google.colab.kernel.invokeFunction('convertToInteractive',\n",
              "                                                     [key], {});\n",
              "          if (!dataTable) return;\n",
              "\n",
              "          const docLinkHtml = 'Like what you see? Visit the ' +\n",
              "            '<a target=\"_blank\" href=https://colab.research.google.com/notebooks/data_table.ipynb>data table notebook</a>'\n",
              "            + ' to learn more about interactive tables.';\n",
              "          element.innerHTML = '';\n",
              "          dataTable['output_type'] = 'display_data';\n",
              "          await google.colab.output.renderOutput(dataTable, element);\n",
              "          const docLink = document.createElement('div');\n",
              "          docLink.innerHTML = docLinkHtml;\n",
              "          element.appendChild(docLink);\n",
              "        }\n",
              "      </script>\n",
              "    </div>\n",
              "  </div>\n",
              "  "
            ]
          },
          "metadata": {},
          "execution_count": 16
        }
      ],
      "source": [
        "glove_relations.head()"
      ]
    },
    {
      "cell_type": "markdown",
      "source": [
        "##rebuild BERT tensors and relations from chuncked files ##"
      ],
      "metadata": {
        "id": "BBfrw8CeGqsg"
      }
    },
    {
      "cell_type": "code",
      "source": [
        "bert_relations = pd.DataFrame(columns=['RelationHead', 'RelationHeadLemma','DocIndex', 'TokenIndex'])\n",
        "# Iterate directory\n",
        "for file in os.listdir(relations_folder):\n",
        "    # check only text files\n",
        "    if file.endswith('.csv'):\n",
        "        #print(os.path.join(dir_path,file))\n",
        "        df = pd.read_csv(os.path.join(relations_folder,file), header=0, index_col=0)\n",
        "        #print(df)\n",
        "        bert_relations = pd.concat([bert_relations, df], axis=0)\n",
        "\n",
        "#bert_relations.to_csv(os.path.join(test_folder,'RelationsNews100docs_rebuilt.csv'), encoding=\"utf-8\")"
      ],
      "metadata": {
        "id": "u2QHNxnvGyXh"
      },
      "execution_count": 17,
      "outputs": []
    },
    {
      "cell_type": "code",
      "source": [
        "bert_tensors = []\n",
        "# Iterate directory\n",
        "for file in os.listdir(tensor_folder):\n",
        "    # check only text files\n",
        "    if file.endswith('.pt'):\n",
        "        #print(os.path.join(dir_path,file))\n",
        "        bert_tensors.extend(torch.load(os.path.join(tensor_folder,file)))"
      ],
      "metadata": {
        "id": "hTTNscC0LwRF"
      },
      "execution_count": 18,
      "outputs": []
    },
    {
      "cell_type": "code",
      "source": [
        "print(len(bert_relations))\n",
        "print(len(bert_tensors))"
      ],
      "metadata": {
        "colab": {
          "base_uri": "https://localhost:8080/"
        },
        "id": "1iWvpbF9HMn_",
        "outputId": "efe45ed2-7da2-46ef-e3a3-100749187f72"
      },
      "execution_count": 19,
      "outputs": [
        {
          "output_type": "stream",
          "name": "stdout",
          "text": [
            "29335\n",
            "29335\n"
          ]
        }
      ]
    },
    {
      "cell_type": "markdown",
      "source": [
        "## apply normalization to vectors before applying dimensionality reduction ##"
      ],
      "metadata": {
        "id": "aGHIDfFP4hFA"
      }
    },
    {
      "cell_type": "code",
      "source": [
        "## glove vectors\n",
        "\n",
        "scaler = MinMaxScaler()\n",
        "\n",
        "normalized_glove_tensors = []\n",
        "numpy_array_vecs = []\n",
        "\n",
        "# convert tensors to numpy arrays\n",
        "for vec in glove_tensors:\n",
        "  #print(vec.shape)\n",
        "  #here I need to convert first from torch to np array\n",
        "  numpy_array_vecs.append(vec)\n",
        "\n",
        "# transform data\n",
        "scaled_numpy_array_vecs = scaler.fit_transform(numpy_array_vecs)\n",
        "\n",
        "\n",
        "for scaled_numpy_array_vec in scaled_numpy_array_vecs:\n",
        "  normalized_glove_tensors.append(torch.from_numpy(scaled_numpy_array_vec))\n",
        "\n",
        "\n",
        "numpy_normalized_glove_tensors = [np.array(x) for x in normalized_glove_tensors]\n"
      ],
      "metadata": {
        "id": "246q5UZa5Fvy"
      },
      "execution_count": 20,
      "outputs": []
    },
    {
      "cell_type": "code",
      "source": [
        "## BERT vectors\n",
        "\n",
        "scaler = MinMaxScaler()\n",
        "\n",
        "normalized_bert_tensors = []\n",
        "numpy_array_vecs = []\n",
        "\n",
        "# convert tensors to numpy arrays\n",
        "for vec in bert_tensors:\n",
        "  #print(vec.shape)\n",
        "  #here I need to convert first from torch to np array\n",
        "  numpy_array_vecs.append(vec.numpy())\n",
        "\n",
        "# transform data\n",
        "scaled_numpy_array_vecs = scaler.fit_transform(numpy_array_vecs)\n",
        "\n",
        "\n",
        "for scaled_numpy_array_vec in scaled_numpy_array_vecs:\n",
        "  normalized_bert_tensors.append(torch.from_numpy(scaled_numpy_array_vec))\n",
        "\n",
        "\n",
        "numpy_normalized_bert_tensors = [np.array(x) for x in normalized_bert_tensors]\n",
        "\n"
      ],
      "metadata": {
        "id": "gIc1d4hAVhTt"
      },
      "execution_count": 21,
      "outputs": []
    },
    {
      "cell_type": "markdown",
      "metadata": {
        "id": "Kk-rqR06GxR9"
      },
      "source": [
        "## apply standadization to torch vectors before applying dimensionality reduction ##\n",
        "\n",
        "---\n",
        "\n"
      ]
    },
    {
      "cell_type": "code",
      "execution_count": 22,
      "metadata": {
        "id": "tt9fNj0KFoU3"
      },
      "outputs": [],
      "source": [
        "## glove vectors\n",
        "\n",
        "scaler = StandardScaler()\n",
        "\n",
        "standardized_glove_tensors = []\n",
        "numpy_array_vecs = []\n",
        "\n",
        "# convert tensors to numpy arrays\n",
        "for vec in glove_tensors:\n",
        "  #numpy_array_vecs.append(vec.numpy())\n",
        "  numpy_array_vecs.append(vec)\n",
        "\n",
        "# transform data\n",
        "norm_numpy_array_vecs = scaler.fit_transform(numpy_array_vecs)\n",
        "\n",
        "\n",
        "for norm_numpy_array_vec in norm_numpy_array_vecs:\n",
        "  standardized_glove_tensors.append(torch.from_numpy(norm_numpy_array_vec))\n",
        "\n",
        "\n",
        "numpy_standardized_glove_tensors = [np.array(x) for x in standardized_glove_tensors]\n",
        "\n"
      ]
    },
    {
      "cell_type": "code",
      "source": [
        "## BERT vectors\n",
        "\n",
        "scaler = StandardScaler()\n",
        "\n",
        "standardized_bert_tensors = []\n",
        "numpy_array_vecs = []\n",
        "\n",
        "# convert tensors to numpy arrays\n",
        "for vec in bert_tensors:\n",
        "  #numpy_array_vecs.append(vec.numpy())\n",
        "  numpy_array_vecs.append(vec.numpy())\n",
        "\n",
        "# transform data\n",
        "normalized_numpy_array_vecs = scaler.fit_transform(numpy_array_vecs)\n",
        "\n",
        "\n",
        "for normalized_numpy_array_vec in normalized_numpy_array_vecs:\n",
        "  standardized_bert_tensors.append(torch.from_numpy(scaled_numpy_array_vec))\n",
        "\n",
        "numpy_standardized_bert_tensors = [np.array(x) for x in standardized_bert_tensors]\n"
      ],
      "metadata": {
        "id": "FIXO3uxPbzac"
      },
      "execution_count": 23,
      "outputs": []
    },
    {
      "cell_type": "code",
      "source": [
        "print(glove_tensors[0].shape)\n",
        "print(numpy_normalized_glove_tensors[0].shape)\n",
        "print(numpy_standardized_glove_tensors[0].shape)\n",
        "print(bert_tensors[0].shape)\n",
        "print(numpy_normalized_bert_tensors[0].shape)\n",
        "print(numpy_standardized_bert_tensors[0].shape)\n",
        "print(len(glove_tensors))\n",
        "print(len(numpy_normalized_glove_tensors))\n",
        "print(len(numpy_standardized_glove_tensors))\n",
        "print(len(bert_tensors))\n",
        "print(len(numpy_normalized_bert_tensors))\n",
        "print(len(numpy_standardized_bert_tensors))"
      ],
      "metadata": {
        "colab": {
          "base_uri": "https://localhost:8080/"
        },
        "id": "YNTUulellU8l",
        "outputId": "eb5562b6-ee82-4c86-f4db-3e46b4ea22e4"
      },
      "execution_count": 24,
      "outputs": [
        {
          "output_type": "stream",
          "name": "stdout",
          "text": [
            "(300,)\n",
            "(300,)\n",
            "(300,)\n",
            "torch.Size([1024])\n",
            "(1024,)\n",
            "(1024,)\n",
            "29209\n",
            "29209\n",
            "29209\n",
            "29335\n",
            "29335\n",
            "29335\n"
          ]
        }
      ]
    },
    {
      "cell_type": "code",
      "source": [
        "glove_relations['glove_embeddings']=glove_tensors\n",
        "glove_relations['glove_normalized_embeddings']=numpy_normalized_glove_tensors\n",
        "glove_relations['glove_standardized_embeddings']=numpy_standardized_glove_tensors"
      ],
      "metadata": {
        "id": "LdiNF_7BlU4m"
      },
      "execution_count": 25,
      "outputs": []
    },
    {
      "cell_type": "markdown",
      "source": [
        "## create a mapping from RelationHead --> NormalizedVector##\n",
        "\n",
        "### this is only needed for static vectors (glove), as their embedding does not change over different verb instances in-context###"
      ],
      "metadata": {
        "id": "GtcvN02ayuw4"
      }
    },
    {
      "cell_type": "code",
      "source": [
        "Relation_Head_Normalized_Vector_Map = dict()\n",
        "Relation_Head_Standardized_Vector_Map = dict()\n",
        "\n",
        "grouping_normalized = glove_relations.groupby('RelationHead')['RelationHeadLemma','glove_normalized_embeddings'].first().reset_index()\n",
        "grouping_standardized = glove_relations.groupby('RelationHead')['RelationHeadLemma','glove_standardized_embeddings'].first().reset_index()\n",
        "\n",
        "for index, row in grouping_normalized.iterrows():\n",
        "  Relation_Head_Normalized_Vector_Map[row['RelationHead']]=row['glove_normalized_embeddings']\n",
        "\n",
        "for index, row in grouping_standardized.iterrows():\n",
        "  Relation_Head_Standardized_Vector_Map[row['RelationHead']]=row['glove_standardized_embeddings']\n",
        "\n",
        "numpy_normalized_glove_tensors_values = [i for i in Relation_Head_Normalized_Vector_Map.values()]\n",
        "numpy_standardized_glove_tensors_values = [i for i in Relation_Head_Standardized_Vector_Map.values()]"
      ],
      "metadata": {
        "id": "JorMgK1BzG2j"
      },
      "execution_count": 26,
      "outputs": []
    },
    {
      "cell_type": "code",
      "source": [
        "len(numpy_standardized_glove_tensors_values)"
      ],
      "metadata": {
        "colab": {
          "base_uri": "https://localhost:8080/"
        },
        "id": "Z0Ht2dQ4jfxS",
        "outputId": "a92e9250-11a2-4fc5-e41d-718af32e1806"
      },
      "execution_count": 27,
      "outputs": [
        {
          "output_type": "execute_result",
          "data": {
            "text/plain": [
              "2844"
            ]
          },
          "metadata": {},
          "execution_count": 27
        }
      ]
    },
    {
      "cell_type": "markdown",
      "source": [
        "## Apply UMAP with hyperparameter combinations: ##\n",
        "\n",
        "UMAP enhanced clustering\n",
        "Our goal is to make use of UMAP to perform non-linear manifold aware dimension\n",
        " reduction so we can get the dataset down to a number of dimensions small enough for a density based clustering algorithm to make progress. One advantage of UMAP for this is that it doesn’t require you to reduce to only two dimensions you can reduce to 10 dimensions instead since the goal is to cluster, not visualize, and the performance cost with UMAP is minimal. In a simple dataset you can push it all the way down to only two dimensions, but in general you should explore different embedding dimension options.\n",
        "The next thing to be aware of is that when using UMAP for dimension reduction you will want to select different parameters than if you were using it for visualization.\n",
        "First of all we will want a larger n_neighbors value - small values will focus more on very local structure and are more prone to producing fine grained cluster structure that may be more a result of patterns of noise in the data than actual clusters. In this case we’ll double it from the default 15 up to 30.\n",
        "Second it is beneficial to set min_dist to a very low value. Since we actually want to pack points together densely (density is what we want after all) a low value will help, as well as making cleaner separations between clusters. In this case we will simply set min_dist to be 0.\n",
        "defauls are n_neighbors=15,min_dist=0.1,n_components=2"
      ],
      "metadata": {
        "id": "QiTzQFNRUIsc"
      }
    },
    {
      "cell_type": "code",
      "source": [
        "def visualizeClustering(row,clusterable_embedding,labels,df, path, map_cluster_representative):\n",
        "\n",
        "  labelsNonNegative = [num for num in labels if num >=0]\n",
        "\n",
        "  norm = mpl.colors.Normalize(vmin=0, vmax=labels.max())\n",
        "  cmap = mpl.cm.get_cmap('Spectral')\n",
        "  colors = [norm(x) for x in range(labels.max())]\n",
        "  clustered_umap = (labels >= 0)\n",
        "\n",
        "  fig = plt.figure(figsize=(25, 25))\n",
        "  titleString ='embedding_type:' +  str(row['embedding']) + '\\n' + 'UMAP_n_neighbors:'+ str(row['UMAP-n_neighbors']) + '\\n' + 'UMAP_n_components:' + str(row['UMAP-n_components'])  + '\\n' + 'UMAP_metric:' + str(row['UMAP-metric']) + '\\n' + 'UMAP_min_dist:'+ str(row['UMAP-min_dist']) + '\\n' + 'HDBSCAN-min_cluster_size:'+ str(row['HDBSCAN-min_cluster_size']) + '\\n' + 'HDBSCAN-min_samples:' + str(row['HDBSCAN-min_samples']) + '\\n' + 'HDBSCAN-cluster_selection_epsilon:' + str(row['HDBSCAN-cluster_selection_epsilon']) + '\\n' +'CLUSTERS-NUM:'+ str(row['CLUSTERS-NUM']) + '\\n' +'CLUSTERING-PERCENTAGE:'+ str(row['CLUSTERING-PERCENTAGE']) + '\\n' +'SILHOUETTE:'+ str(row['CLUSTERING-SILHOUETTE_CLUSTRED'])\n",
        "  fig.suptitle(titleString, fontsize=16)\n",
        "\n",
        "  if int(row['UMAP-n_components']) == 2:\n",
        "    #x = clusterable_embedding[:, 0]\n",
        "    #y = clusterable_embedding[:, 1]\n",
        "    ax = fig.add_subplot(111)\n",
        "    ax.scatter(clusterable_embedding[~clustered_umap, 0],\n",
        "                clusterable_embedding[~clustered_umap, 1],\n",
        "                color=(0.5, 0.5, 0.5),s=7,alpha=0.5,label='unclusterable')\n",
        "    labels_ = np.unique(labelsNonNegative)\n",
        "    #print(labels_)\n",
        "    for label,color in zip(labels_,colors):\n",
        "      ax.scatter(clusterable_embedding[np.where(labels == label),0],\n",
        "                    clusterable_embedding[np.where(labels == label),1],\n",
        "                    c=cmap(color),\n",
        "                    s=7,\n",
        "                    cmap='Spectral',\n",
        "                    label=map_cluster_representative[label])\n",
        "    # Add a title\n",
        "    #fig.subplots_adjust(bottom=0.2)\n",
        "    #titleString ='embedding_type:' +  str(row['embedding']) + '\\n' + '_n_neighbors:'+ str(row['UMAP-n_neighbors']) + '\\n' + '_n_components:'+ str(row['UMAP-n_components'])  +'\\n' + '_metric:'+ str(row['UMAP-metric']) + '\\n' + '_min_dist:'+ str(row['UMAP-min_dist']) +'\\n' + 'HDBSCAN-min_cluster_size:'+ str(row['HDBSCAN-min_cluster_size']) +'\\n' +'CLUSTERS-NUM:'+ str(row['CLUSTERS-NUM']) + '\\n' +'CLUSTERING-PERCENTAGE:'+ str(row['CLUSTERING-PERCENTAGE']) + '\\n' +'SILHOUETTE:'+ str(row['CLUSTERING-SILHOUETTE_CLUSTRED'])\n",
        "    #legend = ax.legend(title=titleString,loc='upper center',bbox_transform=fig.transFigure, title_fontsize=10, ncol=8)\n",
        "    #deactivating annotation for now\n",
        "    #for i, txt in enumerate(df['RelationHead']):\n",
        "    #  ax.text(x[i], y[i], s=txt, fontsize=8 )\n",
        "\n",
        "\n",
        "  if int(row['UMAP-n_components']) == 3:\n",
        "    #x = clusterable_embedding[:, 0]\n",
        "    #y = clusterable_embedding[:, 1]\n",
        "    #z = clusterable_embedding[:, 2]\n",
        "    ax = fig.add_subplot(111, projection='3d')\n",
        "\n",
        "    ax.scatter(clusterable_embedding[~clustered_umap, 0],\n",
        "                clusterable_embedding[~clustered_umap, 1],\n",
        "                clusterable_embedding[~clustered_umap, 2],\n",
        "                color=(0.5, 0.5, 0.5),s=7,alpha=0.5,label='unclusterable')\n",
        "    labels_ = np.unique(labelsNonNegative)\n",
        "    #print(labels_)\n",
        "    for label,color in zip(labels_,colors):\n",
        "      ax.scatter(clusterable_embedding[np.where(labels == label),0],\n",
        "                 clusterable_embedding[np.where(labels == label),1],\n",
        "                 clusterable_embedding[np.where(labels == label),2],\n",
        "                 c=cmap(color),\n",
        "                 s=7,\n",
        "                 cmap='Spectral',\n",
        "                 label=map_cluster_representative[label])\n",
        "\n",
        "    # Add a title\n",
        "    #fig.subplots_adjust(bottom=0.2)\n",
        "    #titleString ='embedding_type:' +  str(row['embedding']) + '\\n' + '_n_neighbors:'+ str(row['UMAP-n_neighbors']) + '\\n' + '_n_components:'+ str(row['UMAP-n_components'])  +'\\n' + '_metric:'+ str(row['UMAP-metric']) + '\\n' + '_min_dist:'+ str(row['UMAP-min_dist']) +'\\n' + 'HDBSCAN-min_cluster_size:'+ str(row['HDBSCAN-min_cluster_size']) +'\\n' +'CLUSTERS-NUM:'+ str(row['CLUSTERS-NUM']) + '\\n' +'CLUSTERING-PERCENTAGE:'+ str(row['CLUSTERING-PERCENTAGE']) + '\\n' +'SILHOUETTE:'+ str(row['CLUSTERING-SILHOUETTE_CLUSTRED'])\n",
        "    #legend = ax.legend(title=titleString,loc=\"upper center\",bbox_transform=fig.transFigure, title_fontsize=10, ncol=8)\n",
        "    #for i, txt in enumerate(df['RelationHead']):\n",
        "     # ax.text(x[i], y[i], z[i],s=txt, fontsize=4 )\n",
        "  save_fig('clustered_UMAP_tweets_relations_100k_tweets_' + 'embedding_type:' + str(row['embedding']) + 'UMAP_n_neighbors:'+ str(row['UMAP-n_neighbors']) + 'UMAP_n_components:'+ str(row['UMAP-n_components']) + 'UMAP_metric:'+ str(row['UMAP-metric']) + 'UMAP_min_dist:'+ str(row['UMAP-min_dist']) + 'HDBSCAN-min_cluster_size:'+ str(row['HDBSCAN-min_cluster_size']) + 'HDBSCAN-min_samples:'+ str(row['HDBSCAN-min_samples']) + 'HDBSCAN-cluster_selection_epsilon:'+ str(row['HDBSCAN-cluster_selection_epsilon']), path)\n",
        "  #plt.show()\n"
      ],
      "metadata": {
        "id": "XBXzb75ve2EU"
      },
      "execution_count": 112,
      "outputs": []
    },
    {
      "cell_type": "code",
      "source": [
        "def print_cluster_descriptions_frequency_for_hdbscan(labels,silhouette,data,row,folder):\n",
        "  filename = 'cluster_description_100k_tweets_' + 'NUM_CLUSTERS:'+ str(row['CLUSTERS-NUM']) + 'UMAP_n_neighbors:'+ str(row['UMAP-n_neighbors']) + 'UMAP_n_components:'+ str(row['UMAP-n_components']) + 'UMAP_metric:'+ str(row['UMAP-metric']) + 'UMAP_min_dist:'+ str(row['UMAP-min_dist']) + 'HDBSCAN-min_cluster_size:'+ str(row['HDBSCAN-min_cluster_size']) + 'HDBSCAN-min_samples:'+ str(row['HDBSCAN-min_samples']) + 'HDBSCAN-cluster_selection_epsilon:'+ str(row['HDBSCAN-cluster_selection_epsilon']) + '.txt'\n",
        "  with open(os.path.join(folder,filename), 'w') as file:\n",
        "    file.write('total number of clusters: ' + str(labels.max()))\n",
        "    file.write('\\n')\n",
        "    clustered_umap = (labels >= 0)\n",
        "    numberOfClustered_umap = np.sum(clustered_umap) / len(data)\n",
        "    file.write(\"*** percentage of Clustered items = \"+str(numberOfClustered_umap))\n",
        "    file.write('\\n')\n",
        "    file.write('silhouette_score: ' + str(silhouette))\n",
        "    file.write('\\n')\n",
        "    map_instance_representative = dict()\n",
        "    map_cluster_representative = dict()\n",
        "    for i in range(labels.max()):\n",
        "\n",
        "      indexes_cluster_i = [m for m,label in enumerate(labels) if label==i  ]\n",
        "      file.write('cluster:' + str(i))\n",
        "      df = pd.DataFrame([data.iloc[n] for n in indexes_cluster_i], columns=['RelationHead','RelationHeadLemma'])\n",
        "      #print(df)\n",
        "      instances_string = df['RelationHead'].astype(str).tolist()\n",
        "      df_group = df.groupby(['RelationHeadLemma'], as_index=False).count()\n",
        "      #print(df_group)\n",
        "      file.write('  ')\n",
        "      #file.write('\\n')\n",
        "      #file.write(df_group.to_string())\n",
        "      #file.write('\\n')\n",
        "      most_frequent_lemma = df_group.iloc[int(df_group['RelationHead'].idxmax())]['RelationHeadLemma']\n",
        "      #print(most_frequent_lemma)\n",
        "      map_cluster_representative[i]=most_frequent_lemma\n",
        "      for ind in indexes_cluster_i:\n",
        "        map_instance_representative[data.iloc[ind]['RelationHead']]=most_frequent_lemma\n",
        "      file.write('cluster representative lemma: ' + str(most_frequent_lemma))\n",
        "      file.write('\\n')\n",
        "      file.write(' instances: ')\n",
        "      file.write(str(instances_string))\n",
        "      file.write('\\n')\n",
        "      file.write('*********************************')\n",
        "      file.write('\\n')\n",
        "\n",
        "    return map_instance_representative,map_cluster_representative"
      ],
      "metadata": {
        "id": "zH16o1n0eBoY"
      },
      "execution_count": 130,
      "outputs": []
    },
    {
      "cell_type": "code",
      "source": [
        "def writeRelationMappingFile(path,row,dic_data):\n",
        "  filename = 'relation_mapping_100k_tweets_' +  'NUM_CLUSTERS:'+ str(row['CLUSTERS-NUM']) + 'UMAP_n_neighbors:'+ str(row['UMAP-n_neighbors']) + 'UMAP_n_components:'+ str(row['UMAP-n_components']) + 'UMAP_metric:'+ str(row['UMAP-metric']) + 'UMAP_min_dist:'+ str(row['UMAP-min_dist']) + 'HDBSCAN-min_cluster_size:'+ str(row['HDBSCAN-min_cluster_size']) + 'HDBSCAN-min_samples:'+ str(row['HDBSCAN-min_samples']) + 'HDBSCAN-cluster_selection_epsilon:'+ str(row['HDBSCAN-cluster_selection_epsilon']) + '.csv'\n",
        "  csv_columns = ['relation','normalized']\n",
        "  try:\n",
        "    with open(os.path.join(os.path.join(path,'relationMappings'),filename), 'w') as csvfile:\n",
        "      for key in dic_data.keys():\n",
        "        csvfile.write(\"%s,%s\\n\"%(key,dic_data[key]))\n",
        "  except IOError:\n",
        "    print(\"I/O error\")\n"
      ],
      "metadata": {
        "id": "LclmBjCMgOVW"
      },
      "execution_count": 131,
      "outputs": []
    },
    {
      "cell_type": "markdown",
      "source": [
        "### slicing relations and vectors for testing ##"
      ],
      "metadata": {
        "id": "BpbO-vZ6Aoar"
      }
    },
    {
      "cell_type": "code",
      "source": [
        "#bert_relations_sliced = bert_relations[0:10000]\n",
        "\n",
        "embedding_type_dict = dict()\n",
        "#embedding_type_dict['glove-normalized']=numpy_normalized_glove_tensors_values\n",
        "#embedding_type_dict['glove-standardized']=numpy_standardized_glove_tensors_values\n",
        "embedding_type_dict['bert-normalized']=numpy_normalized_bert_tensors\n",
        "embedding_type_dict['bert-standardized']=numpy_standardized_bert_tensors"
      ],
      "metadata": {
        "id": "8P46FIj8AnqM"
      },
      "execution_count": 141,
      "outputs": []
    },
    {
      "cell_type": "code",
      "source": [
        "df_tweakingParams = pd.DataFrame(columns=['embedding','UMAP-min_dist','UMAP-n_neighbors','UMAP-n_components','UMAP-metric','HDBSCAN-min_cluster_size','HDBSCAN-min_samples','HDBSCAN-cluster_selection_epsilon', 'CLUSTERS-NUM', 'CLUSTERING-PERCENTAGE', 'CLUSTERING-SILHOUETTE','CLUSTERING-SILHOUETTE_CLUSTRED', 'ORDERING_SCORE'])\n",
        "umap_embedding_map = dict()\n",
        "\n",
        "hdbscan_clustering_map = dict()\n",
        "\n",
        "## UMPA paramaters\n",
        "min_dist_values = [0.0] #default is 0.1\n",
        "n_neighbors_values = [5, 10, 50]\n",
        "#n_neighbors_values = [2, 5, 10, 50, 100]\n",
        "#n_components_values = [2, 3]  #default is 2\n",
        "n_components_values = [2, 3, 10]  #default is 2\n",
        "metric_values = [\"cosine\"] #default is euclidean\n",
        "\n",
        "## HDBScan paramaters\n",
        "min_cluster_size_values =[3,5,10,15]  #default is 5\n",
        "#min_cluster_size_values =[3, 5]  #default is 5\n",
        "min_samples_values=[None, 1, 3, 5, 10] #default is None\n",
        "#min_samples_values=[None, 1, 3] #default is None\n",
        "\n",
        "cluster_selection_epsilon_values = [0.0, 0.5]  #default is 0\n",
        "\n",
        "\n",
        "for embedding_type in embedding_type_dict.keys():\n",
        "  for n_neighbors in n_neighbors_values:\n",
        "      for n_components in n_components_values:\n",
        "          for metric in metric_values:\n",
        "              for min_dist in min_dist_values:\n",
        "                print(\"\\n\\n...launch UMAP with n_neighbors = \"+str(n_neighbors)+ \" - n_components = \"+str(n_components)+ \" - min_dist = \"+str(min_dist) + \" - metric = \"+str(metric))\n",
        "                umapModel = umap.UMAP(low_memory=False, random_state=42, min_dist=min_dist, n_neighbors=n_neighbors, n_components=n_components, metric=metric)\n",
        "                clusterable_embedding = umapModel.fit_transform(embedding_type_dict[embedding_type])\n",
        "                umap_embedding_map[(embedding_type,n_neighbors,n_components,metric,min_dist)]=clusterable_embedding\n",
        "\n",
        "print(\"UMAP total hyperparams combinations = \",len(umap_embedding_map.keys()))\n",
        "\n",
        "\n",
        "for umap_params in umap_embedding_map.keys():\n",
        "  for min_cluster_size_ in min_cluster_size_values:\n",
        "      for min_samples_ in min_samples_values:\n",
        "          for cluster_selection_epsilon_ in cluster_selection_epsilon_values:\n",
        "            print('clustering...')\n",
        "            clusterer = hdbscan.HDBSCAN(min_cluster_size=min_cluster_size_, min_samples=min_samples_, cluster_selection_epsilon=cluster_selection_epsilon_)\n",
        "            embedding=umap_embedding_map[umap_params]\n",
        "            #print(embedding)\n",
        "            hdbscan_labels_umap = clusterer.fit_predict(embedding)\n",
        "            #print(hdbscan_labels_umap)\n",
        "            clustered_umap = (hdbscan_labels_umap >= 0)\n",
        "            #print(clustered_umap)\n",
        "\n",
        "\n",
        "            hdbscan_clustering_map[(umap_params,min_cluster_size_,min_samples_,cluster_selection_epsilon_)]=(hdbscan_labels_umap,clusterer.exemplars_)\n",
        "\n",
        "\n",
        "            if max(hdbscan_labels_umap) > -1:\n",
        "                # Number of clusters in labels, ignoring noise if present.\n",
        "                n_clusters_ = len(set(hdbscan_labels_umap)) - (1 if -1 in hdbscan_labels_umap else 0)\n",
        "                n_noise_ = list(hdbscan_labels_umap).count(-1)\n",
        "                sil_score = silhouette_score(embedding, hdbscan_labels_umap)\n",
        "                numberOfClustered_umap = np.sum(clustered_umap) / len(embedding)\n",
        "                sil_score_clustered = silhouette_score(list(compress(embedding, clustered_umap)),list(compress(hdbscan_labels_umap, clustered_umap)))\n",
        "                new_row = {'embedding':umap_params[0],'UMAP-min_dist': umap_params[4], 'UMAP-n_neighbors': umap_params[1], 'UMAP-n_components': umap_params[2], 'UMAP-metric': umap_params[3],\n",
        "                              'HDBSCAN-min_cluster_size': min_cluster_size_, 'HDBSCAN-min_samples': min_samples_,\n",
        "                              'HDBSCAN-cluster_selection_epsilon': cluster_selection_epsilon_, 'CLUSTERS-NUM': n_clusters_,\n",
        "                              'CLUSTERING-PERCENTAGE': numberOfClustered_umap, 'CLUSTERING-SILHOUETTE': sil_score, 'CLUSTERING-SILHOUETTE_CLUSTRED':sil_score_clustered, 'ORDERING_SCORE':sil_score_clustered*numberOfClustered_umap}\n",
        "                df_tweakingParams = pd.concat([df_tweakingParams, pd.DataFrame.from_records([new_row])]).reset_index(drop=True)\n",
        "\n",
        "            else:\n",
        "                print(\"Number of clusters < 1...method was not able to cluster the data\")\n",
        "                new_row = {'embedding':umap_params[0],'UMAP-min_dist': umap_params[4], 'UMAP-n_neighbors': umap_params[1], 'UMAP-n_components': umap_params[2], 'UMAP-metric': umap_params[3],\n",
        "                            'HDBSCAN-min_cluster_size': min_cluster_size_,\n",
        "                            'HDBSCAN-min_samples': min_samples_,\n",
        "                            'HDBSCAN-cluster_selection_epsilon': cluster_selection_epsilon_,\n",
        "                            'CLUSTERS-NUM': 0,\n",
        "                            'CLUSTERING-PERCENTAGE': 0,\n",
        "                            'CLUSTERING-SILHOUETTE': None,\n",
        "                            'CLUSTERING-SILHOUETTE_CLUSTRED': None,\n",
        "                            'ORDERING_SCORE': None}\n",
        "                df_tweakingParams = pd.concat([df_tweakingParams, pd.DataFrame.from_records([new_row])]).reset_index(drop=True)\n",
        "\n",
        "print(\"UMAP-HDBScan total hyperparams combinations = \",len(df_tweakingParams))\n"
      ],
      "metadata": {
        "id": "v3PX8EiDUPE0",
        "colab": {
          "base_uri": "https://localhost:8080/"
        },
        "outputId": "df526bd4-315f-44eb-b695-c78c721940ef"
      },
      "execution_count": 142,
      "outputs": [
        {
          "output_type": "stream",
          "name": "stdout",
          "text": [
            "\n",
            "\n",
            "...launch UMAP with n_neighbors = 5 - n_components = 2 - min_dist = 0.0 - metric = cosine\n",
            "\n",
            "\n",
            "...launch UMAP with n_neighbors = 5 - n_components = 3 - min_dist = 0.0 - metric = cosine\n",
            "\n",
            "\n",
            "...launch UMAP with n_neighbors = 5 - n_components = 10 - min_dist = 0.0 - metric = cosine\n",
            "\n",
            "\n",
            "...launch UMAP with n_neighbors = 10 - n_components = 2 - min_dist = 0.0 - metric = cosine\n",
            "\n",
            "\n",
            "...launch UMAP with n_neighbors = 10 - n_components = 3 - min_dist = 0.0 - metric = cosine\n",
            "\n",
            "\n",
            "...launch UMAP with n_neighbors = 10 - n_components = 10 - min_dist = 0.0 - metric = cosine\n",
            "\n",
            "\n",
            "...launch UMAP with n_neighbors = 50 - n_components = 2 - min_dist = 0.0 - metric = cosine\n",
            "\n",
            "\n",
            "...launch UMAP with n_neighbors = 50 - n_components = 3 - min_dist = 0.0 - metric = cosine\n",
            "\n",
            "\n",
            "...launch UMAP with n_neighbors = 50 - n_components = 10 - min_dist = 0.0 - metric = cosine\n",
            "\n",
            "\n",
            "...launch UMAP with n_neighbors = 5 - n_components = 2 - min_dist = 0.0 - metric = cosine\n",
            "\n",
            "\n",
            "...launch UMAP with n_neighbors = 5 - n_components = 3 - min_dist = 0.0 - metric = cosine\n",
            "\n",
            "\n",
            "...launch UMAP with n_neighbors = 5 - n_components = 10 - min_dist = 0.0 - metric = cosine\n",
            "\n",
            "\n",
            "...launch UMAP with n_neighbors = 10 - n_components = 2 - min_dist = 0.0 - metric = cosine\n",
            "\n",
            "\n",
            "...launch UMAP with n_neighbors = 10 - n_components = 3 - min_dist = 0.0 - metric = cosine\n",
            "\n",
            "\n",
            "...launch UMAP with n_neighbors = 10 - n_components = 10 - min_dist = 0.0 - metric = cosine\n",
            "\n",
            "\n",
            "...launch UMAP with n_neighbors = 50 - n_components = 2 - min_dist = 0.0 - metric = cosine\n",
            "\n",
            "\n",
            "...launch UMAP with n_neighbors = 50 - n_components = 3 - min_dist = 0.0 - metric = cosine\n",
            "\n",
            "\n",
            "...launch UMAP with n_neighbors = 50 - n_components = 10 - min_dist = 0.0 - metric = cosine\n",
            "UMAP total hyperparams combinations =  18\n",
            "clustering...\n",
            "clustering...\n",
            "clustering...\n",
            "clustering...\n",
            "clustering...\n",
            "clustering...\n",
            "clustering...\n",
            "clustering...\n",
            "clustering...\n",
            "clustering...\n",
            "clustering...\n",
            "clustering...\n",
            "clustering...\n",
            "clustering...\n",
            "clustering...\n",
            "clustering...\n",
            "clustering...\n",
            "clustering...\n",
            "clustering...\n",
            "clustering...\n",
            "clustering...\n",
            "clustering...\n",
            "clustering...\n",
            "clustering...\n",
            "clustering...\n",
            "clustering...\n",
            "clustering...\n",
            "clustering...\n",
            "clustering...\n",
            "clustering...\n",
            "clustering...\n",
            "clustering...\n",
            "clustering...\n",
            "clustering...\n",
            "clustering...\n",
            "clustering...\n",
            "clustering...\n",
            "clustering...\n",
            "clustering...\n",
            "clustering...\n",
            "clustering...\n",
            "clustering...\n",
            "clustering...\n",
            "clustering...\n",
            "clustering...\n",
            "clustering...\n",
            "clustering...\n",
            "clustering...\n",
            "clustering...\n",
            "clustering...\n",
            "clustering...\n",
            "clustering...\n",
            "clustering...\n",
            "clustering...\n",
            "clustering...\n",
            "clustering...\n",
            "clustering...\n",
            "clustering...\n",
            "clustering...\n",
            "clustering...\n",
            "clustering...\n",
            "clustering...\n",
            "clustering...\n",
            "clustering...\n",
            "clustering...\n",
            "clustering...\n",
            "clustering...\n",
            "clustering...\n",
            "clustering...\n",
            "clustering...\n",
            "clustering...\n",
            "clustering...\n",
            "clustering...\n",
            "clustering...\n",
            "clustering...\n",
            "clustering...\n",
            "clustering...\n",
            "clustering...\n",
            "clustering...\n",
            "clustering...\n",
            "clustering...\n",
            "clustering...\n",
            "clustering...\n",
            "clustering...\n",
            "clustering...\n",
            "clustering...\n",
            "clustering...\n",
            "clustering...\n",
            "clustering...\n",
            "clustering...\n",
            "clustering...\n",
            "clustering...\n",
            "clustering...\n",
            "clustering...\n",
            "clustering...\n",
            "clustering...\n",
            "clustering...\n",
            "clustering...\n",
            "clustering...\n",
            "clustering...\n",
            "clustering...\n",
            "clustering...\n",
            "clustering...\n",
            "clustering...\n",
            "clustering...\n",
            "clustering...\n",
            "clustering...\n",
            "clustering...\n",
            "clustering...\n",
            "clustering...\n",
            "clustering...\n",
            "clustering...\n",
            "clustering...\n",
            "clustering...\n",
            "clustering...\n",
            "clustering...\n",
            "clustering...\n",
            "clustering...\n",
            "clustering...\n",
            "clustering...\n",
            "clustering...\n",
            "clustering...\n",
            "clustering...\n",
            "clustering...\n",
            "clustering...\n",
            "clustering...\n",
            "clustering...\n",
            "clustering...\n",
            "clustering...\n",
            "clustering...\n",
            "clustering...\n",
            "clustering...\n",
            "clustering...\n",
            "clustering...\n",
            "clustering...\n",
            "clustering...\n",
            "clustering...\n",
            "clustering...\n",
            "clustering...\n",
            "clustering...\n",
            "clustering...\n",
            "clustering...\n",
            "clustering...\n",
            "clustering...\n",
            "clustering...\n",
            "clustering...\n",
            "clustering...\n",
            "clustering...\n",
            "clustering...\n",
            "clustering...\n",
            "clustering...\n",
            "clustering...\n",
            "clustering...\n",
            "clustering...\n",
            "clustering...\n",
            "clustering...\n",
            "clustering...\n",
            "clustering...\n",
            "clustering...\n",
            "clustering...\n",
            "clustering...\n",
            "clustering...\n",
            "clustering...\n",
            "clustering...\n",
            "clustering...\n",
            "clustering...\n",
            "clustering...\n",
            "clustering...\n",
            "clustering...\n",
            "clustering...\n",
            "clustering...\n",
            "clustering...\n",
            "clustering...\n",
            "clustering...\n",
            "clustering...\n",
            "clustering...\n",
            "clustering...\n",
            "clustering...\n",
            "clustering...\n",
            "clustering...\n",
            "clustering...\n",
            "clustering...\n",
            "clustering...\n",
            "clustering...\n",
            "clustering...\n",
            "clustering...\n",
            "clustering...\n",
            "clustering...\n",
            "clustering...\n",
            "clustering...\n",
            "clustering...\n",
            "clustering...\n",
            "clustering...\n",
            "clustering...\n",
            "clustering...\n",
            "clustering...\n",
            "clustering...\n",
            "clustering...\n",
            "clustering...\n",
            "clustering...\n",
            "clustering...\n",
            "clustering...\n",
            "clustering...\n",
            "clustering...\n",
            "clustering...\n",
            "clustering...\n",
            "clustering...\n",
            "clustering...\n",
            "clustering...\n",
            "clustering...\n",
            "clustering...\n",
            "clustering...\n",
            "clustering...\n",
            "clustering...\n",
            "clustering...\n",
            "clustering...\n",
            "clustering...\n",
            "clustering...\n",
            "clustering...\n",
            "clustering...\n",
            "clustering...\n",
            "clustering...\n",
            "clustering...\n",
            "clustering...\n",
            "clustering...\n",
            "clustering...\n",
            "clustering...\n",
            "clustering...\n",
            "clustering...\n",
            "clustering...\n",
            "clustering...\n",
            "clustering...\n",
            "clustering...\n",
            "clustering...\n",
            "clustering...\n",
            "clustering...\n",
            "clustering...\n",
            "clustering...\n",
            "clustering...\n",
            "clustering...\n",
            "clustering...\n",
            "clustering...\n",
            "clustering...\n",
            "clustering...\n",
            "clustering...\n",
            "clustering...\n",
            "clustering...\n",
            "clustering...\n",
            "clustering...\n",
            "clustering...\n",
            "clustering...\n",
            "clustering...\n",
            "clustering...\n",
            "clustering...\n",
            "clustering...\n",
            "clustering...\n",
            "clustering...\n",
            "clustering...\n",
            "clustering...\n",
            "clustering...\n",
            "clustering...\n",
            "clustering...\n",
            "clustering...\n",
            "clustering...\n",
            "clustering...\n",
            "clustering...\n",
            "clustering...\n",
            "clustering...\n",
            "clustering...\n",
            "clustering...\n",
            "clustering...\n",
            "clustering...\n",
            "clustering...\n",
            "clustering...\n",
            "clustering...\n",
            "clustering...\n",
            "clustering...\n",
            "clustering...\n",
            "clustering...\n",
            "clustering...\n",
            "clustering...\n",
            "clustering...\n",
            "clustering...\n",
            "clustering...\n",
            "clustering...\n",
            "clustering...\n",
            "clustering...\n",
            "clustering...\n",
            "clustering...\n",
            "clustering...\n",
            "clustering...\n",
            "clustering...\n",
            "clustering...\n",
            "clustering...\n",
            "clustering...\n",
            "clustering...\n",
            "clustering...\n",
            "clustering...\n",
            "clustering...\n",
            "clustering...\n",
            "clustering...\n",
            "clustering...\n",
            "clustering...\n",
            "clustering...\n",
            "clustering...\n",
            "clustering...\n",
            "clustering...\n",
            "clustering...\n",
            "clustering...\n",
            "clustering...\n",
            "clustering...\n",
            "clustering...\n",
            "clustering...\n",
            "clustering...\n",
            "clustering...\n",
            "clustering...\n",
            "clustering...\n",
            "clustering...\n",
            "clustering...\n",
            "clustering...\n",
            "clustering...\n",
            "clustering...\n",
            "clustering...\n",
            "clustering...\n",
            "clustering...\n",
            "clustering...\n",
            "clustering...\n",
            "clustering...\n",
            "clustering...\n",
            "clustering...\n",
            "clustering...\n",
            "clustering...\n",
            "clustering...\n",
            "clustering...\n",
            "clustering...\n",
            "clustering...\n",
            "clustering...\n",
            "clustering...\n",
            "clustering...\n",
            "clustering...\n",
            "clustering...\n",
            "clustering...\n",
            "clustering...\n",
            "clustering...\n",
            "clustering...\n",
            "clustering...\n",
            "clustering...\n",
            "clustering...\n",
            "clustering...\n",
            "clustering...\n",
            "clustering...\n",
            "clustering...\n",
            "clustering...\n",
            "clustering...\n",
            "clustering...\n",
            "clustering...\n",
            "clustering...\n",
            "clustering...\n",
            "clustering...\n",
            "clustering...\n",
            "clustering...\n",
            "clustering...\n",
            "clustering...\n",
            "clustering...\n",
            "clustering...\n",
            "clustering...\n",
            "clustering...\n",
            "clustering...\n",
            "clustering...\n",
            "clustering...\n",
            "clustering...\n",
            "clustering...\n",
            "clustering...\n",
            "clustering...\n",
            "clustering...\n",
            "clustering...\n",
            "clustering...\n",
            "clustering...\n",
            "clustering...\n",
            "clustering...\n",
            "clustering...\n",
            "clustering...\n",
            "clustering...\n",
            "clustering...\n",
            "clustering...\n",
            "clustering...\n",
            "clustering...\n",
            "clustering...\n",
            "clustering...\n",
            "clustering...\n",
            "clustering...\n",
            "clustering...\n",
            "clustering...\n",
            "clustering...\n",
            "clustering...\n",
            "clustering...\n",
            "clustering...\n",
            "clustering...\n",
            "clustering...\n",
            "clustering...\n",
            "clustering...\n",
            "clustering...\n",
            "clustering...\n",
            "clustering...\n",
            "clustering...\n",
            "clustering...\n",
            "clustering...\n",
            "clustering...\n",
            "clustering...\n",
            "clustering...\n",
            "clustering...\n",
            "clustering...\n",
            "clustering...\n",
            "clustering...\n",
            "clustering...\n",
            "clustering...\n",
            "clustering...\n",
            "clustering...\n",
            "clustering...\n",
            "clustering...\n",
            "clustering...\n",
            "clustering...\n",
            "clustering...\n",
            "clustering...\n",
            "clustering...\n",
            "clustering...\n",
            "clustering...\n",
            "clustering...\n",
            "clustering...\n",
            "clustering...\n",
            "clustering...\n",
            "clustering...\n",
            "clustering...\n",
            "clustering...\n",
            "clustering...\n",
            "clustering...\n",
            "clustering...\n",
            "clustering...\n",
            "clustering...\n",
            "clustering...\n",
            "clustering...\n",
            "clustering...\n",
            "clustering...\n",
            "clustering...\n",
            "clustering...\n",
            "clustering...\n",
            "clustering...\n",
            "clustering...\n",
            "clustering...\n",
            "clustering...\n",
            "clustering...\n",
            "clustering...\n",
            "clustering...\n",
            "clustering...\n",
            "clustering...\n",
            "clustering...\n",
            "clustering...\n",
            "clustering...\n",
            "clustering...\n",
            "clustering...\n",
            "clustering...\n",
            "clustering...\n",
            "clustering...\n",
            "clustering...\n",
            "clustering...\n",
            "clustering...\n",
            "clustering...\n",
            "clustering...\n",
            "clustering...\n",
            "clustering...\n",
            "clustering...\n",
            "clustering...\n",
            "clustering...\n",
            "clustering...\n",
            "clustering...\n",
            "clustering...\n",
            "clustering...\n",
            "clustering...\n",
            "clustering...\n",
            "clustering...\n",
            "clustering...\n",
            "clustering...\n",
            "clustering...\n",
            "clustering...\n",
            "clustering...\n",
            "clustering...\n",
            "clustering...\n",
            "clustering...\n",
            "clustering...\n",
            "clustering...\n",
            "clustering...\n",
            "clustering...\n",
            "clustering...\n",
            "clustering...\n",
            "clustering...\n",
            "clustering...\n",
            "clustering...\n",
            "clustering...\n",
            "clustering...\n",
            "clustering...\n",
            "clustering...\n",
            "clustering...\n",
            "clustering...\n",
            "clustering...\n",
            "clustering...\n",
            "clustering...\n",
            "clustering...\n",
            "clustering...\n",
            "clustering...\n",
            "clustering...\n",
            "clustering...\n",
            "clustering...\n",
            "clustering...\n",
            "clustering...\n",
            "clustering...\n",
            "clustering...\n",
            "clustering...\n",
            "clustering...\n",
            "clustering...\n",
            "clustering...\n",
            "clustering...\n",
            "clustering...\n",
            "clustering...\n",
            "clustering...\n",
            "clustering...\n",
            "clustering...\n",
            "clustering...\n",
            "clustering...\n",
            "clustering...\n",
            "clustering...\n",
            "clustering...\n",
            "clustering...\n",
            "clustering...\n",
            "clustering...\n",
            "clustering...\n",
            "clustering...\n",
            "clustering...\n",
            "clustering...\n",
            "clustering...\n",
            "clustering...\n",
            "clustering...\n",
            "clustering...\n",
            "clustering...\n",
            "clustering...\n",
            "clustering...\n",
            "clustering...\n",
            "clustering...\n",
            "clustering...\n",
            "clustering...\n",
            "clustering...\n",
            "clustering...\n",
            "clustering...\n",
            "clustering...\n",
            "clustering...\n",
            "clustering...\n",
            "clustering...\n",
            "clustering...\n",
            "clustering...\n",
            "clustering...\n",
            "clustering...\n",
            "clustering...\n",
            "clustering...\n",
            "clustering...\n",
            "clustering...\n",
            "clustering...\n",
            "clustering...\n",
            "clustering...\n",
            "clustering...\n",
            "clustering...\n",
            "clustering...\n",
            "clustering...\n",
            "clustering...\n",
            "clustering...\n",
            "clustering...\n",
            "clustering...\n",
            "clustering...\n",
            "clustering...\n",
            "clustering...\n",
            "clustering...\n",
            "clustering...\n",
            "clustering...\n",
            "clustering...\n",
            "clustering...\n",
            "clustering...\n",
            "clustering...\n",
            "clustering...\n",
            "clustering...\n",
            "clustering...\n",
            "clustering...\n",
            "clustering...\n",
            "clustering...\n",
            "clustering...\n",
            "clustering...\n",
            "clustering...\n",
            "clustering...\n",
            "clustering...\n",
            "clustering...\n",
            "clustering...\n",
            "clustering...\n",
            "clustering...\n",
            "clustering...\n",
            "clustering...\n",
            "clustering...\n",
            "clustering...\n",
            "clustering...\n",
            "clustering...\n",
            "clustering...\n",
            "clustering...\n",
            "clustering...\n",
            "clustering...\n",
            "clustering...\n",
            "clustering...\n",
            "clustering...\n",
            "clustering...\n",
            "clustering...\n",
            "clustering...\n",
            "clustering...\n",
            "clustering...\n",
            "clustering...\n",
            "clustering...\n",
            "clustering...\n",
            "clustering...\n",
            "clustering...\n",
            "clustering...\n",
            "clustering...\n",
            "clustering...\n",
            "clustering...\n",
            "clustering...\n",
            "clustering...\n",
            "clustering...\n",
            "clustering...\n",
            "clustering...\n",
            "clustering...\n",
            "clustering...\n",
            "clustering...\n",
            "clustering...\n",
            "clustering...\n",
            "clustering...\n",
            "clustering...\n",
            "clustering...\n",
            "clustering...\n",
            "clustering...\n",
            "clustering...\n",
            "clustering...\n",
            "clustering...\n",
            "clustering...\n",
            "clustering...\n",
            "clustering...\n",
            "clustering...\n",
            "clustering...\n",
            "clustering...\n",
            "clustering...\n",
            "clustering...\n",
            "clustering...\n",
            "clustering...\n",
            "clustering...\n",
            "clustering...\n",
            "clustering...\n",
            "clustering...\n",
            "clustering...\n",
            "clustering...\n",
            "clustering...\n",
            "clustering...\n",
            "clustering...\n",
            "clustering...\n",
            "clustering...\n",
            "clustering...\n",
            "clustering...\n",
            "clustering...\n",
            "clustering...\n",
            "clustering...\n",
            "clustering...\n",
            "clustering...\n",
            "clustering...\n",
            "clustering...\n",
            "clustering...\n",
            "clustering...\n",
            "clustering...\n",
            "clustering...\n",
            "clustering...\n",
            "clustering...\n",
            "clustering...\n",
            "clustering...\n",
            "clustering...\n",
            "clustering...\n",
            "clustering...\n",
            "clustering...\n",
            "clustering...\n",
            "clustering...\n",
            "clustering...\n",
            "clustering...\n",
            "clustering...\n",
            "clustering...\n",
            "clustering...\n",
            "clustering...\n",
            "clustering...\n",
            "clustering...\n",
            "clustering...\n",
            "clustering...\n",
            "clustering...\n",
            "clustering...\n",
            "clustering...\n",
            "clustering...\n",
            "clustering...\n",
            "clustering...\n",
            "clustering...\n",
            "clustering...\n",
            "clustering...\n",
            "clustering...\n",
            "clustering...\n",
            "clustering...\n",
            "clustering...\n",
            "clustering...\n",
            "clustering...\n",
            "clustering...\n",
            "clustering...\n",
            "clustering...\n",
            "clustering...\n",
            "clustering...\n",
            "clustering...\n",
            "UMAP-HDBScan total hyperparams combinations =  720\n"
          ]
        }
      ]
    },
    {
      "cell_type": "code",
      "source": [
        "df_tweakingParams"
      ],
      "metadata": {
        "id": "3txlDlrYwOo0"
      },
      "execution_count": null,
      "outputs": []
    },
    {
      "cell_type": "code",
      "source": [
        "#df_tweakingParams.to_csv(os.path.join(test_folder,'UMAP-HDBScan_hyperparams_scores_news100docs.csv'), encoding=\"utf-8\")\n",
        "df_tweakingParams.to_excel(os.path.join(test_folder, 'UMAP-HDBScan_hyperparams_scores_tweets_100k.xlsx'),encoding=\"utf-8\", engine=\"xlsxwriter\")"
      ],
      "metadata": {
        "id": "jx_wcfyZQl17"
      },
      "execution_count": 35,
      "outputs": []
    },
    {
      "cell_type": "code",
      "source": [
        "glove_df = df_tweakingParams[df_tweakingParams['embedding'].str.startswith('glove')]\n",
        "bert_df = df_tweakingParams[df_tweakingParams['embedding'].str.startswith('bert')]\n"
      ],
      "metadata": {
        "id": "TMgKNdmMJ3Yk"
      },
      "execution_count": 144,
      "outputs": []
    },
    {
      "cell_type": "code",
      "source": [
        "#glove_df.to_excel(os.path.join(test_folder, 'glove_UMAP-HDBScan_hyperparams_scores_tweets_100k.xlsx'),encoding=\"utf-8\", engine=\"xlsxwriter\")\n",
        "bert_df.to_excel(os.path.join(test_folder, 'bert_UMAP-HDBScan_hyperparams_scores_tweets_100k.xlsx'),encoding=\"utf-8\", engine=\"xlsxwriter\")"
      ],
      "metadata": {
        "id": "zSX_5SHeKsMm"
      },
      "execution_count": 145,
      "outputs": []
    },
    {
      "cell_type": "code",
      "source": [
        "# selecting rows based on condition\n",
        "rslt_df = bert_df[bert_df['ORDERING_SCORE'] > 0.85]\n",
        "print(len(rslt_df))"
      ],
      "metadata": {
        "colab": {
          "base_uri": "https://localhost:8080/"
        },
        "id": "HJ851r9FFG_8",
        "outputId": "4bee9020-ccd0-4ca2-b7a7-4e49daba9cab"
      },
      "execution_count": 147,
      "outputs": [
        {
          "output_type": "stream",
          "name": "stdout",
          "text": [
            "64\n"
          ]
        }
      ]
    },
    {
      "cell_type": "markdown",
      "source": [
        "### visualize score variation over number of clusters ###"
      ],
      "metadata": {
        "id": "bHwgo3iz7eAh"
      }
    },
    {
      "cell_type": "code",
      "source": [
        "clustering_tests_news_glove = '/content/drive/MyDrive/PhDThesis/Twitter/tests/news/GLOVE'\n",
        "clustering_tests_news_bert = '/content/drive/MyDrive/PhDThesis/Twitter/tests/news/BERT'\n",
        "clustering_tests_tweets_glove = '/content/drive/MyDrive/PhDThesis/Twitter/tests/GLOVE'\n",
        "clustering_tests_tweets_bert = '/content/drive/MyDrive/PhDThesis/Twitter/tests/BERT'"
      ],
      "metadata": {
        "id": "LdPwfaqPzCXl"
      },
      "execution_count": 148,
      "outputs": []
    },
    {
      "cell_type": "code",
      "source": [
        "ordered_glove_df = glove_df.sort_values(by='CLUSTERS-NUM', ascending=True)\n",
        "plt.figure(figsize=(15, 10))\n",
        "plt.plot(ordered_glove_df['CLUSTERS-NUM'], ordered_glove_df['ORDERING_SCORE'], \"bo-\")\n",
        "plt.xlabel(\"$num_clusters$\", fontsize=14)\n",
        "plt.ylabel(\"Combined_Score\", fontsize=14)\n",
        "plt.show()"
      ],
      "metadata": {
        "colab": {
          "base_uri": "https://localhost:8080/",
          "height": 862
        },
        "id": "-LNEuN8Np--7",
        "outputId": "e0c5beb4-eb37-4854-b807-8436576d8ba8"
      },
      "execution_count": 43,
      "outputs": [
        {
          "output_type": "display_data",
          "data": {
            "text/plain": [
              "<Figure size 1500x1000 with 1 Axes>"
            ],
            "image/png": "[encoded data removed]"
          },
          "metadata": {}
        }
      ]
    },
    {
      "cell_type": "code",
      "source": [
        "ordered_bert_df = bert_df.sort_values(by='CLUSTERS-NUM', ascending=True)\n",
        "plt.figure(figsize=(15, 10))\n",
        "plt.plot(ordered_bert_df['CLUSTERS-NUM'], ordered_bert_df['ORDERING_SCORE'], \"bo-\")\n",
        "plt.xlabel(\"$num_clusters$\", fontsize=14)\n",
        "plt.ylabel(\"Combined_Score\", fontsize=14)\n",
        "plt.show()"
      ],
      "metadata": {
        "id": "BUSPBdz91Swn",
        "colab": {
          "base_uri": "https://localhost:8080/",
          "height": 863
        },
        "outputId": "e96cf061-6778-4362-832a-925d0de5cf4a"
      },
      "execution_count": 149,
      "outputs": [
        {
          "output_type": "display_data",
          "data": {
            "text/plain": [
              "<Figure size 1500x1000 with 1 Axes>"
            ],
            "image/png": "[encoded data removed]"
          },
          "metadata": {}
        }
      ]
    },
    {
      "cell_type": "markdown",
      "source": [
        "## Describe and visualize the best UMAPs and clusterings ##"
      ],
      "metadata": {
        "id": "bwUZrnFzpS4Q"
      }
    },
    {
      "cell_type": "markdown",
      "source": [
        " ### filtering hyperparams based on score/num of cluster values ###"
      ],
      "metadata": {
        "id": "RbF7_WLwvRmn"
      }
    },
    {
      "cell_type": "code",
      "source": [
        "filtered_glove_df = glove_df[ (glove_df['embedding'] == 'glove-standardized') & (glove_df['UMAP-n_neighbors']<= 10) & (glove_df['UMAP-n_components']<= 3) & (glove_df['HDBSCAN-min_cluster_size']< 5) & (glove_df['HDBSCAN-cluster_selection_epsilon'] == 0.0)]\n"
      ],
      "metadata": {
        "id": "C497Q8g1tsGK"
      },
      "execution_count": 45,
      "outputs": []
    },
    {
      "cell_type": "code",
      "source": [
        "len(filtered_glove_df)"
      ],
      "metadata": {
        "colab": {
          "base_uri": "https://localhost:8080/"
        },
        "id": "voxozsTJuRIl",
        "outputId": "babf3fca-45f7-4d65-8b98-169986ae2926"
      },
      "execution_count": 46,
      "outputs": [
        {
          "output_type": "execute_result",
          "data": {
            "text/plain": [
              "20"
            ]
          },
          "metadata": {},
          "execution_count": 46
        }
      ]
    },
    {
      "cell_type": "markdown",
      "source": [
        "\n",
        "\n",
        "---\n",
        "\n",
        "\n",
        "\n"
      ],
      "metadata": {
        "id": "l0aeExevvsnf"
      }
    },
    {
      "cell_type": "code",
      "source": [
        "for i,best_row in filtered_glove_df.iterrows():\n",
        "\n",
        "  print(best_row)\n",
        "\n",
        "  #embedding_type,n_neighbors,n_components,metric,min_dist\n",
        "\n",
        "  umap_hyprparams_tuple = (best_row['embedding'],best_row['UMAP-n_neighbors'],best_row['UMAP-n_components'],best_row['UMAP-metric'],best_row['UMAP-min_dist'])\n",
        "\n",
        "  best_clusterable_embedding = umap_embedding_map[umap_hyprparams_tuple]\n",
        "  best_labels,best_clusterer_exemplars =   hdbscan_clustering_map[umap_hyprparams_tuple,best_row['HDBSCAN-min_cluster_size'],best_row['HDBSCAN-min_samples'],best_row['HDBSCAN-cluster_selection_epsilon']]\n",
        "  map_instance_representative,map_cluster_representative = print_cluster_descriptions_frequency_for_hdbscan(best_labels,best_row['CLUSTERING-SILHOUETTE_CLUSTRED'],grouping_standardized,best_row,clustering_tests_tweets_glove)\n",
        "  writeRelationMappingFile(clustering_tests_tweets_glove,best_row,map_instance_representative)\n",
        "  visualizeClustering(best_row,best_clusterable_embedding,best_labels,grouping_standardized,clustering_tests_tweets_glove,map_cluster_representative )"
      ],
      "metadata": {
        "id": "IYqqh5WZzfwi"
      },
      "execution_count": null,
      "outputs": []
    },
    {
      "cell_type": "code",
      "source": [
        "index_row_best_hyperparams ="
      ],
      "metadata": {
        "id": "wV5MB562eemh"
      },
      "execution_count": null,
      "outputs": []
    },
    {
      "cell_type": "code",
      "source": [
        "map_instance_representative"
      ],
      "metadata": {
        "id": "c0kQs8vumPnm"
      },
      "execution_count": null,
      "outputs": []
    },
    {
      "cell_type": "code",
      "source": [
        "filtered_bert_df = bert_df[ (bert_df['embedding'] == 'bert-standardized') & (bert_df['HDBSCAN-cluster_selection_epsilon'] == 0.0) & (bert_df['UMAP-n_components']<= 3) & (bert_df['ORDERING_SCORE']>= 0.85)]"
      ],
      "metadata": {
        "id": "LgR10e88QucH"
      },
      "execution_count": 152,
      "outputs": []
    },
    {
      "cell_type": "code",
      "source": [
        "len(filtered_bert_df)"
      ],
      "metadata": {
        "colab": {
          "base_uri": "https://localhost:8080/"
        },
        "id": "pKhdgKNQT7_u",
        "outputId": "1f7c9207-54a7-42b4-9f4a-3d1e3db8fb2f"
      },
      "execution_count": 153,
      "outputs": [
        {
          "output_type": "execute_result",
          "data": {
            "text/plain": [
              "16"
            ]
          },
          "metadata": {},
          "execution_count": 153
        }
      ]
    },
    {
      "cell_type": "code",
      "source": [
        "filtered_bert_df['ORDERING_SCORE']"
      ],
      "metadata": {
        "id": "xpJ-fW3BQucI"
      },
      "execution_count": null,
      "outputs": []
    },
    {
      "cell_type": "code",
      "source": [
        "for i,best_row in filtered_bert_df.iterrows():\n",
        "\n",
        "  print(best_row)\n",
        "\n",
        "  #embedding_type,n_neighbors,n_components,metric,min_dist\n",
        "\n",
        "  umap_hyprparams_tuple = (best_row['embedding'],best_row['UMAP-n_neighbors'],best_row['UMAP-n_components'],best_row['UMAP-metric'],best_row['UMAP-min_dist'])\n",
        "\n",
        "  best_clusterable_embedding = umap_embedding_map[umap_hyprparams_tuple]\n",
        "  best_labels,best_clusterer_exemplars =   hdbscan_clustering_map[umap_hyprparams_tuple,best_row['HDBSCAN-min_cluster_size'],best_row['HDBSCAN-min_samples'],best_row['HDBSCAN-cluster_selection_epsilon']]\n",
        "  map_instance_representative,map_cluster_representative = print_cluster_descriptions_frequency_for_hdbscan(best_labels,best_row['CLUSTERING-SILHOUETTE_CLUSTRED'],bert_relations,best_row,clustering_tests_tweets_bert)\n",
        "  writeRelationMappingFile(clustering_tests_tweets_bert,best_row,map_instance_representative)\n",
        "  visualizeClustering(best_row,best_clusterable_embedding,best_labels,bert_relations,clustering_tests_tweets_bert,map_cluster_representative)"
      ],
      "metadata": {
        "id": "N16GFob4QucJ"
      },
      "execution_count": null,
      "outputs": []
    },
    {
      "cell_type": "code",
      "source": [
        "filtered_bert_df_lower_clust_num = bert_df[ (bert_df['embedding'] == 'bert-standardized') & (bert_df['HDBSCAN-cluster_selection_epsilon'] == 0.0) & (bert_df['UMAP-n_components']<= 3) & (bert_df['CLUSTERS-NUM']< 920) & (bert_df['ORDERING_SCORE']>= 0.75)]\n",
        "len(filtered_bert_df_lower_clust_num)"
      ],
      "metadata": {
        "colab": {
          "base_uri": "https://localhost:8080/"
        },
        "id": "cJQ92_pwlZc8",
        "outputId": "f2526e3d-efde-45a8-c515-2f47d61ededa"
      },
      "execution_count": 171,
      "outputs": [
        {
          "output_type": "execute_result",
          "data": {
            "text/plain": [
              "2"
            ]
          },
          "metadata": {},
          "execution_count": 171
        }
      ]
    },
    {
      "cell_type": "code",
      "source": [
        "for i,best_row in filtered_bert_df_lower_clust_num.iterrows():\n",
        "\n",
        "  print(best_row)\n",
        "\n",
        "  #embedding_type,n_neighbors,n_components,metric,min_dist\n",
        "\n",
        "  umap_hyprparams_tuple = (best_row['embedding'],best_row['UMAP-n_neighbors'],best_row['UMAP-n_components'],best_row['UMAP-metric'],best_row['UMAP-min_dist'])\n",
        "\n",
        "  best_clusterable_embedding = umap_embedding_map[umap_hyprparams_tuple]\n",
        "  best_labels,best_clusterer_exemplars =   hdbscan_clustering_map[umap_hyprparams_tuple,best_row['HDBSCAN-min_cluster_size'],best_row['HDBSCAN-min_samples'],best_row['HDBSCAN-cluster_selection_epsilon']]\n",
        "  map_instance_representative,map_cluster_representative = print_cluster_descriptions_frequency_for_hdbscan(best_labels,best_row['CLUSTERING-SILHOUETTE_CLUSTRED'],bert_relations,best_row,clustering_tests_tweets_bert)\n",
        "  writeRelationMappingFile(clustering_tests_tweets_bert,best_row,map_instance_representative)\n",
        "  visualizeClustering(best_row,best_clusterable_embedding,best_labels,bert_relations,clustering_tests_tweets_bert,map_cluster_representative)"
      ],
      "metadata": {
        "id": "kLDvEXOqlkiT"
      },
      "execution_count": null,
      "outputs": []
    },
    {
      "cell_type": "markdown",
      "source": [
        "## Load and add relation normalization column to the triple extraction file##"
      ],
      "metadata": {
        "id": "1NgrLUJBsYN_"
      }
    },
    {
      "cell_type": "code",
      "source": [
        "triples = pd.read_excel(os.path.join(clustering_shared_folder,'en_core_web_lg_preprocessing_depTrees_coref_multitoken100k.xlsx'), index_col=0, header=0)"
      ],
      "metadata": {
        "id": "GC4Lw5Hdsl3K"
      },
      "execution_count": 185,
      "outputs": []
    },
    {
      "cell_type": "code",
      "source": [
        "len(triples)"
      ],
      "metadata": {
        "colab": {
          "base_uri": "https://localhost:8080/"
        },
        "id": "vIe3IU09W_24",
        "outputId": "218addfb-bb3f-48fb-af3e-5d1b7d9ce474"
      },
      "execution_count": 186,
      "outputs": [
        {
          "output_type": "execute_result",
          "data": {
            "text/plain": [
              "29413"
            ]
          },
          "metadata": {},
          "execution_count": 186
        }
      ]
    },
    {
      "cell_type": "code",
      "source": [
        "mapping_file = 'relation_mapping_100k_tweets_NUM_CLUSTERS:327UMAP_n_neighbors:5UMAP_n_components:2UMAP_metric:cosineUMAP_min_dist:0.0HDBSCAN-min_cluster_size:3HDBSCAN-min_samples:NoneHDBSCAN-cluster_selection_epsilon:0.0.csv'\n",
        "with open(os.path.join(os.path.join(clustering_tests_tweets_glove,'relationMappings'),mapping_file), 'r') as infile:\n",
        "  reader = csv.reader(infile)\n",
        "  map_instance_representative = dict((rows[0],rows[1]) for rows in reader)"
      ],
      "metadata": {
        "id": "LfAo0vNssFzv"
      },
      "execution_count": 187,
      "outputs": []
    },
    {
      "cell_type": "code",
      "source": [
        "normalized_relations = [ map_instance_representative[str(rel).lower()] if str(rel).lower() in map_instance_representative.keys() else 'None' for rel in  triples['triple_rel'] ]"
      ],
      "metadata": {
        "id": "3A826An6Xh6K"
      },
      "execution_count": 188,
      "outputs": []
    },
    {
      "cell_type": "code",
      "source": [
        "triples['normalized_relations'] = normalized_relations"
      ],
      "metadata": {
        "id": "oQuQg-dwdIbH"
      },
      "execution_count": 189,
      "outputs": []
    },
    {
      "cell_type": "code",
      "source": [
        "triples.to_excel(os.path.join(clustering_shared_folder,'en_core_web_lg_preprocessing_depTrees_coref_multitoken100k_NormalizedRelations.xlsx'), encoding=\"utf-8\", engine=\"xlsxwriter\")\n"
      ],
      "metadata": {
        "id": "plF0YNHadWo6"
      },
      "execution_count": 191,
      "outputs": []
    }
  ]
}