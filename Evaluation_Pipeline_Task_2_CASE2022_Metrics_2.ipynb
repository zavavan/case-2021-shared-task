{
  "cells": [
    {
      "cell_type": "markdown",
      "metadata": {
        "id": "view-in-github",
        "colab_type": "text"
      },
      "source": [
        "<a href=\"https://colab.research.google.com/github/zavavan/case-2021-shared-task/blob/main/Evaluation_Pipeline_Task_2_CASE2022_Metrics_2.ipynb\" target=\"_parent\"><img src=\"https://colab.research.google.com/assets/colab-badge.svg\" alt=\"Open In Colab\"/></a>"
      ]
    },
    {
      "cell_type": "markdown",
      "metadata": {
        "id": "QiIqTzAaUHew"
      },
      "source": [
        "# DATA PRE-PROCESSING"
      ]
    },
    {
      "cell_type": "markdown",
      "metadata": {
        "id": "rq2OxqgxUHez"
      },
      "source": [
        "# Setup"
      ]
    },
    {
      "cell_type": "code",
      "execution_count": 2,
      "metadata": {
        "colab": {
          "base_uri": "https://localhost:8080/",
          "height": 277
        },
        "id": "CWhdgXXtUHe0",
        "outputId": "9a5d8315-07e4-4ed4-bd52-9f46e578ed8f"
      },
      "outputs": [
        {
          "output_type": "stream",
          "name": "stdout",
          "text": [
            "Looking in indexes: https://pypi.org/simple, https://us-python.pkg.dev/colab-wheels/public/simple/\n",
            "Collecting argparse\n",
            "  Using cached argparse-1.4.0-py2.py3-none-any.whl (23 kB)\n",
            "Installing collected packages: argparse\n",
            "Successfully installed argparse-1.4.0\n"
          ]
        },
        {
          "output_type": "display_data",
          "data": {
            "application/vnd.colab-display-data+json": {
              "pip_warning": {
                "packages": [
                  "argparse"
                ]
              }
            }
          },
          "metadata": {}
        },
        {
          "output_type": "stream",
          "name": "stdout",
          "text": [
            "Looking in indexes: https://pypi.org/simple, https://us-python.pkg.dev/colab-wheels/public/simple/\n",
            "Requirement already satisfied: xtract in /usr/local/lib/python3.7/dist-packages (0.1a3)\n",
            "Requirement already satisfied: python-magic in /usr/local/lib/python3.7/dist-packages (from xtract) (0.4.27)\n",
            "Looking in indexes: https://pypi.org/simple, https://us-python.pkg.dev/colab-wheels/public/simple/\n",
            "Requirement already satisfied: wget in /usr/local/lib/python3.7/dist-packages (3.2)\n"
          ]
        }
      ],
      "source": [
        "from IPython.display import clear_output\n",
        "!pip install argparse\n",
        "!pip install xtract\n",
        "!pip install wget\n",
        "import ipywidgets as widgets\n",
        "import json\n",
        "#clear_output()\n",
        "import gzip\n",
        "import shutil\n",
        "import os\n",
        "import wget\n",
        "import csv\n",
        "import linecache\n",
        "from shutil import copyfile\n",
        "import numpy as np\n",
        "import pandas as pd\n",
        "import datetime\n",
        "\n",
        "# To plot pretty figures\n",
        "%matplotlib inline\n",
        "import matplotlib as mpl\n",
        "import matplotlib.pyplot as plt\n",
        "mpl.rc('axes', labelsize=14)\n",
        "mpl.rc('xtick', labelsize=12)\n",
        "mpl.rc('ytick', labelsize=12)\n",
        "\n",
        "\n",
        "# Where to save the figures\n",
        "PROJECT_ROOT_DIR = \"D:\\\\Papers\\\\CASE2022\\\\SHARED TASK\"\n",
        "IMAGES_PATH = os.path.join(PROJECT_ROOT_DIR, \"images\")\n",
        "os.makedirs(IMAGES_PATH, exist_ok=True)\n",
        "\n",
        "def save_fig(fig_id, tight_layout=True, fig_extension=\"png\", resolution=300):\n",
        "    path = os.path.join(IMAGES_PATH, fig_id + \".\" + fig_extension)\n",
        "    print(\"Saving figure\", fig_id)\n",
        "    if tight_layout:\n",
        "        plt.tight_layout()\n",
        "    plt.savefig(path, format=fig_extension, dpi=resolution)"
      ]
    },
    {
      "cell_type": "code",
      "execution_count": 3,
      "metadata": {
        "id": "ydBA2za-UHe3"
      },
      "outputs": [],
      "source": [
        "INPUT_DATA_PATH = os.path.join(PROJECT_ROOT_DIR, \"SYSTEM_SUBMISSIONS\")\n",
        "os.makedirs(INPUT_DATA_PATH, exist_ok=True)\n",
        "\n",
        "def load_system_submission(input_data_path,system_name,submission_name,_header):\n",
        "    csv_path = os.path.join(input_data_path, system_name, submission_name)\n",
        "    print('loading system submission data from file: ' + csv_path)\n",
        "    return pd.read_csv(csv_path,header=_header)\n",
        "\n",
        "#\"D:\\\\knime_workspace\\\\Event Deduplication Evaluation New\\\\Data\\\\CASE2021\\\\Hu-Tiancheng-ETH\\\\submission.NoConflict.twitter.1.csv\""
      ]
    },
    {
      "cell_type": "code",
      "source": [],
      "metadata": {
        "id": "2FoPZQKZU9vU"
      },
      "execution_count": null,
      "outputs": []
    },
    {
      "cell_type": "markdown",
      "metadata": {
        "id": "Of0H4p0PUHe4"
      },
      "source": [
        "## Open Street Map (Nominatim API) location normalization\n",
        "\n",
        "The String representation of the event location will be automatically converted into a pair of geographical coordinates by using the Nominatim search API (https://nominatim.org/release-docs/develop/api/Search/). While only the country attribute is mandatory, systems are expected to assign a description of the event location at the finest grained level possible, as otherwise geographical coordinate conversion from Nominatim will place the event at the geographical centroid of the polygon of the assigned administrative unit, which may penalize the correlation score on Prio-GRID cell aggregation.\n",
        "   "
      ]
    },
    {
      "cell_type": "code",
      "execution_count": null,
      "metadata": {
        "id": "CHfYnxCNUHe4",
        "outputId": "e777d0d2-9bd6-43e9-d569-ff1872a2dfc1"
      },
      "outputs": [
        {
          "name": "stdout",
          "output_type": "stream",
          "text": [
            "Requirement already satisfied: geopy in c:\\users\\vanni\\anaconda3\\lib\\site-packages (2.2.0)\n",
            "Requirement already satisfied: geographiclib<2,>=1.49 in c:\\users\\vanni\\anaconda3\\lib\\site-packages (from geopy) (1.52)\n"
          ]
        }
      ],
      "source": [
        "!pip install geopy\n",
        "from geopy.geocoders import Nominatim"
      ]
    },
    {
      "cell_type": "code",
      "execution_count": null,
      "metadata": {
        "id": "XSgxPPNyUHe5"
      },
      "outputs": [],
      "source": [
        "geolocator = Nominatim(user_agent=\"case2022_task2\",timeout=30)"
      ]
    },
    {
      "cell_type": "code",
      "execution_count": null,
      "metadata": {
        "id": "GNdZQEAPUHe6"
      },
      "outputs": [],
      "source": [
        "def make_structured_query(x, y, z):\n",
        "    return {\"city\":x, \"state\":y, \"country\":z}"
      ]
    },
    {
      "cell_type": "code",
      "execution_count": null,
      "metadata": {
        "id": "3m7_ibz0UHe6",
        "outputId": "18a8fed0-d3ae-468b-f65e-ebd50eb65af2"
      },
      "outputs": [
        {
          "name": "stdout",
          "output_type": "stream",
          "text": [
            "Minneapolis, Hennepin County, Minnesota, United States\n",
            "(44.9772995, -93.2654692)\n",
            "{'place_id': 296997363, 'licence': 'Data © OpenStreetMap contributors, ODbL 1.0. https://osm.org/copyright', 'osm_type': 'relation', 'osm_id': 136712, 'boundingbox': ['44.89015', '45.05125', '-93.3291271', '-93.193859'], 'lat': '44.9772995', 'lon': '-93.2654692', 'display_name': 'Minneapolis, Hennepin County, Minnesota, United States', 'class': 'boundary', 'type': 'administrative', 'importance': 0.8571693135985456, 'icon': 'https://nominatim.openstreetmap.org/ui/mapicons/poi_boundary_administrative.p.20.png'}\n"
          ]
        }
      ],
      "source": [
        "location = geolocator.geocode(\"Minneapolis,Minnesota,USA\",limit=1)\n",
        "print(location.address)\n",
        "print((location.latitude, location.longitude))\n",
        "print(location.raw)"
      ]
    },
    {
      "cell_type": "code",
      "execution_count": null,
      "metadata": {
        "id": "XH2Alt83UHe9",
        "outputId": "2d5d7648-a62b-41be-fa98-aed4b97f037d"
      },
      "outputs": [
        {
          "name": "stdout",
          "output_type": "stream",
          "text": [
            "Minneapolis, Hennepin County, Minnesota, United States\n",
            "(44.9772995, -93.2654692)\n",
            "{'place_id': 296997363, 'licence': 'Data © OpenStreetMap contributors, ODbL 1.0. https://osm.org/copyright', 'osm_type': 'relation', 'osm_id': 136712, 'boundingbox': ['44.89015', '45.05125', '-93.3291271', '-93.193859'], 'lat': '44.9772995', 'lon': '-93.2654692', 'display_name': 'Minneapolis, Hennepin County, Minnesota, United States', 'class': 'boundary', 'type': 'administrative', 'importance': 0.8571693135985456, 'icon': 'https://nominatim.openstreetmap.org/ui/mapicons/poi_boundary_administrative.p.20.png'}\n"
          ]
        }
      ],
      "source": [
        "dict = {\"city\":\"Minneapolis\", \"state\":\"Minnesota\", \"country\":\"USA\"}\n",
        "location = geolocator.geocode(dict,limit=1)\n",
        "print(location.address)\n",
        "print((location.latitude, location.longitude))\n",
        "print(location.raw)"
      ]
    },
    {
      "cell_type": "markdown",
      "metadata": {
        "id": "fIB7YbZ-UHe9"
      },
      "source": [
        "### System Output File"
      ]
    },
    {
      "cell_type": "code",
      "execution_count": null,
      "metadata": {
        "id": "LMXMhieJUHe-",
        "outputId": "b328f12b-f698-48d0-b90b-09475df76ece"
      },
      "outputs": [
        {
          "name": "stdout",
          "output_type": "stream",
          "text": [
            "loading system submission data from file: D:\\Papers\\CASE2022\\SHARED TASK\\SYSTEM_SUBMISSIONS\\Hu-Tiancheng-ETH\\submission.NoConflict.nyt.1.csv\n"
          ]
        },
        {
          "data": {
            "text/html": [
              "<div>\n",
              "<style scoped>\n",
              "    .dataframe tbody tr th:only-of-type {\n",
              "        vertical-align: middle;\n",
              "    }\n",
              "\n",
              "    .dataframe tbody tr th {\n",
              "        vertical-align: top;\n",
              "    }\n",
              "\n",
              "    .dataframe thead th {\n",
              "        text-align: right;\n",
              "    }\n",
              "</style>\n",
              "<table border=\"1\" class=\"dataframe\">\n",
              "  <thead>\n",
              "    <tr style=\"text-align: right;\">\n",
              "      <th></th>\n",
              "      <th>id</th>\n",
              "      <th>city</th>\n",
              "      <th>state</th>\n",
              "      <th>country</th>\n",
              "      <th>date</th>\n",
              "      <th>url</th>\n",
              "    </tr>\n",
              "  </thead>\n",
              "  <tbody>\n",
              "    <tr>\n",
              "      <th>135</th>\n",
              "      <td>116</td>\n",
              "      <td>City Hall Park</td>\n",
              "      <td>City Hall Park</td>\n",
              "      <td>USA</td>\n",
              "      <td>2020-06-23</td>\n",
              "      <td>nyt://article/08c95638-5ff4-5a0e-bbcb-c71df586...</td>\n",
              "    </tr>\n",
              "    <tr>\n",
              "      <th>136</th>\n",
              "      <td>117</td>\n",
              "      <td>New York City</td>\n",
              "      <td>New York</td>\n",
              "      <td>USA</td>\n",
              "      <td>2020-06-28</td>\n",
              "      <td>nyt://article/d321e592-103c-589b-9a87-197a7946...</td>\n",
              "    </tr>\n",
              "    <tr>\n",
              "      <th>137</th>\n",
              "      <td>118</td>\n",
              "      <td>Seattle</td>\n",
              "      <td>Washington</td>\n",
              "      <td>USA</td>\n",
              "      <td>2020-06-28</td>\n",
              "      <td>nyt://article/0bbfbc24-391c-512c-bf82-934841e5...</td>\n",
              "    </tr>\n",
              "    <tr>\n",
              "      <th>138</th>\n",
              "      <td>119</td>\n",
              "      <td>St Louis</td>\n",
              "      <td>Missouri</td>\n",
              "      <td>USA</td>\n",
              "      <td>2020-06-22</td>\n",
              "      <td>nyt://article/a41426fc-ae75-5145-a731-e7480636...</td>\n",
              "    </tr>\n",
              "    <tr>\n",
              "      <th>139</th>\n",
              "      <td>120</td>\n",
              "      <td>Minneapolis</td>\n",
              "      <td>Minnesota</td>\n",
              "      <td>USA</td>\n",
              "      <td>2020-06-29</td>\n",
              "      <td>nyt://article/5c7e0c68-2604-505a-940b-1c8cd651...</td>\n",
              "    </tr>\n",
              "  </tbody>\n",
              "</table>\n",
              "</div>"
            ],
            "text/plain": [
              "      id            city           state country        date  \\\n",
              "135  116  City Hall Park  City Hall Park     USA  2020-06-23   \n",
              "136  117   New York City        New York     USA  2020-06-28   \n",
              "137  118         Seattle      Washington     USA  2020-06-28   \n",
              "138  119        St Louis        Missouri     USA  2020-06-22   \n",
              "139  120     Minneapolis       Minnesota     USA  2020-06-29   \n",
              "\n",
              "                                                   url  \n",
              "135  nyt://article/08c95638-5ff4-5a0e-bbcb-c71df586...  \n",
              "136  nyt://article/d321e592-103c-589b-9a87-197a7946...  \n",
              "137  nyt://article/0bbfbc24-391c-512c-bf82-934841e5...  \n",
              "138  nyt://article/a41426fc-ae75-5145-a731-e7480636...  \n",
              "139  nyt://article/5c7e0c68-2604-505a-940b-1c8cd651...  "
            ]
          },
          "execution_count": 9,
          "metadata": {},
          "output_type": "execute_result"
        }
      ],
      "source": [
        "df = load_system_submission(INPUT_DATA_PATH,\"Hu-Tiancheng-ETH\",\"submission.NoConflict.nyt.1.csv\",None)\n",
        "df.columns =['id','city', 'state', 'country', 'date','url']\n",
        "df.tail()"
      ]
    },
    {
      "cell_type": "code",
      "execution_count": null,
      "metadata": {
        "id": "JSYKX-h5UHe-"
      },
      "outputs": [],
      "source": [
        "locations = df[['city','state','country']].value_counts(ascending=False).reset_index(name='count')[['city','state','country']]"
      ]
    },
    {
      "cell_type": "code",
      "execution_count": null,
      "metadata": {
        "id": "x3ALR2YiUHe-",
        "outputId": "7803823f-abd7-446d-b29f-da33410d529a"
      },
      "outputs": [
        {
          "data": {
            "text/html": [
              "<div>\n",
              "<style scoped>\n",
              "    .dataframe tbody tr th:only-of-type {\n",
              "        vertical-align: middle;\n",
              "    }\n",
              "\n",
              "    .dataframe tbody tr th {\n",
              "        vertical-align: top;\n",
              "    }\n",
              "\n",
              "    .dataframe thead th {\n",
              "        text-align: right;\n",
              "    }\n",
              "</style>\n",
              "<table border=\"1\" class=\"dataframe\">\n",
              "  <thead>\n",
              "    <tr style=\"text-align: right;\">\n",
              "      <th></th>\n",
              "      <th>city</th>\n",
              "      <th>state</th>\n",
              "      <th>country</th>\n",
              "    </tr>\n",
              "  </thead>\n",
              "  <tbody>\n",
              "    <tr>\n",
              "      <th>0</th>\n",
              "      <td>Minneapolis</td>\n",
              "      <td>Minnesota</td>\n",
              "      <td>USA</td>\n",
              "    </tr>\n",
              "    <tr>\n",
              "      <th>1</th>\n",
              "      <td>Washington</td>\n",
              "      <td>District of Columbia</td>\n",
              "      <td>USA</td>\n",
              "    </tr>\n",
              "    <tr>\n",
              "      <th>2</th>\n",
              "      <td>New York City</td>\n",
              "      <td>New York</td>\n",
              "      <td>USA</td>\n",
              "    </tr>\n",
              "    <tr>\n",
              "      <th>3</th>\n",
              "      <td>New York</td>\n",
              "      <td>New York</td>\n",
              "      <td>USA</td>\n",
              "    </tr>\n",
              "    <tr>\n",
              "      <th>4</th>\n",
              "      <td>Brooklyn</td>\n",
              "      <td>New York</td>\n",
              "      <td>USA</td>\n",
              "    </tr>\n",
              "    <tr>\n",
              "      <th>...</th>\n",
              "      <td>...</td>\n",
              "      <td>...</td>\n",
              "      <td>...</td>\n",
              "    </tr>\n",
              "    <tr>\n",
              "      <th>59</th>\n",
              "      <td>Manhattan</td>\n",
              "      <td>New York</td>\n",
              "      <td>USA</td>\n",
              "    </tr>\n",
              "    <tr>\n",
              "      <th>60</th>\n",
              "      <td>Massachusetts</td>\n",
              "      <td>Massachusetts</td>\n",
              "      <td>USA</td>\n",
              "    </tr>\n",
              "    <tr>\n",
              "      <th>61</th>\n",
              "      <td>Mexico City</td>\n",
              "      <td>Mexico City</td>\n",
              "      <td>Mexico</td>\n",
              "    </tr>\n",
              "    <tr>\n",
              "      <th>62</th>\n",
              "      <td>Miami</td>\n",
              "      <td>Florida</td>\n",
              "      <td>USA</td>\n",
              "    </tr>\n",
              "    <tr>\n",
              "      <th>63</th>\n",
              "      <td>Alabama</td>\n",
              "      <td>Alabama</td>\n",
              "      <td>USA</td>\n",
              "    </tr>\n",
              "  </tbody>\n",
              "</table>\n",
              "<p>64 rows × 3 columns</p>\n",
              "</div>"
            ],
            "text/plain": [
              "             city                 state country\n",
              "0     Minneapolis             Minnesota     USA\n",
              "1      Washington  District of Columbia     USA\n",
              "2   New York City              New York     USA\n",
              "3        New York              New York     USA\n",
              "4        Brooklyn              New York     USA\n",
              "..            ...                   ...     ...\n",
              "59      Manhattan              New York     USA\n",
              "60  Massachusetts         Massachusetts     USA\n",
              "61    Mexico City           Mexico City  Mexico\n",
              "62          Miami               Florida     USA\n",
              "63        Alabama               Alabama     USA\n",
              "\n",
              "[64 rows x 3 columns]"
            ]
          },
          "execution_count": 11,
          "metadata": {},
          "output_type": "execute_result"
        }
      ],
      "source": [
        "locations"
      ]
    },
    {
      "cell_type": "code",
      "execution_count": null,
      "metadata": {
        "id": "heqzQxPDUHe_"
      },
      "outputs": [],
      "source": [
        "results = [geolocator.geocode(make_structured_query(x,y,z)) for x, y, z in locations[['city','state','country']].to_numpy()]\n"
      ]
    },
    {
      "cell_type": "code",
      "execution_count": null,
      "metadata": {
        "id": "FX-6KGA7UHe_",
        "outputId": "707268d6-0934-40c9-d787-9d9515f3a72f"
      },
      "outputs": [
        {
          "data": {
            "text/plain": [
              "[Location(Minneapolis, Hennepin County, Minnesota, United States, (44.9772995, -93.2654692, 0.0)),\n",
              " Location(Washington, District of Columbia, United States, (38.8950368, -77.0365427, 0.0)),\n",
              " Location(City of New York, New York, United States, (40.7127281, -74.0060152, 0.0)),\n",
              " Location(City of New York, New York, United States, (40.7127281, -74.0060152, 0.0)),\n",
              " Location(Brooklyn, Kings County, City of New York, New York, United States, (40.6526006, -73.9497211, 0.0)),\n",
              " Location(Young America, Norwood Young America, Carver County, Minnesota, 55397, United States, (44.7827399, -93.913579, 0.0)),\n",
              " Location(Seattle, King County, Washington, United States, (47.6038321, -122.330062, 0.0)),\n",
              " Location(Atlanta, Fulton County, Georgia, 30303, United States, (33.7489924, -84.3902644, 0.0)),\n",
              " Location(Buffalo, Erie County, New York, United States, (42.8867166, -78.8783922, 0.0)),\n",
              " Location(Los Angeles, Los Angeles County, CAL Fire Southern Region, California, United States, (34.0536909, -118.242766, 0.0)),\n",
              " Location(Chicago, Cook County, Illinois, United States, (41.8755616, -87.6244212, 0.0)),\n",
              " Location(Tulsa, Tulsa County, Oklahoma, United States, (36.1563122, -95.9927436, 0.0)),\n",
              " Location(Lake of the Woods, Champaign County, Illinois, United States, (40.2066325, -88.37122087927193, 0.0)),\n",
              " Location(Minnesota Lake, Faribault County, Minnesota, 56068, United States, (43.8424402, -93.8323837, 0.0)),\n",
              " Location(Madison, Dane County, Wisconsin, 53703, United States, (43.074761, -89.3837613, 0.0)),\n",
              " Location(Louisville, Jefferson County, Kentucky, United States, (38.2542376, -85.759407, 0.0)),\n",
              " Location(Yorkshire Village, Yorkshire, Prince William County, Virginia, 20111, United States, (38.7903922, -77.4552664, 0.0)),\n",
              " Location(Charlottesville, Virginia, United States, (38.029306, -78.4766781, 0.0)),\n",
              " Location(SoHo, Manhattan, New York County, City of New York, New York, 10012, United States, (40.72288, -73.9987505, 0.0)),\n",
              " Location(Westampton, New Jersey, Burlington County, New Jersey, 08073, United States, (40.0192445, -74.81923825, 0.0)),\n",
              " None,\n",
              " Location(Bristol, City of Bristol, West of England, England, United Kingdom, (51.4538022, -2.5972985, 0.0)),\n",
              " Location(Boston, Suffolk County, Massachusetts, United States, (42.3554334, -71.060511, 0.0)),\n",
              " Location(Newark, Essex County, New Jersey, United States, (40.735657, -74.1723667, 0.0)),\n",
              " Location(Philadelphia, Philadelphia County, Pennsylvania, United States, (39.9527237, -75.1635262, 0.0)),\n",
              " Location(Richmond, Contra Costa County, CAL Fire Northern Region, California, United States, (37.9357576, -122.347748, 0.0)),\n",
              " Location(Roma, Roma Capitale, Lazio, Italia, (41.8933203, 12.4829321, 0.0)),\n",
              " Location(Rüdersdorf, Rüdersdorf bei Berlin, Märkisch-Oderland, Brandenburg, Deutschland, (52.471293, 13.784527, 0.0)),\n",
              " Location(Saint Louis, Missouri, United States, (38.6319657, -90.2428756, 0.0)),\n",
              " Location(Mississippi City, Gulfport, Harrison County, Mississippi, 39501, United States, (30.3818646, -89.0439248, 0.0)),\n",
              " Location(東區商圈, 臺北市, 10686, 臺灣, (25.0417033, 121.5468187, 0.0)),\n",
              " Location(Tennessee Ridge, Houston County, Tennessee, United States, (36.32083, -87.75447302941177, 0.0)),\n",
              " None,\n",
              " None,\n",
              " None,\n",
              " Location(Baltimore, Maryland, 21233, United States, (39.2908816, -76.610759, 0.0)),\n",
              " Location(Taylor Flat, Browns Park, Utah, Daggett County, Utah, United States, (40.8881898, -109.1787333, 0.0)),\n",
              " Location(Virginia Beach, Virginia, United States, (36.8529841, -75.9774183, 0.0)),\n",
              " Location(Elizabeth South, Adelaide, City of Playford, South Australia, 5112, Australia, (-34.7411213, 138.6564373, 0.0)),\n",
              " None,\n",
              " None,\n",
              " None,\n",
              " Location(Kansas City, Jackson County, Missouri, United States, (39.100105, -94.5781416, 0.0)),\n",
              " Location(Columbia, Richland County, South Carolina, United States, (34.0007493, -81.0343313, 0.0)),\n",
              " Location(Confederate, Lyon County, Kentucky, United States, (36.9919966, -87.9975209, 0.0)),\n",
              " None,\n",
              " Location(Detroit, Wayne County, Michigan, United States, (42.3315509, -83.0466403, 0.0)),\n",
              " Location(Ferguson, Saint Louis County, Missouri, 63135, United States, (38.744707, -90.3038975, 0.0)),\n",
              " Location(Orlando, Orange County, Florida, United States, (28.5421109, -81.3790304, 0.0)),\n",
              " None,\n",
              " Location(Houston, Harris County, Texas, United States, (29.7589382, -95.3676974, 0.0)),\n",
              " Location(Kansas City, Wyandotte County, Kansas, United States, (39.1134562, -94.626497, 0.0)),\n",
              " None,\n",
              " None,\n",
              " None,\n",
              " Location(London, Greater London, England, United Kingdom, (51.5073219, -0.1276474, 0.0)),\n",
              " Location(Charlotte, Mecklenburg County, North Carolina, United States, (35.2272086, -80.8430827, 0.0)),\n",
              " Location(Charleston, Charleston County, South Carolina, United States, (32.7876012, -79.9402728, 0.0)),\n",
              " Location(California, California Township, Branch County, Michigan, United States, (41.7964383, -84.8832941, 0.0)),\n",
              " Location(Manhattan, New York County, City of New York, New York, United States, (40.7896239, -73.9598939, 0.0)),\n",
              " None,\n",
              " None,\n",
              " Location(Miami, Miami-Dade County, Florida, 33131, United States, (25.7741728, -80.19362, 0.0)),\n",
              " Location(Birmingham, Jefferson County, Alabama, United States, (33.5206824, -86.8024326, 0.0))]"
            ]
          },
          "execution_count": 13,
          "metadata": {},
          "output_type": "execute_result"
        }
      ],
      "source": [
        "results"
      ]
    },
    {
      "cell_type": "code",
      "execution_count": null,
      "metadata": {
        "id": "49RgnLoDUHfA"
      },
      "outputs": [],
      "source": [
        "locations['lat'] = [result.latitude if result is not None else 'NaN' for result in results]\n",
        "locations['lon'] = [result.longitude if result is not None else 'NaN' for result in results]"
      ]
    },
    {
      "cell_type": "code",
      "execution_count": null,
      "metadata": {
        "id": "dfsWWpDLUHfA",
        "outputId": "94bbb605-e738-4aed-a65d-3a06e6bbfcb7"
      },
      "outputs": [
        {
          "data": {
            "text/html": [
              "<div>\n",
              "<style scoped>\n",
              "    .dataframe tbody tr th:only-of-type {\n",
              "        vertical-align: middle;\n",
              "    }\n",
              "\n",
              "    .dataframe tbody tr th {\n",
              "        vertical-align: top;\n",
              "    }\n",
              "\n",
              "    .dataframe thead th {\n",
              "        text-align: right;\n",
              "    }\n",
              "</style>\n",
              "<table border=\"1\" class=\"dataframe\">\n",
              "  <thead>\n",
              "    <tr style=\"text-align: right;\">\n",
              "      <th></th>\n",
              "      <th>city</th>\n",
              "      <th>state</th>\n",
              "      <th>country</th>\n",
              "      <th>lat</th>\n",
              "      <th>lon</th>\n",
              "    </tr>\n",
              "  </thead>\n",
              "  <tbody>\n",
              "    <tr>\n",
              "      <th>0</th>\n",
              "      <td>Minneapolis</td>\n",
              "      <td>Minnesota</td>\n",
              "      <td>USA</td>\n",
              "      <td>44.9773</td>\n",
              "      <td>-93.265469</td>\n",
              "    </tr>\n",
              "    <tr>\n",
              "      <th>1</th>\n",
              "      <td>Washington</td>\n",
              "      <td>District of Columbia</td>\n",
              "      <td>USA</td>\n",
              "      <td>38.895037</td>\n",
              "      <td>-77.036543</td>\n",
              "    </tr>\n",
              "    <tr>\n",
              "      <th>2</th>\n",
              "      <td>New York City</td>\n",
              "      <td>New York</td>\n",
              "      <td>USA</td>\n",
              "      <td>40.712728</td>\n",
              "      <td>-74.006015</td>\n",
              "    </tr>\n",
              "    <tr>\n",
              "      <th>3</th>\n",
              "      <td>New York</td>\n",
              "      <td>New York</td>\n",
              "      <td>USA</td>\n",
              "      <td>40.712728</td>\n",
              "      <td>-74.006015</td>\n",
              "    </tr>\n",
              "    <tr>\n",
              "      <th>4</th>\n",
              "      <td>Brooklyn</td>\n",
              "      <td>New York</td>\n",
              "      <td>USA</td>\n",
              "      <td>40.652601</td>\n",
              "      <td>-73.949721</td>\n",
              "    </tr>\n",
              "    <tr>\n",
              "      <th>...</th>\n",
              "      <td>...</td>\n",
              "      <td>...</td>\n",
              "      <td>...</td>\n",
              "      <td>...</td>\n",
              "      <td>...</td>\n",
              "    </tr>\n",
              "    <tr>\n",
              "      <th>59</th>\n",
              "      <td>Manhattan</td>\n",
              "      <td>New York</td>\n",
              "      <td>USA</td>\n",
              "      <td>40.789624</td>\n",
              "      <td>-73.959894</td>\n",
              "    </tr>\n",
              "    <tr>\n",
              "      <th>60</th>\n",
              "      <td>Massachusetts</td>\n",
              "      <td>Massachusetts</td>\n",
              "      <td>USA</td>\n",
              "      <td>NaN</td>\n",
              "      <td>NaN</td>\n",
              "    </tr>\n",
              "    <tr>\n",
              "      <th>61</th>\n",
              "      <td>Mexico City</td>\n",
              "      <td>Mexico City</td>\n",
              "      <td>Mexico</td>\n",
              "      <td>NaN</td>\n",
              "      <td>NaN</td>\n",
              "    </tr>\n",
              "    <tr>\n",
              "      <th>62</th>\n",
              "      <td>Miami</td>\n",
              "      <td>Florida</td>\n",
              "      <td>USA</td>\n",
              "      <td>25.774173</td>\n",
              "      <td>-80.19362</td>\n",
              "    </tr>\n",
              "    <tr>\n",
              "      <th>63</th>\n",
              "      <td>Alabama</td>\n",
              "      <td>Alabama</td>\n",
              "      <td>USA</td>\n",
              "      <td>33.520682</td>\n",
              "      <td>-86.802433</td>\n",
              "    </tr>\n",
              "  </tbody>\n",
              "</table>\n",
              "<p>64 rows × 5 columns</p>\n",
              "</div>"
            ],
            "text/plain": [
              "             city                 state country        lat        lon\n",
              "0     Minneapolis             Minnesota     USA    44.9773 -93.265469\n",
              "1      Washington  District of Columbia     USA  38.895037 -77.036543\n",
              "2   New York City              New York     USA  40.712728 -74.006015\n",
              "3        New York              New York     USA  40.712728 -74.006015\n",
              "4        Brooklyn              New York     USA  40.652601 -73.949721\n",
              "..            ...                   ...     ...        ...        ...\n",
              "59      Manhattan              New York     USA  40.789624 -73.959894\n",
              "60  Massachusetts         Massachusetts     USA        NaN        NaN\n",
              "61    Mexico City           Mexico City  Mexico        NaN        NaN\n",
              "62          Miami               Florida     USA  25.774173  -80.19362\n",
              "63        Alabama               Alabama     USA  33.520682 -86.802433\n",
              "\n",
              "[64 rows x 5 columns]"
            ]
          },
          "execution_count": 15,
          "metadata": {},
          "output_type": "execute_result"
        }
      ],
      "source": [
        "locations"
      ]
    },
    {
      "cell_type": "code",
      "execution_count": null,
      "metadata": {
        "id": "FEX0sfvpUHfA",
        "outputId": "d85835f7-96b2-4f7a-f9a8-bc8d6250c999"
      },
      "outputs": [
        {
          "data": {
            "text/plain": [
              "44.9772995"
            ]
          },
          "execution_count": 16,
          "metadata": {},
          "output_type": "execute_result"
        }
      ],
      "source": [
        "locations.loc[(locations['city'] == 'Minneapolis') & (locations['state'] == 'Minnesota'), 'lat'].iloc[0]"
      ]
    },
    {
      "cell_type": "code",
      "execution_count": null,
      "metadata": {
        "id": "Gn5v8fEbUHfB"
      },
      "outputs": [],
      "source": [
        "df['lat'] = [ locations.loc[(locations['city'] == x) & (locations['state'] == y) & (locations['country'] == z), 'lat'].iloc[0]  for x,y,z in df[['city','state','country']].to_numpy()]\n",
        "df['lon'] = [ locations.loc[(locations['city'] == x) & (locations['state'] == y) & (locations['country'] == z), 'lon'].iloc[0]  for x,y,z in df[['city','state','country']].to_numpy()]"
      ]
    },
    {
      "cell_type": "code",
      "execution_count": null,
      "metadata": {
        "id": "dw0JZWTKUHfB",
        "outputId": "0cfeeb91-fc62-465e-cbfb-6a682ca7c0cb"
      },
      "outputs": [
        {
          "data": {
            "text/html": [
              "<div>\n",
              "<style scoped>\n",
              "    .dataframe tbody tr th:only-of-type {\n",
              "        vertical-align: middle;\n",
              "    }\n",
              "\n",
              "    .dataframe tbody tr th {\n",
              "        vertical-align: top;\n",
              "    }\n",
              "\n",
              "    .dataframe thead th {\n",
              "        text-align: right;\n",
              "    }\n",
              "</style>\n",
              "<table border=\"1\" class=\"dataframe\">\n",
              "  <thead>\n",
              "    <tr style=\"text-align: right;\">\n",
              "      <th></th>\n",
              "      <th>id</th>\n",
              "      <th>city</th>\n",
              "      <th>state</th>\n",
              "      <th>country</th>\n",
              "      <th>date</th>\n",
              "      <th>url</th>\n",
              "      <th>lat</th>\n",
              "      <th>lon</th>\n",
              "    </tr>\n",
              "  </thead>\n",
              "  <tbody>\n",
              "    <tr>\n",
              "      <th>0</th>\n",
              "      <td>0</td>\n",
              "      <td>Minneapolis</td>\n",
              "      <td>Minnesota</td>\n",
              "      <td>USA</td>\n",
              "      <td>2020-05-20</td>\n",
              "      <td>nyt://article/89a6704f-755c-5d5b-b7fc-2370e22e...</td>\n",
              "      <td>44.9773</td>\n",
              "      <td>-93.265469</td>\n",
              "    </tr>\n",
              "    <tr>\n",
              "      <th>1</th>\n",
              "      <td>1</td>\n",
              "      <td>Minneapolis</td>\n",
              "      <td>Minnesota</td>\n",
              "      <td>USA</td>\n",
              "      <td>2020-05-27</td>\n",
              "      <td>nyt://article/1fba79e8-66a4-5cd6-adcd-79e6c323...</td>\n",
              "      <td>44.9773</td>\n",
              "      <td>-93.265469</td>\n",
              "    </tr>\n",
              "    <tr>\n",
              "      <th>2</th>\n",
              "      <td>2</td>\n",
              "      <td>Minneapolis</td>\n",
              "      <td>Minnesota</td>\n",
              "      <td>USA</td>\n",
              "      <td>2020-05-21</td>\n",
              "      <td>nyt://article/e0981348-6e47-556b-825b-065ab8f5...</td>\n",
              "      <td>44.9773</td>\n",
              "      <td>-93.265469</td>\n",
              "    </tr>\n",
              "    <tr>\n",
              "      <th>3</th>\n",
              "      <td>3</td>\n",
              "      <td>Kentucky</td>\n",
              "      <td>Kentucky</td>\n",
              "      <td>USA</td>\n",
              "      <td>2020-05-28</td>\n",
              "      <td>nyt://article/4148dca6-1e6c-568d-826d-a75740be...</td>\n",
              "      <td>NaN</td>\n",
              "      <td>NaN</td>\n",
              "    </tr>\n",
              "    <tr>\n",
              "      <th>4</th>\n",
              "      <td>4</td>\n",
              "      <td>Minnesota</td>\n",
              "      <td>Minnesota</td>\n",
              "      <td>USA</td>\n",
              "      <td>2020-05-29</td>\n",
              "      <td>nyt://article/b956312e-0b6e-588e-8616-169c1d4a...</td>\n",
              "      <td>43.84244</td>\n",
              "      <td>-93.832384</td>\n",
              "    </tr>\n",
              "    <tr>\n",
              "      <th>...</th>\n",
              "      <td>...</td>\n",
              "      <td>...</td>\n",
              "      <td>...</td>\n",
              "      <td>...</td>\n",
              "      <td>...</td>\n",
              "      <td>...</td>\n",
              "      <td>...</td>\n",
              "      <td>...</td>\n",
              "    </tr>\n",
              "    <tr>\n",
              "      <th>135</th>\n",
              "      <td>116</td>\n",
              "      <td>City Hall Park</td>\n",
              "      <td>City Hall Park</td>\n",
              "      <td>USA</td>\n",
              "      <td>2020-06-23</td>\n",
              "      <td>nyt://article/08c95638-5ff4-5a0e-bbcb-c71df586...</td>\n",
              "      <td>NaN</td>\n",
              "      <td>NaN</td>\n",
              "    </tr>\n",
              "    <tr>\n",
              "      <th>136</th>\n",
              "      <td>117</td>\n",
              "      <td>New York City</td>\n",
              "      <td>New York</td>\n",
              "      <td>USA</td>\n",
              "      <td>2020-06-28</td>\n",
              "      <td>nyt://article/d321e592-103c-589b-9a87-197a7946...</td>\n",
              "      <td>40.712728</td>\n",
              "      <td>-74.006015</td>\n",
              "    </tr>\n",
              "    <tr>\n",
              "      <th>137</th>\n",
              "      <td>118</td>\n",
              "      <td>Seattle</td>\n",
              "      <td>Washington</td>\n",
              "      <td>USA</td>\n",
              "      <td>2020-06-28</td>\n",
              "      <td>nyt://article/0bbfbc24-391c-512c-bf82-934841e5...</td>\n",
              "      <td>47.603832</td>\n",
              "      <td>-122.330062</td>\n",
              "    </tr>\n",
              "    <tr>\n",
              "      <th>138</th>\n",
              "      <td>119</td>\n",
              "      <td>St Louis</td>\n",
              "      <td>Missouri</td>\n",
              "      <td>USA</td>\n",
              "      <td>2020-06-22</td>\n",
              "      <td>nyt://article/a41426fc-ae75-5145-a731-e7480636...</td>\n",
              "      <td>38.631966</td>\n",
              "      <td>-90.242876</td>\n",
              "    </tr>\n",
              "    <tr>\n",
              "      <th>139</th>\n",
              "      <td>120</td>\n",
              "      <td>Minneapolis</td>\n",
              "      <td>Minnesota</td>\n",
              "      <td>USA</td>\n",
              "      <td>2020-06-29</td>\n",
              "      <td>nyt://article/5c7e0c68-2604-505a-940b-1c8cd651...</td>\n",
              "      <td>44.9773</td>\n",
              "      <td>-93.265469</td>\n",
              "    </tr>\n",
              "  </tbody>\n",
              "</table>\n",
              "<p>140 rows × 8 columns</p>\n",
              "</div>"
            ],
            "text/plain": [
              "      id            city           state country        date  \\\n",
              "0      0     Minneapolis       Minnesota     USA  2020-05-20   \n",
              "1      1     Minneapolis       Minnesota     USA  2020-05-27   \n",
              "2      2     Minneapolis       Minnesota     USA  2020-05-21   \n",
              "3      3        Kentucky        Kentucky     USA  2020-05-28   \n",
              "4      4       Minnesota       Minnesota     USA  2020-05-29   \n",
              "..   ...             ...             ...     ...         ...   \n",
              "135  116  City Hall Park  City Hall Park     USA  2020-06-23   \n",
              "136  117   New York City        New York     USA  2020-06-28   \n",
              "137  118         Seattle      Washington     USA  2020-06-28   \n",
              "138  119        St Louis        Missouri     USA  2020-06-22   \n",
              "139  120     Minneapolis       Minnesota     USA  2020-06-29   \n",
              "\n",
              "                                                   url        lat         lon  \n",
              "0    nyt://article/89a6704f-755c-5d5b-b7fc-2370e22e...    44.9773  -93.265469  \n",
              "1    nyt://article/1fba79e8-66a4-5cd6-adcd-79e6c323...    44.9773  -93.265469  \n",
              "2    nyt://article/e0981348-6e47-556b-825b-065ab8f5...    44.9773  -93.265469  \n",
              "3    nyt://article/4148dca6-1e6c-568d-826d-a75740be...        NaN         NaN  \n",
              "4    nyt://article/b956312e-0b6e-588e-8616-169c1d4a...   43.84244  -93.832384  \n",
              "..                                                 ...        ...         ...  \n",
              "135  nyt://article/08c95638-5ff4-5a0e-bbcb-c71df586...        NaN         NaN  \n",
              "136  nyt://article/d321e592-103c-589b-9a87-197a7946...  40.712728  -74.006015  \n",
              "137  nyt://article/0bbfbc24-391c-512c-bf82-934841e5...  47.603832 -122.330062  \n",
              "138  nyt://article/a41426fc-ae75-5145-a731-e7480636...  38.631966  -90.242876  \n",
              "139  nyt://article/5c7e0c68-2604-505a-940b-1c8cd651...    44.9773  -93.265469  \n",
              "\n",
              "[140 rows x 8 columns]"
            ]
          },
          "execution_count": 18,
          "metadata": {},
          "output_type": "execute_result"
        }
      ],
      "source": [
        "df"
      ]
    },
    {
      "cell_type": "markdown",
      "metadata": {
        "id": "S73wEqOKUHfC"
      },
      "source": [
        "### Gold Standard File"
      ]
    },
    {
      "cell_type": "code",
      "execution_count": null,
      "metadata": {
        "id": "LaaNyPnKUHfC",
        "outputId": "86b3757c-08e0-47f6-89a2-daa753c54746"
      },
      "outputs": [
        {
          "name": "stdout",
          "output_type": "stream",
          "text": [
            "loading system submission data from file: D:\\Papers\\CASE2022\\SHARED TASK\\SYSTEM_SUBMISSIONS\\GoldStandard\\protest_events_merged.csv\n"
          ]
        }
      ],
      "source": [
        "gs = load_system_submission(\"D:\\\\Papers\\\\CASE2022\\\\SHARED TASK\\\\SYSTEM_SUBMISSIONS\",\"GoldStandard\",\"protest_events_merged.csv\",0)\n",
        "#df.columns =['id','city', 'state', 'country', 'date','url']\n"
      ]
    },
    {
      "cell_type": "code",
      "execution_count": null,
      "metadata": {
        "id": "Xko36MeQUHfD",
        "outputId": "f9b00af6-9aed-4d10-9e73-4eaccb91c0b4"
      },
      "outputs": [
        {
          "data": {
            "text/plain": [
              "7976"
            ]
          },
          "execution_count": 20,
          "metadata": {},
          "output_type": "execute_result"
        }
      ],
      "source": [
        "len(gs)"
      ]
    },
    {
      "cell_type": "code",
      "execution_count": null,
      "metadata": {
        "id": "nZ30wJskUHfD"
      },
      "outputs": [],
      "source": [
        "locations_gs = gs[['City','Region','Country']].value_counts(ascending=False).reset_index(name='count')[['City','Region','Country']]"
      ]
    },
    {
      "cell_type": "code",
      "execution_count": null,
      "metadata": {
        "id": "PhP5qXosUHfE",
        "outputId": "11e0bc4d-c4c9-4cd2-ccb8-42eded8f7d4e"
      },
      "outputs": [
        {
          "data": {
            "text/html": [
              "<div>\n",
              "<style scoped>\n",
              "    .dataframe tbody tr th:only-of-type {\n",
              "        vertical-align: middle;\n",
              "    }\n",
              "\n",
              "    .dataframe tbody tr th {\n",
              "        vertical-align: top;\n",
              "    }\n",
              "\n",
              "    .dataframe thead th {\n",
              "        text-align: right;\n",
              "    }\n",
              "</style>\n",
              "<table border=\"1\" class=\"dataframe\">\n",
              "  <thead>\n",
              "    <tr style=\"text-align: right;\">\n",
              "      <th></th>\n",
              "      <th>City</th>\n",
              "      <th>Region</th>\n",
              "      <th>Country</th>\n",
              "    </tr>\n",
              "  </thead>\n",
              "  <tbody>\n",
              "    <tr>\n",
              "      <th>0</th>\n",
              "      <td>New York</td>\n",
              "      <td>New York</td>\n",
              "      <td>USA</td>\n",
              "    </tr>\n",
              "    <tr>\n",
              "      <th>1</th>\n",
              "      <td>Washington</td>\n",
              "      <td>District of Columbia</td>\n",
              "      <td>USA</td>\n",
              "    </tr>\n",
              "    <tr>\n",
              "      <th>2</th>\n",
              "      <td>Portland</td>\n",
              "      <td>Oregon</td>\n",
              "      <td>USA</td>\n",
              "    </tr>\n",
              "    <tr>\n",
              "      <th>3</th>\n",
              "      <td>San Francisco</td>\n",
              "      <td>California</td>\n",
              "      <td>USA</td>\n",
              "    </tr>\n",
              "    <tr>\n",
              "      <th>4</th>\n",
              "      <td>Los Angeles</td>\n",
              "      <td>California</td>\n",
              "      <td>USA</td>\n",
              "    </tr>\n",
              "    <tr>\n",
              "      <th>...</th>\n",
              "      <td>...</td>\n",
              "      <td>...</td>\n",
              "      <td>...</td>\n",
              "    </tr>\n",
              "    <tr>\n",
              "      <th>3995</th>\n",
              "      <td>Hillsborough</td>\n",
              "      <td>North Carolina</td>\n",
              "      <td>USA</td>\n",
              "    </tr>\n",
              "    <tr>\n",
              "      <th>3996</th>\n",
              "      <td>Hillsdale</td>\n",
              "      <td>Michigan</td>\n",
              "      <td>USA</td>\n",
              "    </tr>\n",
              "    <tr>\n",
              "      <th>3997</th>\n",
              "      <td>Hillside</td>\n",
              "      <td>New Jersey</td>\n",
              "      <td>USA</td>\n",
              "    </tr>\n",
              "    <tr>\n",
              "      <th>3998</th>\n",
              "      <td>Hilton</td>\n",
              "      <td>New York</td>\n",
              "      <td>USA</td>\n",
              "    </tr>\n",
              "    <tr>\n",
              "      <th>3999</th>\n",
              "      <td>Loganville</td>\n",
              "      <td>Georgia</td>\n",
              "      <td>USA</td>\n",
              "    </tr>\n",
              "  </tbody>\n",
              "</table>\n",
              "<p>4000 rows × 3 columns</p>\n",
              "</div>"
            ],
            "text/plain": [
              "               City                Region Country\n",
              "0          New York              New York     USA\n",
              "1        Washington  District of Columbia     USA\n",
              "2          Portland                Oregon     USA\n",
              "3     San Francisco            California     USA\n",
              "4       Los Angeles            California     USA\n",
              "...             ...                   ...     ...\n",
              "3995   Hillsborough        North Carolina     USA\n",
              "3996      Hillsdale              Michigan     USA\n",
              "3997       Hillside            New Jersey     USA\n",
              "3998         Hilton              New York     USA\n",
              "3999     Loganville               Georgia     USA\n",
              "\n",
              "[4000 rows x 3 columns]"
            ]
          },
          "execution_count": 22,
          "metadata": {},
          "output_type": "execute_result"
        }
      ],
      "source": [
        "locations_gs"
      ]
    },
    {
      "cell_type": "code",
      "execution_count": null,
      "metadata": {
        "id": "ZUcm1B9yUHfE"
      },
      "outputs": [],
      "source": [
        "# Iterating over two columns, use `zip`\n",
        "results_gs = [geolocator.geocode(make_structured_query(x,y,z)) for x, y, z in locations_gs[['City','Region','Country']].to_numpy()]\n"
      ]
    },
    {
      "cell_type": "code",
      "execution_count": null,
      "metadata": {
        "id": "MFVDLrQrUHfE"
      },
      "outputs": [],
      "source": [
        "locations_gs['lat'] = [result.latitude if result is not None else 'NaN' for result in results_gs]\n",
        "locations_gs['lon'] = [result.longitude if result is not None else 'NaN' for result in results_gs]"
      ]
    },
    {
      "cell_type": "code",
      "execution_count": null,
      "metadata": {
        "id": "0gIGfFYUUHfF"
      },
      "outputs": [],
      "source": [
        "gs['lat'] = [ locations_gs.loc[(locations_gs['City'] == x) & (locations_gs['Region'] == y) & (locations_gs['Country'] == z), 'lat'].iloc[0]  for x,y,z in gs[['City','Region','Country']].to_numpy()]\n",
        "gs['lon'] = [ locations_gs.loc[(locations_gs['City'] == x) & (locations_gs['Region'] == y) & (locations_gs['Country'] == z), 'lon'].iloc[0]  for x,y,z in gs[['City','Region','Country']].to_numpy()]"
      ]
    },
    {
      "cell_type": "code",
      "execution_count": null,
      "metadata": {
        "id": "dX3wX9x3UHfF",
        "outputId": "5c8b4641-98d0-4ffb-b83e-7d76f8c131fa"
      },
      "outputs": [
        {
          "data": {
            "text/plain": [
              "7976"
            ]
          },
          "execution_count": 47,
          "metadata": {},
          "output_type": "execute_result"
        }
      ],
      "source": [
        "len(gs)"
      ]
    },
    {
      "cell_type": "markdown",
      "metadata": {
        "id": "ypHwitrdUHfG"
      },
      "source": [
        "## PRIO-GRID normalization"
      ]
    },
    {
      "cell_type": "markdown",
      "metadata": {
        "id": "HDqDqL9yUHfG"
      },
      "source": [
        "We join event point shapefiles with a PRIO-GRID shapefile. PRIO-GRID is a vector grid network with a resolution of 0.5 x 0.5 decimal degrees (~55 km), covering all terrestrial areas of the world.\n",
        "The following code is the equivalent of the following QGIS procedure:\n",
        "Menu > Vector > Data Management Tools > Join attributes by location \n",
        "Target : points layer, Join layer: polygons layer. That way info from your districts goes into your points Geometric predicate : Check ON all the options: intersects, touches etc. I haven't looked further into this yet but just one option had not worked out earlier.\n",
        "Attributes summary : Take attributes of first located feature Joined table : \n",
        "Keep all records ... that will preserve the points that were outside of all the wards too"
      ]
    },
    {
      "cell_type": "code",
      "execution_count": null,
      "metadata": {
        "id": "P853OUHdUHfG",
        "outputId": "c969bcec-3929-4240-ce2e-b6edc84ac10d"
      },
      "outputs": [
        {
          "data": {
            "text/plain": [
              "['C:\\\\Users\\\\Vanni',\n",
              " 'C:\\\\Users\\\\Vanni\\\\anaconda3\\\\envs\\\\case2022_env\\\\python310.zip',\n",
              " 'C:\\\\Users\\\\Vanni\\\\anaconda3\\\\envs\\\\case2022_env\\\\DLLs',\n",
              " 'C:\\\\Users\\\\Vanni\\\\anaconda3\\\\envs\\\\case2022_env\\\\lib',\n",
              " 'C:\\\\Users\\\\Vanni\\\\anaconda3\\\\envs\\\\case2022_env',\n",
              " '',\n",
              " 'C:\\\\Users\\\\Vanni\\\\anaconda3\\\\envs\\\\case2022_env\\\\lib\\\\site-packages',\n",
              " 'C:\\\\Users\\\\Vanni\\\\anaconda3\\\\envs\\\\case2022_env\\\\lib\\\\site-packages\\\\win32',\n",
              " 'C:\\\\Users\\\\Vanni\\\\anaconda3\\\\envs\\\\case2022_env\\\\lib\\\\site-packages\\\\win32\\\\lib',\n",
              " 'C:\\\\Users\\\\Vanni\\\\anaconda3\\\\envs\\\\case2022_env\\\\lib\\\\site-packages\\\\Pythonwin']"
            ]
          },
          "execution_count": 31,
          "metadata": {},
          "output_type": "execute_result"
        }
      ],
      "source": [
        "import sys\n",
        "sys.path"
      ]
    },
    {
      "cell_type": "code",
      "execution_count": null,
      "metadata": {
        "id": "Qkry65stUHfH",
        "outputId": "c09d12da-4b66-4ff8-9ebd-d5e7a613feca"
      },
      "outputs": [
        {
          "data": {
            "text/plain": [
              "['C:\\\\Users\\\\Vanni\\\\anaconda3\\\\envs\\\\case2022_env\\\\lib\\\\site-packages\\\\pandas']"
            ]
          },
          "execution_count": 32,
          "metadata": {},
          "output_type": "execute_result"
        }
      ],
      "source": [
        "import pandas\n",
        "pandas.__path__"
      ]
    },
    {
      "cell_type": "code",
      "execution_count": null,
      "metadata": {
        "id": "5makEZpWUHfH",
        "outputId": "2677a064-d19d-45e7-c133-2787975f3e71"
      },
      "outputs": [
        {
          "name": "stdout",
          "output_type": "stream",
          "text": [
            "-a.\n",
            "\n",
            "python.\n"
          ]
        },
        {
          "name": "stderr",
          "output_type": "stream",
          "text": [
            "\"-a.\" non Š riconosciuto come comando interno o esterno,\n",
            " un programma eseguibile o un file batch.\n"
          ]
        },
        {
          "name": "stdout",
          "output_type": "stream",
          "text": [
            "\n",
            "specificato.\n"
          ]
        },
        {
          "name": "stderr",
          "output_type": "stream",
          "text": [
            "\"python.\" non Š riconosciuto come comando interno o esterno,\n",
            " un programma eseguibile o un file batch.\n",
            "\"specificato.\" non Š riconosciuto come comando interno o esterno,\n",
            " un programma eseguibile o un file batch.\n"
          ]
        },
        {
          "name": "stdout",
          "output_type": "stream",
          "text": [
            "\n"
          ]
        }
      ],
      "source": [
        "paths = !type -a python\n",
        "for path in set(paths):\n",
        "    path = path.split()[-1]\n",
        "    print(path)\n",
        "    !{path} -c \"import sys; print(sys.path)\"\n",
        "    print()"
      ]
    },
    {
      "cell_type": "code",
      "execution_count": null,
      "metadata": {
        "id": "ROey-GjfUHfI"
      },
      "outputs": [],
      "source": [
        "import numpy as np\n",
        "import pandas as pd\n",
        "import geopandas as gpd\n",
        "import scipy\n",
        "import shapely\n",
        "import matplotlib.pyplot as plt\n",
        "import bokeh\n",
        "import cartopy\n",
        "import statsmodels\n",
        "import sklearn\n",
        "import osmnx\n",
        "import folium"
      ]
    },
    {
      "cell_type": "code",
      "execution_count": null,
      "metadata": {
        "id": "2nd75SFDUHfI",
        "outputId": "ce419c46-f4b9-4544-88c3-1d4cef3f1f28"
      },
      "outputs": [
        {
          "name": "stdout",
          "output_type": "stream",
          "text": [
            "time to read the priogrid shape file = 0.28879652818044027 minutes\n"
          ]
        }
      ],
      "source": [
        "# Filepath\n",
        "tic = time.time()\n",
        "fp = \"D:\\\\Papers\\\\Work_Documentation\\\\CASE2021\\\\priogrid_shapefiles\\\\priogrid_cell.shp\"\n",
        "\n",
        "# Read the data\n",
        "priogrid = gpd.read_file(fp)\n",
        "toc = time.time()\n",
        "print('time to read the priogrid shape file = ' + str((toc - tic)/60) + ' minutes' )\n"
      ]
    },
    {
      "cell_type": "code",
      "execution_count": null,
      "metadata": {
        "id": "CxGxt6zYUHfJ",
        "outputId": "e00f1df5-2c09-4ad1-b8b6-462c5506eea4"
      },
      "outputs": [
        {
          "data": {
            "text/plain": [
              "259200"
            ]
          },
          "execution_count": 39,
          "metadata": {},
          "output_type": "execute_result"
        }
      ],
      "source": [
        "len(priogrid)"
      ]
    },
    {
      "cell_type": "code",
      "execution_count": null,
      "metadata": {
        "id": "DP-1ObsRUHfK",
        "outputId": "288a0598-398f-46cb-8412-40b16a5d5a0f"
      },
      "outputs": [
        {
          "name": "stdout",
          "output_type": "stream",
          "text": [
            "<class 'geopandas.geodataframe.GeoDataFrame'>\n",
            "RangeIndex: 1 entries, 0 to 0\n",
            "Data columns (total 3 columns):\n",
            " #   Column    Non-Null Count  Dtype   \n",
            "---  ------    --------------  -----   \n",
            " 0   GID_0     1 non-null      object  \n",
            " 1   NAME_0    1 non-null      object  \n",
            " 2   geometry  1 non-null      geometry\n",
            "dtypes: geometry(1), object(2)\n",
            "memory usage: 152.0+ bytes\n"
          ]
        }
      ],
      "source": [
        "# Filepath\n",
        "fp = \"D:\\Papers\\Work_Documentation\\CASE2021\\data\\BLMGoldStandard\\gadm36_USA_shp\"\n",
        "\n",
        "usa = gpd.read_file(fp)\n",
        "usa.info()"
      ]
    },
    {
      "cell_type": "markdown",
      "metadata": {
        "id": "0YHcwv6kUHfK"
      },
      "source": [
        "### Intersection of PRIOGrid with the US country shape file"
      ]
    },
    {
      "cell_type": "code",
      "execution_count": null,
      "metadata": {
        "id": "kufjWb71UHfK",
        "outputId": "fdd43901-a7c1-4036-91d0-a3ff11e18a5f"
      },
      "outputs": [
        {
          "name": "stderr",
          "output_type": "stream",
          "text": [
            "\n",
            "KeyboardInterrupt\n",
            "\n"
          ]
        }
      ],
      "source": [
        "import time\n",
        "import shapely.speedups\n",
        "\n",
        "shapely.speedups.enable()\n",
        "# enable shapely.speedups which makes queries running faster.\n",
        "\n",
        "tic = time.time()\n",
        "priogrid_mask = priogrid.within(usa.loc[0, 'geometry']) \n",
        "# selecting the polygon's geometry field to filter out points that \n",
        "# are not overlaid\n",
        "toc = time.time()\n",
        "print('time to execute the intersection with USA shape file = ' + str(toc - tic)/60 + ' minutes' )\n",
        "\n",
        "priogrid_usa = usa.loc[priogrid_mask]\n"
      ]
    },
    {
      "cell_type": "code",
      "execution_count": null,
      "metadata": {
        "id": "9iQQ9STuUHfL"
      },
      "outputs": [],
      "source": [
        "len(priogrid_usa)"
      ]
    },
    {
      "cell_type": "markdown",
      "metadata": {
        "id": "0gKu0dEHUHfL"
      },
      "source": [
        "### Gold Standard File\n",
        "###### reading the PrioGrid-joined Gold Standard from file:"
      ]
    },
    {
      "cell_type": "code",
      "execution_count": null,
      "metadata": {
        "id": "OEUTjHFGUHfL",
        "outputId": "d668c203-ee40-46e0-b1d1-ed3741d45b26"
      },
      "outputs": [
        {
          "name": "stderr",
          "output_type": "stream",
          "text": [
            "C:\\Users\\Vanni\\anaconda3\\envs\\case2022_env\\lib\\site-packages\\IPython\\core\\interactiveshell.py:3398: FutureWarning: The `op` parameter is deprecated and will be removed in a future release. Please use the `predicate` parameter instead.\n",
            "  exec(code_obj, self.user_global_ns, self.user_ns)\n"
          ]
        },
        {
          "name": "stdout",
          "output_type": "stream",
          "text": [
            "time to execute the sjoin with PRIOGrid shape file = -52.42990779876709s\n"
          ]
        },
        {
          "data": {
            "text/html": [
              "<div>\n",
              "<style scoped>\n",
              "    .dataframe tbody tr th:only-of-type {\n",
              "        vertical-align: middle;\n",
              "    }\n",
              "\n",
              "    .dataframe tbody tr th {\n",
              "        vertical-align: top;\n",
              "    }\n",
              "\n",
              "    .dataframe thead th {\n",
              "        text-align: right;\n",
              "    }\n",
              "</style>\n",
              "<table border=\"1\" class=\"dataframe\">\n",
              "  <thead>\n",
              "    <tr style=\"text-align: right;\">\n",
              "      <th></th>\n",
              "      <th>Unnamed: 0</th>\n",
              "      <th>ID</th>\n",
              "      <th>City</th>\n",
              "      <th>Region</th>\n",
              "      <th>Country</th>\n",
              "      <th>Source_URL</th>\n",
              "      <th>Date</th>\n",
              "      <th>X_Longitude</th>\n",
              "      <th>Y_Latitude</th>\n",
              "      <th>Gold_Standard</th>\n",
              "      <th>lat</th>\n",
              "      <th>lon</th>\n",
              "      <th>geometry</th>\n",
              "      <th>index_right</th>\n",
              "      <th>gid</th>\n",
              "    </tr>\n",
              "  </thead>\n",
              "  <tbody>\n",
              "    <tr>\n",
              "      <th>0</th>\n",
              "      <td>0</td>\n",
              "      <td>1</td>\n",
              "      <td>Juneau</td>\n",
              "      <td>Alaska</td>\n",
              "      <td>USA</td>\n",
              "      <td>https://www.juneauempire.com/news/hundreds-gat...</td>\n",
              "      <td>2020-06-06</td>\n",
              "      <td>-134.40679</td>\n",
              "      <td>58.29973</td>\n",
              "      <td>1</td>\n",
              "      <td>58.30195</td>\n",
              "      <td>-134.419734</td>\n",
              "      <td>POINT (-134.41973 58.30195)</td>\n",
              "      <td>45957</td>\n",
              "      <td>213212</td>\n",
              "    </tr>\n",
              "    <tr>\n",
              "      <th>1</th>\n",
              "      <td>1</td>\n",
              "      <td>2</td>\n",
              "      <td>Anchorage</td>\n",
              "      <td>Alaska</td>\n",
              "      <td>USA</td>\n",
              "      <td>https://www.adn.com/alaska-news/anchorage/2020...</td>\n",
              "      <td>2020-05-30</td>\n",
              "      <td>-149.85825</td>\n",
              "      <td>61.21753</td>\n",
              "      <td>1</td>\n",
              "      <td>61.216313</td>\n",
              "      <td>-149.894852</td>\n",
              "      <td>POINT (-149.89485 61.21631)</td>\n",
              "      <td>41686</td>\n",
              "      <td>217501</td>\n",
              "    </tr>\n",
              "    <tr>\n",
              "      <th>4246</th>\n",
              "      <td>4246</td>\n",
              "      <td>4247</td>\n",
              "      <td>Anchorage</td>\n",
              "      <td>Alaska</td>\n",
              "      <td>USA</td>\n",
              "      <td>https://www.adn.com/alaska-news/anchorage/2020...</td>\n",
              "      <td>2020-06-05</td>\n",
              "      <td>NaN</td>\n",
              "      <td>NaN</td>\n",
              "      <td>0</td>\n",
              "      <td>61.216313</td>\n",
              "      <td>-149.894852</td>\n",
              "      <td>POINT (-149.89485 61.21631)</td>\n",
              "      <td>41686</td>\n",
              "      <td>217501</td>\n",
              "    </tr>\n",
              "    <tr>\n",
              "      <th>2</th>\n",
              "      <td>2</td>\n",
              "      <td>3</td>\n",
              "      <td>Fairbanks</td>\n",
              "      <td>Alaska</td>\n",
              "      <td>USA</td>\n",
              "      <td>http://www.newsminer.com/alerts/hundreds-gathe...</td>\n",
              "      <td>2020-05-30</td>\n",
              "      <td>-147.72210</td>\n",
              "      <td>64.84525</td>\n",
              "      <td>1</td>\n",
              "      <td>64.837845</td>\n",
              "      <td>-147.716675</td>\n",
              "      <td>POINT (-147.71668 64.83785)</td>\n",
              "      <td>36650</td>\n",
              "      <td>222545</td>\n",
              "    </tr>\n",
              "    <tr>\n",
              "      <th>4631</th>\n",
              "      <td>4631</td>\n",
              "      <td>4632</td>\n",
              "      <td>Fairbanks</td>\n",
              "      <td>Alaska</td>\n",
              "      <td>USA</td>\n",
              "      <td>www.newsminer.com/news/local_news/white-coats-...</td>\n",
              "      <td>2020-06-06</td>\n",
              "      <td>NaN</td>\n",
              "      <td>NaN</td>\n",
              "      <td>0</td>\n",
              "      <td>64.837845</td>\n",
              "      <td>-147.716675</td>\n",
              "      <td>POINT (-147.71668 64.83785)</td>\n",
              "      <td>36650</td>\n",
              "      <td>222545</td>\n",
              "    </tr>\n",
              "  </tbody>\n",
              "</table>\n",
              "</div>"
            ],
            "text/plain": [
              "      Unnamed: 0    ID       City  Region Country  \\\n",
              "0              0     1     Juneau  Alaska     USA   \n",
              "1              1     2  Anchorage  Alaska     USA   \n",
              "4246        4246  4247  Anchorage  Alaska     USA   \n",
              "2              2     3  Fairbanks  Alaska     USA   \n",
              "4631        4631  4632  Fairbanks  Alaska     USA   \n",
              "\n",
              "                                             Source_URL        Date  \\\n",
              "0     https://www.juneauempire.com/news/hundreds-gat...  2020-06-06   \n",
              "1     https://www.adn.com/alaska-news/anchorage/2020...  2020-05-30   \n",
              "4246  https://www.adn.com/alaska-news/anchorage/2020...  2020-06-05   \n",
              "2     http://www.newsminer.com/alerts/hundreds-gathe...  2020-05-30   \n",
              "4631  www.newsminer.com/news/local_news/white-coats-...  2020-06-06   \n",
              "\n",
              "      X_Longitude  Y_Latitude  Gold_Standard        lat         lon  \\\n",
              "0      -134.40679    58.29973              1   58.30195 -134.419734   \n",
              "1      -149.85825    61.21753              1  61.216313 -149.894852   \n",
              "4246          NaN         NaN              0  61.216313 -149.894852   \n",
              "2      -147.72210    64.84525              1  64.837845 -147.716675   \n",
              "4631          NaN         NaN              0  64.837845 -147.716675   \n",
              "\n",
              "                         geometry  index_right     gid  \n",
              "0     POINT (-134.41973 58.30195)        45957  213212  \n",
              "1     POINT (-149.89485 61.21631)        41686  217501  \n",
              "4246  POINT (-149.89485 61.21631)        41686  217501  \n",
              "2     POINT (-147.71668 64.83785)        36650  222545  \n",
              "4631  POINT (-147.71668 64.83785)        36650  222545  "
            ]
          },
          "execution_count": 77,
          "metadata": {},
          "output_type": "execute_result"
        }
      ],
      "source": [
        "gs = pd.read_csv(csv_path,header=True)"
      ]
    },
    {
      "cell_type": "code",
      "execution_count": null,
      "metadata": {
        "id": "Sc6mU33rUHfM",
        "outputId": "3b84d378-853a-4a26-89d6-bc456ba5869f"
      },
      "outputs": [
        {
          "data": {
            "text/plain": [
              "7883"
            ]
          },
          "execution_count": 85,
          "metadata": {},
          "output_type": "execute_result"
        }
      ],
      "source": [
        "len(join)"
      ]
    },
    {
      "cell_type": "markdown",
      "metadata": {
        "id": "OFExPrbkUHfM"
      },
      "source": [
        "### Intersection with the US country shape file"
      ]
    },
    {
      "cell_type": "code",
      "execution_count": null,
      "metadata": {
        "id": "UP5sM9E4UHfM",
        "outputId": "4141f6b7-d83c-43f4-e07f-16d590d4f4b2"
      },
      "outputs": [
        {
          "name": "stdout",
          "output_type": "stream",
          "text": [
            "time to execute the intersaction with USA shape file = -3290.292199611664s\n"
          ]
        }
      ],
      "source": [
        "import shapely.speedups\n",
        "\n",
        "shapely.speedups.enable() \n",
        "# enable shapely.speedups which makes queries running faster.\n",
        "\n",
        "tic = time.time()\n",
        "gs_mask = join.within(usa.loc[0, 'geometry']) \n",
        "# selecting the polygon's geometry field to filter out points that \n",
        "# are not overlaid\n",
        "toc = time.time()\n",
        "print('time to execute the intersection with USA shape file = ' + str(toc - tic)/60 + ' minutes' )\n",
        "\n",
        "\n",
        "pip_usa = usa.loc[gs_mask]\n",
        "\n",
        "#data_gs = []\n",
        "#for index, orig in gs_gdf.iterrows():\n",
        " #   for index2, ref in usa.iterrows():      \n",
        "  #      if ref['geometry'].intersects(orig['geometry']): \n",
        "   #      owdspd=orig['ID']\n",
        "    #     data_gs.append({'geometry':ref['geometry'].intersection(orig['geometry']),'wdspd':owdspd})"
      ]
    },
    {
      "cell_type": "code",
      "execution_count": null,
      "metadata": {
        "id": "nyyKwBYdUHfN"
      },
      "outputs": [],
      "source": [
        "pip_usa = join.loc[gs_mask]"
      ]
    },
    {
      "cell_type": "code",
      "execution_count": null,
      "metadata": {
        "id": "nY06UwgFUHfN",
        "outputId": "fd061990-9084-4d2b-c659-e43633d9ea88"
      },
      "outputs": [
        {
          "data": {
            "text/html": [
              "<div>\n",
              "<style scoped>\n",
              "    .dataframe tbody tr th:only-of-type {\n",
              "        vertical-align: middle;\n",
              "    }\n",
              "\n",
              "    .dataframe tbody tr th {\n",
              "        vertical-align: top;\n",
              "    }\n",
              "\n",
              "    .dataframe thead th {\n",
              "        text-align: right;\n",
              "    }\n",
              "</style>\n",
              "<table border=\"1\" class=\"dataframe\">\n",
              "  <thead>\n",
              "    <tr style=\"text-align: right;\">\n",
              "      <th></th>\n",
              "      <th>Unnamed: 0</th>\n",
              "      <th>ID</th>\n",
              "      <th>City</th>\n",
              "      <th>Region</th>\n",
              "      <th>Country</th>\n",
              "      <th>Source_URL</th>\n",
              "      <th>Date</th>\n",
              "      <th>X_Longitude</th>\n",
              "      <th>Y_Latitude</th>\n",
              "      <th>Gold_Standard</th>\n",
              "      <th>lat</th>\n",
              "      <th>lon</th>\n",
              "      <th>geometry</th>\n",
              "      <th>index_right</th>\n",
              "      <th>gid</th>\n",
              "    </tr>\n",
              "  </thead>\n",
              "  <tbody>\n",
              "    <tr>\n",
              "      <th>0</th>\n",
              "      <td>0</td>\n",
              "      <td>1</td>\n",
              "      <td>Juneau</td>\n",
              "      <td>Alaska</td>\n",
              "      <td>USA</td>\n",
              "      <td>https://www.juneauempire.com/news/hundreds-gat...</td>\n",
              "      <td>2020-06-06</td>\n",
              "      <td>-134.40679</td>\n",
              "      <td>58.29973</td>\n",
              "      <td>1</td>\n",
              "      <td>58.30195</td>\n",
              "      <td>-134.419734</td>\n",
              "      <td>POINT (-134.41973 58.30195)</td>\n",
              "      <td>45957</td>\n",
              "      <td>213212</td>\n",
              "    </tr>\n",
              "    <tr>\n",
              "      <th>1</th>\n",
              "      <td>1</td>\n",
              "      <td>2</td>\n",
              "      <td>Anchorage</td>\n",
              "      <td>Alaska</td>\n",
              "      <td>USA</td>\n",
              "      <td>https://www.adn.com/alaska-news/anchorage/2020...</td>\n",
              "      <td>2020-05-30</td>\n",
              "      <td>-149.85825</td>\n",
              "      <td>61.21753</td>\n",
              "      <td>1</td>\n",
              "      <td>61.216313</td>\n",
              "      <td>-149.894852</td>\n",
              "      <td>POINT (-149.89485 61.21631)</td>\n",
              "      <td>41686</td>\n",
              "      <td>217501</td>\n",
              "    </tr>\n",
              "    <tr>\n",
              "      <th>4246</th>\n",
              "      <td>4246</td>\n",
              "      <td>4247</td>\n",
              "      <td>Anchorage</td>\n",
              "      <td>Alaska</td>\n",
              "      <td>USA</td>\n",
              "      <td>https://www.adn.com/alaska-news/anchorage/2020...</td>\n",
              "      <td>2020-06-05</td>\n",
              "      <td>NaN</td>\n",
              "      <td>NaN</td>\n",
              "      <td>0</td>\n",
              "      <td>61.216313</td>\n",
              "      <td>-149.894852</td>\n",
              "      <td>POINT (-149.89485 61.21631)</td>\n",
              "      <td>41686</td>\n",
              "      <td>217501</td>\n",
              "    </tr>\n",
              "    <tr>\n",
              "      <th>2</th>\n",
              "      <td>2</td>\n",
              "      <td>3</td>\n",
              "      <td>Fairbanks</td>\n",
              "      <td>Alaska</td>\n",
              "      <td>USA</td>\n",
              "      <td>http://www.newsminer.com/alerts/hundreds-gathe...</td>\n",
              "      <td>2020-05-30</td>\n",
              "      <td>-147.72210</td>\n",
              "      <td>64.84525</td>\n",
              "      <td>1</td>\n",
              "      <td>64.837845</td>\n",
              "      <td>-147.716675</td>\n",
              "      <td>POINT (-147.71668 64.83785)</td>\n",
              "      <td>36650</td>\n",
              "      <td>222545</td>\n",
              "    </tr>\n",
              "    <tr>\n",
              "      <th>4631</th>\n",
              "      <td>4631</td>\n",
              "      <td>4632</td>\n",
              "      <td>Fairbanks</td>\n",
              "      <td>Alaska</td>\n",
              "      <td>USA</td>\n",
              "      <td>www.newsminer.com/news/local_news/white-coats-...</td>\n",
              "      <td>2020-06-06</td>\n",
              "      <td>NaN</td>\n",
              "      <td>NaN</td>\n",
              "      <td>0</td>\n",
              "      <td>64.837845</td>\n",
              "      <td>-147.716675</td>\n",
              "      <td>POINT (-147.71668 64.83785)</td>\n",
              "      <td>36650</td>\n",
              "      <td>222545</td>\n",
              "    </tr>\n",
              "  </tbody>\n",
              "</table>\n",
              "</div>"
            ],
            "text/plain": [
              "      Unnamed: 0    ID       City  Region Country  \\\n",
              "0              0     1     Juneau  Alaska     USA   \n",
              "1              1     2  Anchorage  Alaska     USA   \n",
              "4246        4246  4247  Anchorage  Alaska     USA   \n",
              "2              2     3  Fairbanks  Alaska     USA   \n",
              "4631        4631  4632  Fairbanks  Alaska     USA   \n",
              "\n",
              "                                             Source_URL        Date  \\\n",
              "0     https://www.juneauempire.com/news/hundreds-gat...  2020-06-06   \n",
              "1     https://www.adn.com/alaska-news/anchorage/2020...  2020-05-30   \n",
              "4246  https://www.adn.com/alaska-news/anchorage/2020...  2020-06-05   \n",
              "2     http://www.newsminer.com/alerts/hundreds-gathe...  2020-05-30   \n",
              "4631  www.newsminer.com/news/local_news/white-coats-...  2020-06-06   \n",
              "\n",
              "      X_Longitude  Y_Latitude  Gold_Standard        lat         lon  \\\n",
              "0      -134.40679    58.29973              1   58.30195 -134.419734   \n",
              "1      -149.85825    61.21753              1  61.216313 -149.894852   \n",
              "4246          NaN         NaN              0  61.216313 -149.894852   \n",
              "2      -147.72210    64.84525              1  64.837845 -147.716675   \n",
              "4631          NaN         NaN              0  64.837845 -147.716675   \n",
              "\n",
              "                         geometry  index_right     gid  \n",
              "0     POINT (-134.41973 58.30195)        45957  213212  \n",
              "1     POINT (-149.89485 61.21631)        41686  217501  \n",
              "4246  POINT (-149.89485 61.21631)        41686  217501  \n",
              "2     POINT (-147.71668 64.83785)        36650  222545  \n",
              "4631  POINT (-147.71668 64.83785)        36650  222545  "
            ]
          },
          "execution_count": 107,
          "metadata": {},
          "output_type": "execute_result"
        }
      ],
      "source": [
        "pip_usa.head()"
      ]
    },
    {
      "cell_type": "code",
      "execution_count": null,
      "metadata": {
        "id": "jsd4nIZtUHfN",
        "outputId": "eead15a4-2a5b-454e-f3eb-a3dfba61140b"
      },
      "outputs": [
        {
          "data": {
            "image/png": "[encoded data removed]",
            "text/plain": [
              "<Figure size 640x480 with 1 Axes>"
            ]
          },
          "metadata": {},
          "output_type": "display_data"
        }
      ],
      "source": [
        "import seaborn as sns\n",
        "\n",
        "fig, ax = plt.subplots()\n",
        "ax = sns.scatterplot(x='lon', y='lat', data=pip_usa)\n",
        "usa.plot(ax=ax, facecolor='none', edgecolor='purple');\n",
        "#plt.tight_layout();"
      ]
    },
    {
      "cell_type": "markdown",
      "metadata": {
        "id": "FIqmMMp8UHfO"
      },
      "source": [
        "### System Output File"
      ]
    },
    {
      "cell_type": "code",
      "execution_count": null,
      "metadata": {
        "id": "KfY_PYYZUHfP",
        "outputId": "13de11b7-8502-4325-965b-dbcfef647df2"
      },
      "outputs": [
        {
          "data": {
            "text/plain": [
              "140"
            ]
          },
          "execution_count": 115,
          "metadata": {},
          "output_type": "execute_result"
        }
      ],
      "source": [
        "events = df\n",
        "len(events)"
      ]
    },
    {
      "cell_type": "code",
      "execution_count": null,
      "metadata": {
        "id": "Pih_hESJUHfP"
      },
      "outputs": [],
      "source": []
    },
    {
      "cell_type": "code",
      "execution_count": null,
      "metadata": {
        "id": "5xIe-ZBaUHfP"
      },
      "outputs": [],
      "source": [
        "events_gdf = gpd.GeoDataFrame(\n",
        "    df, geometry=gpd.points_from_xy(df.lon, df.lat))"
      ]
    },
    {
      "cell_type": "code",
      "execution_count": null,
      "metadata": {
        "id": "nwUq-JkYUHfQ"
      },
      "outputs": [],
      "source": [
        "events_gdf = events_gdf.set_crs(\"EPSG:4326\")"
      ]
    },
    {
      "cell_type": "code",
      "execution_count": null,
      "metadata": {
        "id": "Agorc1gfUHfR",
        "outputId": "b6ab4952-4e14-4dc5-af6c-907d49928321"
      },
      "outputs": [
        {
          "data": {
            "text/plain": [
              "140"
            ]
          },
          "execution_count": 120,
          "metadata": {},
          "output_type": "execute_result"
        }
      ],
      "source": [
        "len(events_gdf)"
      ]
    },
    {
      "cell_type": "code",
      "execution_count": null,
      "metadata": {
        "id": "xu-1Y2SwUHfR",
        "outputId": "d2305f08-baa4-4cd3-aa82-de4fc6173b9c"
      },
      "outputs": [
        {
          "data": {
            "image/png": "[encoded data removed]",
            "text/plain": [
              "<Figure size 640x480 with 1 Axes>"
            ]
          },
          "metadata": {},
          "output_type": "display_data"
        }
      ],
      "source": [
        "# We restrict to US.\n",
        "ax = usa.plot(\n",
        "    color='white', edgecolor='black')\n",
        "\n",
        "# We can now plot our ``GeoDataFrame``.\n",
        "events_gdf.plot(ax=ax, color='red')\n",
        "\n",
        "plt.show()\n"
      ]
    },
    {
      "cell_type": "code",
      "execution_count": null,
      "metadata": {
        "id": "C2zCjsitUHfS",
        "outputId": "18ac1d0d-f4bc-48db-fd71-67aeb54daaae"
      },
      "outputs": [
        {
          "name": "stderr",
          "output_type": "stream",
          "text": [
            "C:\\Users\\Vanni\\anaconda3\\envs\\case2022_env\\lib\\site-packages\\IPython\\core\\interactiveshell.py:3398: FutureWarning: The `op` parameter is deprecated and will be removed in a future release. Please use the `predicate` parameter instead.\n",
            "  exec(code_obj, self.user_global_ns, self.user_ns)\n"
          ]
        },
        {
          "ename": "TypeError",
          "evalue": "unsupported operand type(s) for /: 'str' and 'int'",
          "output_type": "error",
          "traceback": [
            "\u001b[1;31m---------------------------------------------------------------------------\u001b[0m",
            "\u001b[1;31mTypeError\u001b[0m                                 Traceback (most recent call last)",
            "Input \u001b[1;32mIn [122]\u001b[0m, in \u001b[0;36m<cell line: 5>\u001b[1;34m()\u001b[0m\n\u001b[0;32m      3\u001b[0m join1 \u001b[38;5;241m=\u001b[39m events_gdf\u001b[38;5;241m.\u001b[39msjoin(priogrid, how\u001b[38;5;241m=\u001b[39m\u001b[38;5;124m\"\u001b[39m\u001b[38;5;124minner\u001b[39m\u001b[38;5;124m\"\u001b[39m, op\u001b[38;5;241m=\u001b[39m\u001b[38;5;124m\"\u001b[39m\u001b[38;5;124mwithin\u001b[39m\u001b[38;5;124m\"\u001b[39m)\n\u001b[0;32m      4\u001b[0m toc \u001b[38;5;241m=\u001b[39m time\u001b[38;5;241m.\u001b[39mtime()\n\u001b[1;32m----> 5\u001b[0m \u001b[38;5;28mprint\u001b[39m(\u001b[38;5;124m'\u001b[39m\u001b[38;5;124mtime to execute the sjoin with PRIOGrid shape file = \u001b[39m\u001b[38;5;124m'\u001b[39m \u001b[38;5;241m+\u001b[39m \u001b[38;5;28;43mstr\u001b[39;49m\u001b[43m(\u001b[49m\u001b[43mtoc\u001b[49m\u001b[43m \u001b[49m\u001b[38;5;241;43m-\u001b[39;49m\u001b[43m \u001b[49m\u001b[43mtic\u001b[49m\u001b[43m)\u001b[49m\u001b[38;5;241;43m/\u001b[39;49m\u001b[38;5;241;43m60\u001b[39;49m \u001b[38;5;241m+\u001b[39m \u001b[38;5;124m'\u001b[39m\u001b[38;5;124m minutes\u001b[39m\u001b[38;5;124m'\u001b[39m )\n\u001b[0;32m      6\u001b[0m join1\u001b[38;5;241m.\u001b[39mhead(\u001b[38;5;241m5\u001b[39m)\n",
            "\u001b[1;31mTypeError\u001b[0m: unsupported operand type(s) for /: 'str' and 'int'"
          ]
        }
      ],
      "source": [
        "# Make a spatial join\n",
        "tic = time.time()\n",
        "join1 = events_gdf.sjoin(priogrid, how=\"inner\", op=\"within\")\n",
        "toc = time.time()\n",
        "print('time to execute the sjoin with PRIOGrid shape file = ' + str((toc - tic)/60) + ' minutes' )\n",
        "join1.head(5)"
      ]
    },
    {
      "cell_type": "code",
      "execution_count": null,
      "metadata": {
        "id": "OYDzpiH4UHfS",
        "outputId": "3746917b-54cc-4c11-e58d-37ba680a9ab6"
      },
      "outputs": [
        {
          "data": {
            "text/plain": [
              "126"
            ]
          },
          "execution_count": 123,
          "metadata": {},
          "output_type": "execute_result"
        }
      ],
      "source": [
        "len(join1)"
      ]
    },
    {
      "cell_type": "code",
      "execution_count": null,
      "metadata": {
        "id": "isZx2UafUHfT",
        "outputId": "dbdc8f80-3dad-491d-9971-c62168a4c85e"
      },
      "outputs": [
        {
          "name": "stdout",
          "output_type": "stream",
          "text": [
            "time to execute the intersection with USA shape file = 5.119512776533763 minutes\n"
          ]
        }
      ],
      "source": [
        "shapely.speedups.enable() \n",
        "# enable shapely.speedups which makes queries running faster.\n",
        "\n",
        "tic = time.time()\n",
        "gs_mask1 = join1.within(usa.loc[0, 'geometry']) \n",
        "# selecting the polygon's geometry field to filter out points that \n",
        "# are not overlaid\n",
        "toc = time.time()\n",
        "print('time to execute the intersection with USA shape file = ' + str((toc - tic)/60) + ' minutes' )\n",
        "\n",
        "events_usa = join1.loc[gs_mask1]\n",
        "\n",
        "#data_gs = []\n",
        "#for index, orig in gs_gdf.iterrows():\n",
        " #   for index2, ref in usa.iterrows():      \n",
        "  #      if ref['geometry'].intersects(orig['geometry']): \n",
        "   #      owdspd=orig['ID']\n",
        "    #     data_gs.append({'geometry':ref['geometry'].intersection(orig['geometry']),'wdspd':owdspd})"
      ]
    },
    {
      "cell_type": "code",
      "execution_count": null,
      "metadata": {
        "id": "jsNl2vFsUHfT",
        "outputId": "fb95f56c-21e3-4ace-b0f8-61553b9d8062"
      },
      "outputs": [
        {
          "data": {
            "text/plain": [
              "120"
            ]
          },
          "execution_count": 126,
          "metadata": {},
          "output_type": "execute_result"
        }
      ],
      "source": [
        "len(events_usa)"
      ]
    },
    {
      "cell_type": "code",
      "execution_count": null,
      "metadata": {
        "id": "fx-1-z-RUHfU",
        "outputId": "75781510-1837-44c5-f687-c63ca2f9b210"
      },
      "outputs": [
        {
          "data": {
            "text/html": [
              "<div>\n",
              "<style scoped>\n",
              "    .dataframe tbody tr th:only-of-type {\n",
              "        vertical-align: middle;\n",
              "    }\n",
              "\n",
              "    .dataframe tbody tr th {\n",
              "        vertical-align: top;\n",
              "    }\n",
              "\n",
              "    .dataframe thead th {\n",
              "        text-align: right;\n",
              "    }\n",
              "</style>\n",
              "<table border=\"1\" class=\"dataframe\">\n",
              "  <thead>\n",
              "    <tr style=\"text-align: right;\">\n",
              "      <th></th>\n",
              "      <th>id</th>\n",
              "      <th>city</th>\n",
              "      <th>state</th>\n",
              "      <th>country</th>\n",
              "      <th>date</th>\n",
              "      <th>url</th>\n",
              "      <th>lat</th>\n",
              "      <th>lon</th>\n",
              "      <th>geometry</th>\n",
              "      <th>index_right</th>\n",
              "      <th>gid</th>\n",
              "    </tr>\n",
              "  </thead>\n",
              "  <tbody>\n",
              "    <tr>\n",
              "      <th>0</th>\n",
              "      <td>0</td>\n",
              "      <td>Minneapolis</td>\n",
              "      <td>Minnesota</td>\n",
              "      <td>USA</td>\n",
              "      <td>2020-05-20</td>\n",
              "      <td>nyt://article/89a6704f-755c-5d5b-b7fc-2370e22e...</td>\n",
              "      <td>44.9773</td>\n",
              "      <td>-93.265469</td>\n",
              "      <td>POINT (-93.26547 44.97730)</td>\n",
              "      <td>65331</td>\n",
              "      <td>193854</td>\n",
              "    </tr>\n",
              "    <tr>\n",
              "      <th>1</th>\n",
              "      <td>1</td>\n",
              "      <td>Minneapolis</td>\n",
              "      <td>Minnesota</td>\n",
              "      <td>USA</td>\n",
              "      <td>2020-05-27</td>\n",
              "      <td>nyt://article/1fba79e8-66a4-5cd6-adcd-79e6c323...</td>\n",
              "      <td>44.9773</td>\n",
              "      <td>-93.265469</td>\n",
              "      <td>POINT (-93.26547 44.97730)</td>\n",
              "      <td>65331</td>\n",
              "      <td>193854</td>\n",
              "    </tr>\n",
              "    <tr>\n",
              "      <th>2</th>\n",
              "      <td>2</td>\n",
              "      <td>Minneapolis</td>\n",
              "      <td>Minnesota</td>\n",
              "      <td>USA</td>\n",
              "      <td>2020-05-21</td>\n",
              "      <td>nyt://article/e0981348-6e47-556b-825b-065ab8f5...</td>\n",
              "      <td>44.9773</td>\n",
              "      <td>-93.265469</td>\n",
              "      <td>POINT (-93.26547 44.97730)</td>\n",
              "      <td>65331</td>\n",
              "      <td>193854</td>\n",
              "    </tr>\n",
              "    <tr>\n",
              "      <th>5</th>\n",
              "      <td>5</td>\n",
              "      <td>Minneapolis</td>\n",
              "      <td>Minnesota</td>\n",
              "      <td>USA</td>\n",
              "      <td>2020-05-22</td>\n",
              "      <td>nyt://article/d05f9fef-2faa-5300-b531-62d3e556...</td>\n",
              "      <td>44.9773</td>\n",
              "      <td>-93.265469</td>\n",
              "      <td>POINT (-93.26547 44.97730)</td>\n",
              "      <td>65331</td>\n",
              "      <td>193854</td>\n",
              "    </tr>\n",
              "    <tr>\n",
              "      <th>11</th>\n",
              "      <td>11</td>\n",
              "      <td>Minneapolis</td>\n",
              "      <td>Minnesota</td>\n",
              "      <td>USA</td>\n",
              "      <td>2020-05-30</td>\n",
              "      <td>nyt://article/3dbfc5a2-b5d5-5777-8755-e766fcbb...</td>\n",
              "      <td>44.9773</td>\n",
              "      <td>-93.265469</td>\n",
              "      <td>POINT (-93.26547 44.97730)</td>\n",
              "      <td>65331</td>\n",
              "      <td>193854</td>\n",
              "    </tr>\n",
              "  </tbody>\n",
              "</table>\n",
              "</div>"
            ],
            "text/plain": [
              "    id         city      state country        date  \\\n",
              "0    0  Minneapolis  Minnesota     USA  2020-05-20   \n",
              "1    1  Minneapolis  Minnesota     USA  2020-05-27   \n",
              "2    2  Minneapolis  Minnesota     USA  2020-05-21   \n",
              "5    5  Minneapolis  Minnesota     USA  2020-05-22   \n",
              "11  11  Minneapolis  Minnesota     USA  2020-05-30   \n",
              "\n",
              "                                                  url      lat        lon  \\\n",
              "0   nyt://article/89a6704f-755c-5d5b-b7fc-2370e22e...  44.9773 -93.265469   \n",
              "1   nyt://article/1fba79e8-66a4-5cd6-adcd-79e6c323...  44.9773 -93.265469   \n",
              "2   nyt://article/e0981348-6e47-556b-825b-065ab8f5...  44.9773 -93.265469   \n",
              "5   nyt://article/d05f9fef-2faa-5300-b531-62d3e556...  44.9773 -93.265469   \n",
              "11  nyt://article/3dbfc5a2-b5d5-5777-8755-e766fcbb...  44.9773 -93.265469   \n",
              "\n",
              "                      geometry  index_right     gid  \n",
              "0   POINT (-93.26547 44.97730)        65331  193854  \n",
              "1   POINT (-93.26547 44.97730)        65331  193854  \n",
              "2   POINT (-93.26547 44.97730)        65331  193854  \n",
              "5   POINT (-93.26547 44.97730)        65331  193854  \n",
              "11  POINT (-93.26547 44.97730)        65331  193854  "
            ]
          },
          "execution_count": 127,
          "metadata": {},
          "output_type": "execute_result"
        }
      ],
      "source": [
        "events_usa.head()"
      ]
    },
    {
      "cell_type": "markdown",
      "metadata": {
        "id": "ipuK-sBpUHfU"
      },
      "source": [
        "### Column filtering"
      ]
    },
    {
      "cell_type": "code",
      "execution_count": null,
      "metadata": {
        "id": "8eijyDSoUHfU"
      },
      "outputs": [],
      "source": [
        "events_usa = events_usa[['id', 'city', 'state', 'country','date', 'url','lat','lon','gid']]"
      ]
    },
    {
      "cell_type": "code",
      "execution_count": null,
      "metadata": {
        "id": "iiU5oJOIUHfU"
      },
      "outputs": [],
      "source": [
        "gs_events_usa = pip_usa[['ID', 'City', 'Region', 'Country','Date', 'Source_URL','lat','lon','gid']]"
      ]
    },
    {
      "cell_type": "code",
      "execution_count": null,
      "metadata": {
        "id": "yt3IDR4HUHfV",
        "outputId": "19e48bde-eca7-4c9a-d653-9d40357dc517"
      },
      "outputs": [
        {
          "name": "stderr",
          "output_type": "stream",
          "text": [
            "C:\\Users\\Vanni\\AppData\\Local\\Temp\\ipykernel_30644\\2869212930.py:9: SettingWithCopyWarning: \n",
            "A value is trying to be set on a copy of a slice from a DataFrame\n",
            "\n",
            "See the caveats in the documentation: https://pandas.pydata.org/pandas-docs/stable/user_guide/indexing.html#returning-a-view-versus-a-copy\n",
            "  gs_events_usa.rename(columns=dict,inplace=True)\n"
          ]
        }
      ],
      "source": [
        "dict = {'ID': 'id',\n",
        "        'City': 'city',\n",
        "        'Region': 'state',\n",
        "        'Country': 'country',\n",
        "         'Date': 'date',\n",
        "       'Source_URL': 'url'}\n",
        " \n",
        "# call rename () method\n",
        "gs_events_usa.rename(columns=dict,inplace=True)"
      ]
    },
    {
      "cell_type": "code",
      "execution_count": null,
      "metadata": {
        "id": "L3phMzP4UHfV",
        "outputId": "8f65f3a0-b9be-4ed7-958d-ef9769ac42b1"
      },
      "outputs": [
        {
          "name": "stdout",
          "output_type": "stream",
          "text": [
            "<class 'pandas.core.frame.DataFrame'>\n",
            "Int64Index: 7869 entries, 0 to 7623\n",
            "Data columns (total 9 columns):\n",
            " #   Column   Non-Null Count  Dtype \n",
            "---  ------   --------------  ----- \n",
            " 0   id       7869 non-null   int64 \n",
            " 1   city     7869 non-null   object\n",
            " 2   state    7869 non-null   object\n",
            " 3   country  7869 non-null   object\n",
            " 4   date     7869 non-null   object\n",
            " 5   url      7869 non-null   object\n",
            " 6   lat      7869 non-null   object\n",
            " 7   lon      7869 non-null   object\n",
            " 8   gid      7869 non-null   int64 \n",
            "dtypes: int64(2), object(7)\n",
            "memory usage: 614.8+ KB\n"
          ]
        }
      ],
      "source": [
        "gs_events_usa.info()"
      ]
    },
    {
      "cell_type": "markdown",
      "metadata": {
        "id": "rAAPVX2dUHfV"
      },
      "source": [
        "### Date column type conversion and filtering by date"
      ]
    },
    {
      "cell_type": "code",
      "execution_count": null,
      "metadata": {
        "id": "bRR1HfIiUHfV",
        "outputId": "d49d4020-01b0-439d-d8e9-b7938a4d0507"
      },
      "outputs": [
        {
          "name": "stderr",
          "output_type": "stream",
          "text": [
            "C:\\Users\\Vanni\\AppData\\Local\\Temp\\ipykernel_30644\\12689228.py:1: SettingWithCopyWarning: \n",
            "A value is trying to be set on a copy of a slice from a DataFrame.\n",
            "Try using .loc[row_indexer,col_indexer] = value instead\n",
            "\n",
            "See the caveats in the documentation: https://pandas.pydata.org/pandas-docs/stable/user_guide/indexing.html#returning-a-view-versus-a-copy\n",
            "  gs_events_usa['date'] = pd.to_datetime(gs_events_usa['date'], errors='raise')\n"
          ]
        }
      ],
      "source": [
        "gs_events_usa['date'] = pd.to_datetime(gs_events_usa['date'], errors='raise')"
      ]
    },
    {
      "cell_type": "code",
      "execution_count": null,
      "metadata": {
        "id": "c1GXQMd5UHfW"
      },
      "outputs": [],
      "source": [
        "gs_events_usa = gs_events_usa[(gs_events_usa['date'] >= '25-5-2020') & (gs_events_usa['date'] <= '30-6-2020')]"
      ]
    },
    {
      "cell_type": "code",
      "execution_count": null,
      "metadata": {
        "id": "EVsbn63rUHfW"
      },
      "outputs": [],
      "source": [
        "events_usa['date'] = pd.to_datetime(events_usa['date'], errors='raise')"
      ]
    },
    {
      "cell_type": "code",
      "execution_count": null,
      "metadata": {
        "id": "94XvpIwEUHfW",
        "outputId": "92b4e409-6999-47c2-a8fd-deffef4596fe"
      },
      "outputs": [
        {
          "name": "stderr",
          "output_type": "stream",
          "text": [
            "C:\\Users\\Vanni\\AppData\\Local\\Temp\\ipykernel_30644\\2068868447.py:1: UserWarning: Boolean Series key will be reindexed to match DataFrame index.\n",
            "  events_usa = events_usa[(gs_events_usa['date'] >= '25-5-2020') & (events_usa['date'] <= '30-6-2020')]\n"
          ]
        }
      ],
      "source": [
        "events_usa = events_usa[(gs_events_usa['date'] >= '25-5-2020') & (events_usa['date'] <= '30-6-2020')]"
      ]
    },
    {
      "cell_type": "code",
      "execution_count": null,
      "metadata": {
        "id": "4rmcPjiAUHfX"
      },
      "outputs": [],
      "source": [
        "#group_by_gid = gs_events_usa.groupby('gid').size().reset_index(name='count').sort_values(['count'], ascending=False)\n",
        "#group_by_gid"
      ]
    },
    {
      "cell_type": "code",
      "execution_count": null,
      "metadata": {
        "id": "UuFLAdfaUHfX"
      },
      "outputs": [],
      "source": [
        "#events_usa_group_by_gid = events_usa.groupby('gid').size().reset_index(name='count').sort_values(['count'], ascending=False)"
      ]
    },
    {
      "cell_type": "markdown",
      "metadata": {
        "id": "wYUNZIONUHfX"
      },
      "source": [
        "### Time shift (2 days) for news data"
      ]
    },
    {
      "cell_type": "code",
      "execution_count": null,
      "metadata": {
        "id": "oGAI470XUHfY"
      },
      "outputs": [],
      "source": [
        "#events_usa_times =  events_usa['date']\n",
        "#events_usa_time_shifts = [ x + datetime.timedelta(days=2) for x in events_usa['date']  ]"
      ]
    },
    {
      "cell_type": "markdown",
      "metadata": {
        "id": "lv4pJpYRUHfY"
      },
      "source": [
        "### Sorting by date"
      ]
    },
    {
      "cell_type": "code",
      "execution_count": null,
      "metadata": {
        "id": "2sxlxdHBUHfY",
        "outputId": "859d6127-fe03-46ba-851c-0522c58e3d97"
      },
      "outputs": [
        {
          "data": {
            "text/html": [
              "<div>\n",
              "<style scoped>\n",
              "    .dataframe tbody tr th:only-of-type {\n",
              "        vertical-align: middle;\n",
              "    }\n",
              "\n",
              "    .dataframe tbody tr th {\n",
              "        vertical-align: top;\n",
              "    }\n",
              "\n",
              "    .dataframe thead th {\n",
              "        text-align: right;\n",
              "    }\n",
              "</style>\n",
              "<table border=\"1\" class=\"dataframe\">\n",
              "  <thead>\n",
              "    <tr style=\"text-align: right;\">\n",
              "      <th></th>\n",
              "      <th>id</th>\n",
              "      <th>city</th>\n",
              "      <th>state</th>\n",
              "      <th>country</th>\n",
              "      <th>date</th>\n",
              "      <th>url</th>\n",
              "      <th>lat</th>\n",
              "      <th>lon</th>\n",
              "      <th>gid</th>\n",
              "    </tr>\n",
              "  </thead>\n",
              "  <tbody>\n",
              "    <tr>\n",
              "      <th>0</th>\n",
              "      <td>0</td>\n",
              "      <td>Minneapolis</td>\n",
              "      <td>Minnesota</td>\n",
              "      <td>USA</td>\n",
              "      <td>2020-05-20</td>\n",
              "      <td>nyt://article/89a6704f-755c-5d5b-b7fc-2370e22e...</td>\n",
              "      <td>44.9773</td>\n",
              "      <td>-93.265469</td>\n",
              "      <td>193854</td>\n",
              "    </tr>\n",
              "    <tr>\n",
              "      <th>2</th>\n",
              "      <td>2</td>\n",
              "      <td>Minneapolis</td>\n",
              "      <td>Minnesota</td>\n",
              "      <td>USA</td>\n",
              "      <td>2020-05-21</td>\n",
              "      <td>nyt://article/e0981348-6e47-556b-825b-065ab8f5...</td>\n",
              "      <td>44.9773</td>\n",
              "      <td>-93.265469</td>\n",
              "      <td>193854</td>\n",
              "    </tr>\n",
              "    <tr>\n",
              "      <th>5</th>\n",
              "      <td>5</td>\n",
              "      <td>Minneapolis</td>\n",
              "      <td>Minnesota</td>\n",
              "      <td>USA</td>\n",
              "      <td>2020-05-22</td>\n",
              "      <td>nyt://article/d05f9fef-2faa-5300-b531-62d3e556...</td>\n",
              "      <td>44.9773</td>\n",
              "      <td>-93.265469</td>\n",
              "      <td>193854</td>\n",
              "    </tr>\n",
              "    <tr>\n",
              "      <th>8</th>\n",
              "      <td>8</td>\n",
              "      <td>Florida</td>\n",
              "      <td>Florida</td>\n",
              "      <td>USA</td>\n",
              "      <td>2020-05-23</td>\n",
              "      <td>nyt://article/bed091f4-9e04-554e-b127-a5029f05...</td>\n",
              "      <td>28.542111</td>\n",
              "      <td>-81.37903</td>\n",
              "      <td>170838</td>\n",
              "    </tr>\n",
              "    <tr>\n",
              "      <th>13</th>\n",
              "      <td>13</td>\n",
              "      <td>The</td>\n",
              "      <td>The</td>\n",
              "      <td>USA</td>\n",
              "      <td>2020-05-24</td>\n",
              "      <td>nyt://article/3635bf6d-a5b5-591a-a9ec-4541e57e...</td>\n",
              "      <td>40.206632</td>\n",
              "      <td>-88.371221</td>\n",
              "      <td>187384</td>\n",
              "    </tr>\n",
              "    <tr>\n",
              "      <th>...</th>\n",
              "      <td>...</td>\n",
              "      <td>...</td>\n",
              "      <td>...</td>\n",
              "      <td>...</td>\n",
              "      <td>...</td>\n",
              "      <td>...</td>\n",
              "      <td>...</td>\n",
              "      <td>...</td>\n",
              "      <td>...</td>\n",
              "    </tr>\n",
              "    <tr>\n",
              "      <th>130</th>\n",
              "      <td>111</td>\n",
              "      <td>New York City</td>\n",
              "      <td>New York</td>\n",
              "      <td>USA</td>\n",
              "      <td>2020-06-24</td>\n",
              "      <td>nyt://article/0a78e44d-07d8-5372-afb7-79909161...</td>\n",
              "      <td>40.712728</td>\n",
              "      <td>-74.006015</td>\n",
              "      <td>188132</td>\n",
              "    </tr>\n",
              "    <tr>\n",
              "      <th>133</th>\n",
              "      <td>114</td>\n",
              "      <td>Louisville</td>\n",
              "      <td>Kentucky</td>\n",
              "      <td>USA</td>\n",
              "      <td>2020-06-27</td>\n",
              "      <td>nyt://article/8e15b3ce-f7cf-5c2c-9398-6d125943...</td>\n",
              "      <td>38.254238</td>\n",
              "      <td>-85.759407</td>\n",
              "      <td>184509</td>\n",
              "    </tr>\n",
              "    <tr>\n",
              "      <th>136</th>\n",
              "      <td>117</td>\n",
              "      <td>New York City</td>\n",
              "      <td>New York</td>\n",
              "      <td>USA</td>\n",
              "      <td>2020-06-28</td>\n",
              "      <td>nyt://article/d321e592-103c-589b-9a87-197a7946...</td>\n",
              "      <td>40.712728</td>\n",
              "      <td>-74.006015</td>\n",
              "      <td>188132</td>\n",
              "    </tr>\n",
              "    <tr>\n",
              "      <th>137</th>\n",
              "      <td>118</td>\n",
              "      <td>Seattle</td>\n",
              "      <td>Washington</td>\n",
              "      <td>USA</td>\n",
              "      <td>2020-06-28</td>\n",
              "      <td>nyt://article/0bbfbc24-391c-512c-bf82-934841e5...</td>\n",
              "      <td>47.603832</td>\n",
              "      <td>-122.330062</td>\n",
              "      <td>198116</td>\n",
              "    </tr>\n",
              "    <tr>\n",
              "      <th>139</th>\n",
              "      <td>120</td>\n",
              "      <td>Minneapolis</td>\n",
              "      <td>Minnesota</td>\n",
              "      <td>USA</td>\n",
              "      <td>2020-06-29</td>\n",
              "      <td>nyt://article/5c7e0c68-2604-505a-940b-1c8cd651...</td>\n",
              "      <td>44.9773</td>\n",
              "      <td>-93.265469</td>\n",
              "      <td>193854</td>\n",
              "    </tr>\n",
              "  </tbody>\n",
              "</table>\n",
              "<p>120 rows × 9 columns</p>\n",
              "</div>"
            ],
            "text/plain": [
              "      id           city       state country       date  \\\n",
              "0      0    Minneapolis   Minnesota     USA 2020-05-20   \n",
              "2      2    Minneapolis   Minnesota     USA 2020-05-21   \n",
              "5      5    Minneapolis   Minnesota     USA 2020-05-22   \n",
              "8      8        Florida     Florida     USA 2020-05-23   \n",
              "13    13            The         The     USA 2020-05-24   \n",
              "..   ...            ...         ...     ...        ...   \n",
              "130  111  New York City    New York     USA 2020-06-24   \n",
              "133  114     Louisville    Kentucky     USA 2020-06-27   \n",
              "136  117  New York City    New York     USA 2020-06-28   \n",
              "137  118        Seattle  Washington     USA 2020-06-28   \n",
              "139  120    Minneapolis   Minnesota     USA 2020-06-29   \n",
              "\n",
              "                                                   url        lat         lon  \\\n",
              "0    nyt://article/89a6704f-755c-5d5b-b7fc-2370e22e...    44.9773  -93.265469   \n",
              "2    nyt://article/e0981348-6e47-556b-825b-065ab8f5...    44.9773  -93.265469   \n",
              "5    nyt://article/d05f9fef-2faa-5300-b531-62d3e556...    44.9773  -93.265469   \n",
              "8    nyt://article/bed091f4-9e04-554e-b127-a5029f05...  28.542111   -81.37903   \n",
              "13   nyt://article/3635bf6d-a5b5-591a-a9ec-4541e57e...  40.206632  -88.371221   \n",
              "..                                                 ...        ...         ...   \n",
              "130  nyt://article/0a78e44d-07d8-5372-afb7-79909161...  40.712728  -74.006015   \n",
              "133  nyt://article/8e15b3ce-f7cf-5c2c-9398-6d125943...  38.254238  -85.759407   \n",
              "136  nyt://article/d321e592-103c-589b-9a87-197a7946...  40.712728  -74.006015   \n",
              "137  nyt://article/0bbfbc24-391c-512c-bf82-934841e5...  47.603832 -122.330062   \n",
              "139  nyt://article/5c7e0c68-2604-505a-940b-1c8cd651...    44.9773  -93.265469   \n",
              "\n",
              "        gid  \n",
              "0    193854  \n",
              "2    193854  \n",
              "5    193854  \n",
              "8    170838  \n",
              "13   187384  \n",
              "..      ...  \n",
              "130  188132  \n",
              "133  184509  \n",
              "136  188132  \n",
              "137  198116  \n",
              "139  193854  \n",
              "\n",
              "[120 rows x 9 columns]"
            ]
          },
          "execution_count": 155,
          "metadata": {},
          "output_type": "execute_result"
        }
      ],
      "source": [
        "gs_events_usa.sort_values(by=\"date\")\n",
        "events_usa.sort_values(by=\"date\")"
      ]
    },
    {
      "cell_type": "code",
      "execution_count": null,
      "metadata": {
        "id": "_G6tSDvRUHfY",
        "outputId": "1e9a5da3-e4f4-4851-e91f-f375e8307570"
      },
      "outputs": [
        {
          "data": {
            "text/html": [
              "<div>\n",
              "<style scoped>\n",
              "    .dataframe tbody tr th:only-of-type {\n",
              "        vertical-align: middle;\n",
              "    }\n",
              "\n",
              "    .dataframe tbody tr th {\n",
              "        vertical-align: top;\n",
              "    }\n",
              "\n",
              "    .dataframe thead th {\n",
              "        text-align: right;\n",
              "    }\n",
              "</style>\n",
              "<table border=\"1\" class=\"dataframe\">\n",
              "  <thead>\n",
              "    <tr style=\"text-align: right;\">\n",
              "      <th></th>\n",
              "      <th>Day</th>\n",
              "      <th>ProtestCells</th>\n",
              "    </tr>\n",
              "  </thead>\n",
              "  <tbody>\n",
              "    <tr>\n",
              "      <th>0</th>\n",
              "      <td>2020-05-26</td>\n",
              "      <td>1</td>\n",
              "    </tr>\n",
              "    <tr>\n",
              "      <th>1</th>\n",
              "      <td>2020-05-27</td>\n",
              "      <td>1</td>\n",
              "    </tr>\n",
              "    <tr>\n",
              "      <th>2</th>\n",
              "      <td>2020-05-28</td>\n",
              "      <td>9</td>\n",
              "    </tr>\n",
              "    <tr>\n",
              "      <th>3</th>\n",
              "      <td>2020-05-29</td>\n",
              "      <td>48</td>\n",
              "    </tr>\n",
              "    <tr>\n",
              "      <th>4</th>\n",
              "      <td>2020-05-30</td>\n",
              "      <td>251</td>\n",
              "    </tr>\n",
              "    <tr>\n",
              "      <th>5</th>\n",
              "      <td>2020-05-31</td>\n",
              "      <td>375</td>\n",
              "    </tr>\n",
              "    <tr>\n",
              "      <th>6</th>\n",
              "      <td>2020-06-01</td>\n",
              "      <td>357</td>\n",
              "    </tr>\n",
              "    <tr>\n",
              "      <th>7</th>\n",
              "      <td>2020-06-02</td>\n",
              "      <td>353</td>\n",
              "    </tr>\n",
              "    <tr>\n",
              "      <th>8</th>\n",
              "      <td>2020-06-03</td>\n",
              "      <td>309</td>\n",
              "    </tr>\n",
              "    <tr>\n",
              "      <th>9</th>\n",
              "      <td>2020-06-04</td>\n",
              "      <td>288</td>\n",
              "    </tr>\n",
              "    <tr>\n",
              "      <th>10</th>\n",
              "      <td>2020-06-05</td>\n",
              "      <td>341</td>\n",
              "    </tr>\n",
              "    <tr>\n",
              "      <th>11</th>\n",
              "      <td>2020-06-06</td>\n",
              "      <td>477</td>\n",
              "    </tr>\n",
              "    <tr>\n",
              "      <th>12</th>\n",
              "      <td>2020-06-07</td>\n",
              "      <td>310</td>\n",
              "    </tr>\n",
              "    <tr>\n",
              "      <th>13</th>\n",
              "      <td>2020-06-08</td>\n",
              "      <td>192</td>\n",
              "    </tr>\n",
              "    <tr>\n",
              "      <th>14</th>\n",
              "      <td>2020-06-09</td>\n",
              "      <td>115</td>\n",
              "    </tr>\n",
              "    <tr>\n",
              "      <th>15</th>\n",
              "      <td>2020-06-10</td>\n",
              "      <td>91</td>\n",
              "    </tr>\n",
              "    <tr>\n",
              "      <th>16</th>\n",
              "      <td>2020-06-11</td>\n",
              "      <td>105</td>\n",
              "    </tr>\n",
              "    <tr>\n",
              "      <th>17</th>\n",
              "      <td>2020-06-12</td>\n",
              "      <td>135</td>\n",
              "    </tr>\n",
              "    <tr>\n",
              "      <th>18</th>\n",
              "      <td>2020-06-13</td>\n",
              "      <td>233</td>\n",
              "    </tr>\n",
              "    <tr>\n",
              "      <th>19</th>\n",
              "      <td>2020-06-14</td>\n",
              "      <td>140</td>\n",
              "    </tr>\n",
              "    <tr>\n",
              "      <th>20</th>\n",
              "      <td>2020-06-15</td>\n",
              "      <td>46</td>\n",
              "    </tr>\n",
              "    <tr>\n",
              "      <th>21</th>\n",
              "      <td>2020-06-16</td>\n",
              "      <td>50</td>\n",
              "    </tr>\n",
              "    <tr>\n",
              "      <th>22</th>\n",
              "      <td>2020-06-17</td>\n",
              "      <td>48</td>\n",
              "    </tr>\n",
              "    <tr>\n",
              "      <th>23</th>\n",
              "      <td>2020-06-18</td>\n",
              "      <td>42</td>\n",
              "    </tr>\n",
              "    <tr>\n",
              "      <th>24</th>\n",
              "      <td>2020-06-19</td>\n",
              "      <td>260</td>\n",
              "    </tr>\n",
              "    <tr>\n",
              "      <th>25</th>\n",
              "      <td>2020-06-20</td>\n",
              "      <td>133</td>\n",
              "    </tr>\n",
              "    <tr>\n",
              "      <th>26</th>\n",
              "      <td>2020-06-21</td>\n",
              "      <td>39</td>\n",
              "    </tr>\n",
              "    <tr>\n",
              "      <th>27</th>\n",
              "      <td>2020-06-22</td>\n",
              "      <td>40</td>\n",
              "    </tr>\n",
              "    <tr>\n",
              "      <th>28</th>\n",
              "      <td>2020-06-23</td>\n",
              "      <td>35</td>\n",
              "    </tr>\n",
              "    <tr>\n",
              "      <th>29</th>\n",
              "      <td>2020-06-24</td>\n",
              "      <td>44</td>\n",
              "    </tr>\n",
              "    <tr>\n",
              "      <th>30</th>\n",
              "      <td>2020-06-25</td>\n",
              "      <td>50</td>\n",
              "    </tr>\n",
              "    <tr>\n",
              "      <th>31</th>\n",
              "      <td>2020-06-26</td>\n",
              "      <td>63</td>\n",
              "    </tr>\n",
              "    <tr>\n",
              "      <th>32</th>\n",
              "      <td>2020-06-27</td>\n",
              "      <td>117</td>\n",
              "    </tr>\n",
              "    <tr>\n",
              "      <th>33</th>\n",
              "      <td>2020-06-28</td>\n",
              "      <td>65</td>\n",
              "    </tr>\n",
              "    <tr>\n",
              "      <th>34</th>\n",
              "      <td>2020-06-29</td>\n",
              "      <td>31</td>\n",
              "    </tr>\n",
              "    <tr>\n",
              "      <th>35</th>\n",
              "      <td>2020-06-30</td>\n",
              "      <td>25</td>\n",
              "    </tr>\n",
              "  </tbody>\n",
              "</table>\n",
              "</div>"
            ],
            "text/plain": [
              "          Day  ProtestCells\n",
              "0  2020-05-26             1\n",
              "1  2020-05-27             1\n",
              "2  2020-05-28             9\n",
              "3  2020-05-29            48\n",
              "4  2020-05-30           251\n",
              "5  2020-05-31           375\n",
              "6  2020-06-01           357\n",
              "7  2020-06-02           353\n",
              "8  2020-06-03           309\n",
              "9  2020-06-04           288\n",
              "10 2020-06-05           341\n",
              "11 2020-06-06           477\n",
              "12 2020-06-07           310\n",
              "13 2020-06-08           192\n",
              "14 2020-06-09           115\n",
              "15 2020-06-10            91\n",
              "16 2020-06-11           105\n",
              "17 2020-06-12           135\n",
              "18 2020-06-13           233\n",
              "19 2020-06-14           140\n",
              "20 2020-06-15            46\n",
              "21 2020-06-16            50\n",
              "22 2020-06-17            48\n",
              "23 2020-06-18            42\n",
              "24 2020-06-19           260\n",
              "25 2020-06-20           133\n",
              "26 2020-06-21            39\n",
              "27 2020-06-22            40\n",
              "28 2020-06-23            35\n",
              "29 2020-06-24            44\n",
              "30 2020-06-25            50\n",
              "31 2020-06-26            63\n",
              "32 2020-06-27           117\n",
              "33 2020-06-28            65\n",
              "34 2020-06-29            31\n",
              "35 2020-06-30            25"
            ]
          },
          "execution_count": 188,
          "metadata": {},
          "output_type": "execute_result"
        }
      ],
      "source": [
        "time_series_gs_events_usa = pd.DataFrame(columns=['Day','ProtestCells'])\n",
        "\n",
        "time_series_gs_events_usa.Day = [  group[0] for group in gs_events_usa.groupby(gs_events_usa['date']) ]\n",
        "time_series_gs_events_usa.ProtestCells = [   group[1]['gid'].nunique() for group in gs_events_usa.groupby(gs_events_usa['date']) ]\n",
        "\n",
        "time_series_gs_events_usa\n",
        "\n",
        "#test = pd.concat(DFList)\n",
        "#test.head(30)"
      ]
    },
    {
      "cell_type": "code",
      "execution_count": null,
      "metadata": {
        "id": "TBMU3butUHfZ",
        "outputId": "8f4a149c-925f-4eaf-a883-57ae52ddee7f"
      },
      "outputs": [
        {
          "data": {
            "text/html": [
              "<div>\n",
              "<style scoped>\n",
              "    .dataframe tbody tr th:only-of-type {\n",
              "        vertical-align: middle;\n",
              "    }\n",
              "\n",
              "    .dataframe tbody tr th {\n",
              "        vertical-align: top;\n",
              "    }\n",
              "\n",
              "    .dataframe thead th {\n",
              "        text-align: right;\n",
              "    }\n",
              "</style>\n",
              "<table border=\"1\" class=\"dataframe\">\n",
              "  <thead>\n",
              "    <tr style=\"text-align: right;\">\n",
              "      <th></th>\n",
              "      <th>Day</th>\n",
              "      <th>ProtestCells</th>\n",
              "    </tr>\n",
              "  </thead>\n",
              "  <tbody>\n",
              "    <tr>\n",
              "      <th>0</th>\n",
              "      <td>2020-05-20</td>\n",
              "      <td>1</td>\n",
              "    </tr>\n",
              "    <tr>\n",
              "      <th>1</th>\n",
              "      <td>2020-05-21</td>\n",
              "      <td>1</td>\n",
              "    </tr>\n",
              "    <tr>\n",
              "      <th>2</th>\n",
              "      <td>2020-05-22</td>\n",
              "      <td>1</td>\n",
              "    </tr>\n",
              "    <tr>\n",
              "      <th>3</th>\n",
              "      <td>2020-05-23</td>\n",
              "      <td>1</td>\n",
              "    </tr>\n",
              "    <tr>\n",
              "      <th>4</th>\n",
              "      <td>2020-05-24</td>\n",
              "      <td>3</td>\n",
              "    </tr>\n",
              "    <tr>\n",
              "      <th>5</th>\n",
              "      <td>2020-05-25</td>\n",
              "      <td>2</td>\n",
              "    </tr>\n",
              "    <tr>\n",
              "      <th>6</th>\n",
              "      <td>2020-05-26</td>\n",
              "      <td>2</td>\n",
              "    </tr>\n",
              "    <tr>\n",
              "      <th>7</th>\n",
              "      <td>2020-05-27</td>\n",
              "      <td>1</td>\n",
              "    </tr>\n",
              "    <tr>\n",
              "      <th>8</th>\n",
              "      <td>2020-05-28</td>\n",
              "      <td>1</td>\n",
              "    </tr>\n",
              "    <tr>\n",
              "      <th>9</th>\n",
              "      <td>2020-05-29</td>\n",
              "      <td>6</td>\n",
              "    </tr>\n",
              "    <tr>\n",
              "      <th>10</th>\n",
              "      <td>2020-05-30</td>\n",
              "      <td>4</td>\n",
              "    </tr>\n",
              "    <tr>\n",
              "      <th>11</th>\n",
              "      <td>2020-05-31</td>\n",
              "      <td>6</td>\n",
              "    </tr>\n",
              "    <tr>\n",
              "      <th>12</th>\n",
              "      <td>2020-06-01</td>\n",
              "      <td>6</td>\n",
              "    </tr>\n",
              "    <tr>\n",
              "      <th>13</th>\n",
              "      <td>2020-06-02</td>\n",
              "      <td>6</td>\n",
              "    </tr>\n",
              "    <tr>\n",
              "      <th>14</th>\n",
              "      <td>2020-06-03</td>\n",
              "      <td>4</td>\n",
              "    </tr>\n",
              "    <tr>\n",
              "      <th>15</th>\n",
              "      <td>2020-06-04</td>\n",
              "      <td>4</td>\n",
              "    </tr>\n",
              "    <tr>\n",
              "      <th>16</th>\n",
              "      <td>2020-06-05</td>\n",
              "      <td>1</td>\n",
              "    </tr>\n",
              "    <tr>\n",
              "      <th>17</th>\n",
              "      <td>2020-06-06</td>\n",
              "      <td>3</td>\n",
              "    </tr>\n",
              "    <tr>\n",
              "      <th>18</th>\n",
              "      <td>2020-06-07</td>\n",
              "      <td>3</td>\n",
              "    </tr>\n",
              "    <tr>\n",
              "      <th>19</th>\n",
              "      <td>2020-06-08</td>\n",
              "      <td>5</td>\n",
              "    </tr>\n",
              "    <tr>\n",
              "      <th>20</th>\n",
              "      <td>2020-06-09</td>\n",
              "      <td>6</td>\n",
              "    </tr>\n",
              "    <tr>\n",
              "      <th>21</th>\n",
              "      <td>2020-06-10</td>\n",
              "      <td>2</td>\n",
              "    </tr>\n",
              "    <tr>\n",
              "      <th>22</th>\n",
              "      <td>2020-06-11</td>\n",
              "      <td>2</td>\n",
              "    </tr>\n",
              "    <tr>\n",
              "      <th>23</th>\n",
              "      <td>2020-06-12</td>\n",
              "      <td>1</td>\n",
              "    </tr>\n",
              "    <tr>\n",
              "      <th>24</th>\n",
              "      <td>2020-06-13</td>\n",
              "      <td>4</td>\n",
              "    </tr>\n",
              "    <tr>\n",
              "      <th>25</th>\n",
              "      <td>2020-06-15</td>\n",
              "      <td>1</td>\n",
              "    </tr>\n",
              "    <tr>\n",
              "      <th>26</th>\n",
              "      <td>2020-06-16</td>\n",
              "      <td>3</td>\n",
              "    </tr>\n",
              "    <tr>\n",
              "      <th>27</th>\n",
              "      <td>2020-06-17</td>\n",
              "      <td>5</td>\n",
              "    </tr>\n",
              "    <tr>\n",
              "      <th>28</th>\n",
              "      <td>2020-06-19</td>\n",
              "      <td>3</td>\n",
              "    </tr>\n",
              "    <tr>\n",
              "      <th>29</th>\n",
              "      <td>2020-06-20</td>\n",
              "      <td>2</td>\n",
              "    </tr>\n",
              "    <tr>\n",
              "      <th>30</th>\n",
              "      <td>2020-06-22</td>\n",
              "      <td>2</td>\n",
              "    </tr>\n",
              "    <tr>\n",
              "      <th>31</th>\n",
              "      <td>2020-06-23</td>\n",
              "      <td>3</td>\n",
              "    </tr>\n",
              "    <tr>\n",
              "      <th>32</th>\n",
              "      <td>2020-06-24</td>\n",
              "      <td>1</td>\n",
              "    </tr>\n",
              "    <tr>\n",
              "      <th>33</th>\n",
              "      <td>2020-06-27</td>\n",
              "      <td>1</td>\n",
              "    </tr>\n",
              "    <tr>\n",
              "      <th>34</th>\n",
              "      <td>2020-06-28</td>\n",
              "      <td>2</td>\n",
              "    </tr>\n",
              "    <tr>\n",
              "      <th>35</th>\n",
              "      <td>2020-06-29</td>\n",
              "      <td>1</td>\n",
              "    </tr>\n",
              "  </tbody>\n",
              "</table>\n",
              "</div>"
            ],
            "text/plain": [
              "          Day  ProtestCells\n",
              "0  2020-05-20             1\n",
              "1  2020-05-21             1\n",
              "2  2020-05-22             1\n",
              "3  2020-05-23             1\n",
              "4  2020-05-24             3\n",
              "5  2020-05-25             2\n",
              "6  2020-05-26             2\n",
              "7  2020-05-27             1\n",
              "8  2020-05-28             1\n",
              "9  2020-05-29             6\n",
              "10 2020-05-30             4\n",
              "11 2020-05-31             6\n",
              "12 2020-06-01             6\n",
              "13 2020-06-02             6\n",
              "14 2020-06-03             4\n",
              "15 2020-06-04             4\n",
              "16 2020-06-05             1\n",
              "17 2020-06-06             3\n",
              "18 2020-06-07             3\n",
              "19 2020-06-08             5\n",
              "20 2020-06-09             6\n",
              "21 2020-06-10             2\n",
              "22 2020-06-11             2\n",
              "23 2020-06-12             1\n",
              "24 2020-06-13             4\n",
              "25 2020-06-15             1\n",
              "26 2020-06-16             3\n",
              "27 2020-06-17             5\n",
              "28 2020-06-19             3\n",
              "29 2020-06-20             2\n",
              "30 2020-06-22             2\n",
              "31 2020-06-23             3\n",
              "32 2020-06-24             1\n",
              "33 2020-06-27             1\n",
              "34 2020-06-28             2\n",
              "35 2020-06-29             1"
            ]
          },
          "execution_count": 189,
          "metadata": {},
          "output_type": "execute_result"
        }
      ],
      "source": [
        "time_series_events_usa = pd.DataFrame(columns=['Day','ProtestCells'])\n",
        "\n",
        "time_series_events_usa.Day = [  group[0] for group in events_usa.groupby(events_usa['date']) ]\n",
        "time_series_events_usa.ProtestCells = [   group[1]['gid'].nunique() for group in events_usa.groupby(events_usa['date']) ]\n",
        "\n",
        "time_series_events_usa\n",
        "\n",
        "#test = pd.concat(DFList)\n",
        "#test.head(30)"
      ]
    },
    {
      "cell_type": "code",
      "execution_count": null,
      "metadata": {
        "id": "Q921z0X-UHfZ"
      },
      "outputs": [],
      "source": [
        "joined_data_frame1 = (pd.merge(time_series_gs_events_usa, time_series_events_usa, on='Day', how='outer')\n",
        "        .fillna(0)\n",
        "        .sort_values('Day')\n",
        "        .set_index('Day'))"
      ]
    },
    {
      "cell_type": "code",
      "execution_count": null,
      "metadata": {
        "id": "4vC3zOwdUHfZ",
        "outputId": "1ee78a17-d837-470d-9860-13d7a0e710b4"
      },
      "outputs": [
        {
          "data": {
            "text/html": [
              "<div>\n",
              "<style scoped>\n",
              "    .dataframe tbody tr th:only-of-type {\n",
              "        vertical-align: middle;\n",
              "    }\n",
              "\n",
              "    .dataframe tbody tr th {\n",
              "        vertical-align: top;\n",
              "    }\n",
              "\n",
              "    .dataframe thead th {\n",
              "        text-align: right;\n",
              "    }\n",
              "</style>\n",
              "<table border=\"1\" class=\"dataframe\">\n",
              "  <thead>\n",
              "    <tr style=\"text-align: right;\">\n",
              "      <th></th>\n",
              "      <th>GoldStandard</th>\n",
              "      <th>NoConflict3</th>\n",
              "    </tr>\n",
              "    <tr>\n",
              "      <th>Day</th>\n",
              "      <th></th>\n",
              "      <th></th>\n",
              "    </tr>\n",
              "  </thead>\n",
              "  <tbody>\n",
              "    <tr>\n",
              "      <th>2020-05-20</th>\n",
              "      <td>0.0</td>\n",
              "      <td>1.0</td>\n",
              "    </tr>\n",
              "    <tr>\n",
              "      <th>2020-05-21</th>\n",
              "      <td>0.0</td>\n",
              "      <td>1.0</td>\n",
              "    </tr>\n",
              "    <tr>\n",
              "      <th>2020-05-22</th>\n",
              "      <td>0.0</td>\n",
              "      <td>1.0</td>\n",
              "    </tr>\n",
              "    <tr>\n",
              "      <th>2020-05-23</th>\n",
              "      <td>0.0</td>\n",
              "      <td>1.0</td>\n",
              "    </tr>\n",
              "    <tr>\n",
              "      <th>2020-05-24</th>\n",
              "      <td>0.0</td>\n",
              "      <td>3.0</td>\n",
              "    </tr>\n",
              "    <tr>\n",
              "      <th>2020-05-25</th>\n",
              "      <td>0.0</td>\n",
              "      <td>2.0</td>\n",
              "    </tr>\n",
              "    <tr>\n",
              "      <th>2020-05-26</th>\n",
              "      <td>1.0</td>\n",
              "      <td>2.0</td>\n",
              "    </tr>\n",
              "    <tr>\n",
              "      <th>2020-05-27</th>\n",
              "      <td>1.0</td>\n",
              "      <td>1.0</td>\n",
              "    </tr>\n",
              "    <tr>\n",
              "      <th>2020-05-28</th>\n",
              "      <td>9.0</td>\n",
              "      <td>1.0</td>\n",
              "    </tr>\n",
              "    <tr>\n",
              "      <th>2020-05-29</th>\n",
              "      <td>48.0</td>\n",
              "      <td>6.0</td>\n",
              "    </tr>\n",
              "    <tr>\n",
              "      <th>2020-05-30</th>\n",
              "      <td>251.0</td>\n",
              "      <td>4.0</td>\n",
              "    </tr>\n",
              "    <tr>\n",
              "      <th>2020-05-31</th>\n",
              "      <td>375.0</td>\n",
              "      <td>6.0</td>\n",
              "    </tr>\n",
              "    <tr>\n",
              "      <th>2020-06-01</th>\n",
              "      <td>357.0</td>\n",
              "      <td>6.0</td>\n",
              "    </tr>\n",
              "    <tr>\n",
              "      <th>2020-06-02</th>\n",
              "      <td>353.0</td>\n",
              "      <td>6.0</td>\n",
              "    </tr>\n",
              "    <tr>\n",
              "      <th>2020-06-03</th>\n",
              "      <td>309.0</td>\n",
              "      <td>4.0</td>\n",
              "    </tr>\n",
              "    <tr>\n",
              "      <th>2020-06-04</th>\n",
              "      <td>288.0</td>\n",
              "      <td>4.0</td>\n",
              "    </tr>\n",
              "    <tr>\n",
              "      <th>2020-06-05</th>\n",
              "      <td>341.0</td>\n",
              "      <td>1.0</td>\n",
              "    </tr>\n",
              "    <tr>\n",
              "      <th>2020-06-06</th>\n",
              "      <td>477.0</td>\n",
              "      <td>3.0</td>\n",
              "    </tr>\n",
              "    <tr>\n",
              "      <th>2020-06-07</th>\n",
              "      <td>310.0</td>\n",
              "      <td>3.0</td>\n",
              "    </tr>\n",
              "    <tr>\n",
              "      <th>2020-06-08</th>\n",
              "      <td>192.0</td>\n",
              "      <td>5.0</td>\n",
              "    </tr>\n",
              "    <tr>\n",
              "      <th>2020-06-09</th>\n",
              "      <td>115.0</td>\n",
              "      <td>6.0</td>\n",
              "    </tr>\n",
              "    <tr>\n",
              "      <th>2020-06-10</th>\n",
              "      <td>91.0</td>\n",
              "      <td>2.0</td>\n",
              "    </tr>\n",
              "    <tr>\n",
              "      <th>2020-06-11</th>\n",
              "      <td>105.0</td>\n",
              "      <td>2.0</td>\n",
              "    </tr>\n",
              "    <tr>\n",
              "      <th>2020-06-12</th>\n",
              "      <td>135.0</td>\n",
              "      <td>1.0</td>\n",
              "    </tr>\n",
              "    <tr>\n",
              "      <th>2020-06-13</th>\n",
              "      <td>233.0</td>\n",
              "      <td>4.0</td>\n",
              "    </tr>\n",
              "    <tr>\n",
              "      <th>2020-06-14</th>\n",
              "      <td>140.0</td>\n",
              "      <td>0.0</td>\n",
              "    </tr>\n",
              "    <tr>\n",
              "      <th>2020-06-15</th>\n",
              "      <td>46.0</td>\n",
              "      <td>1.0</td>\n",
              "    </tr>\n",
              "    <tr>\n",
              "      <th>2020-06-16</th>\n",
              "      <td>50.0</td>\n",
              "      <td>3.0</td>\n",
              "    </tr>\n",
              "    <tr>\n",
              "      <th>2020-06-17</th>\n",
              "      <td>48.0</td>\n",
              "      <td>5.0</td>\n",
              "    </tr>\n",
              "    <tr>\n",
              "      <th>2020-06-18</th>\n",
              "      <td>42.0</td>\n",
              "      <td>0.0</td>\n",
              "    </tr>\n",
              "    <tr>\n",
              "      <th>2020-06-19</th>\n",
              "      <td>260.0</td>\n",
              "      <td>3.0</td>\n",
              "    </tr>\n",
              "    <tr>\n",
              "      <th>2020-06-20</th>\n",
              "      <td>133.0</td>\n",
              "      <td>2.0</td>\n",
              "    </tr>\n",
              "    <tr>\n",
              "      <th>2020-06-21</th>\n",
              "      <td>39.0</td>\n",
              "      <td>0.0</td>\n",
              "    </tr>\n",
              "    <tr>\n",
              "      <th>2020-06-22</th>\n",
              "      <td>40.0</td>\n",
              "      <td>2.0</td>\n",
              "    </tr>\n",
              "    <tr>\n",
              "      <th>2020-06-23</th>\n",
              "      <td>35.0</td>\n",
              "      <td>3.0</td>\n",
              "    </tr>\n",
              "    <tr>\n",
              "      <th>2020-06-24</th>\n",
              "      <td>44.0</td>\n",
              "      <td>1.0</td>\n",
              "    </tr>\n",
              "    <tr>\n",
              "      <th>2020-06-25</th>\n",
              "      <td>50.0</td>\n",
              "      <td>0.0</td>\n",
              "    </tr>\n",
              "    <tr>\n",
              "      <th>2020-06-26</th>\n",
              "      <td>63.0</td>\n",
              "      <td>0.0</td>\n",
              "    </tr>\n",
              "    <tr>\n",
              "      <th>2020-06-27</th>\n",
              "      <td>117.0</td>\n",
              "      <td>1.0</td>\n",
              "    </tr>\n",
              "    <tr>\n",
              "      <th>2020-06-28</th>\n",
              "      <td>65.0</td>\n",
              "      <td>2.0</td>\n",
              "    </tr>\n",
              "    <tr>\n",
              "      <th>2020-06-29</th>\n",
              "      <td>31.0</td>\n",
              "      <td>1.0</td>\n",
              "    </tr>\n",
              "    <tr>\n",
              "      <th>2020-06-30</th>\n",
              "      <td>25.0</td>\n",
              "      <td>0.0</td>\n",
              "    </tr>\n",
              "  </tbody>\n",
              "</table>\n",
              "</div>"
            ],
            "text/plain": [
              "            GoldStandard  NoConflict3\n",
              "Day                                  \n",
              "2020-05-20           0.0          1.0\n",
              "2020-05-21           0.0          1.0\n",
              "2020-05-22           0.0          1.0\n",
              "2020-05-23           0.0          1.0\n",
              "2020-05-24           0.0          3.0\n",
              "2020-05-25           0.0          2.0\n",
              "2020-05-26           1.0          2.0\n",
              "2020-05-27           1.0          1.0\n",
              "2020-05-28           9.0          1.0\n",
              "2020-05-29          48.0          6.0\n",
              "2020-05-30         251.0          4.0\n",
              "2020-05-31         375.0          6.0\n",
              "2020-06-01         357.0          6.0\n",
              "2020-06-02         353.0          6.0\n",
              "2020-06-03         309.0          4.0\n",
              "2020-06-04         288.0          4.0\n",
              "2020-06-05         341.0          1.0\n",
              "2020-06-06         477.0          3.0\n",
              "2020-06-07         310.0          3.0\n",
              "2020-06-08         192.0          5.0\n",
              "2020-06-09         115.0          6.0\n",
              "2020-06-10          91.0          2.0\n",
              "2020-06-11         105.0          2.0\n",
              "2020-06-12         135.0          1.0\n",
              "2020-06-13         233.0          4.0\n",
              "2020-06-14         140.0          0.0\n",
              "2020-06-15          46.0          1.0\n",
              "2020-06-16          50.0          3.0\n",
              "2020-06-17          48.0          5.0\n",
              "2020-06-18          42.0          0.0\n",
              "2020-06-19         260.0          3.0\n",
              "2020-06-20         133.0          2.0\n",
              "2020-06-21          39.0          0.0\n",
              "2020-06-22          40.0          2.0\n",
              "2020-06-23          35.0          3.0\n",
              "2020-06-24          44.0          1.0\n",
              "2020-06-25          50.0          0.0\n",
              "2020-06-26          63.0          0.0\n",
              "2020-06-27         117.0          1.0\n",
              "2020-06-28          65.0          2.0\n",
              "2020-06-29          31.0          1.0\n",
              "2020-06-30          25.0          0.0"
            ]
          },
          "execution_count": 201,
          "metadata": {},
          "output_type": "execute_result"
        }
      ],
      "source": [
        "joined_data_frame1.rename({'ProtestCells_x':'GoldStandard','ProtestCells_y':'NoConflict3' }, axis=1)"
      ]
    },
    {
      "cell_type": "code",
      "execution_count": null,
      "metadata": {
        "id": "lLKOfSExUHfZ",
        "outputId": "e5503f2d-4173-444e-a99a-4f2185ef7f15"
      },
      "outputs": [
        {
          "data": {
            "text/plain": [
              "<matplotlib.legend.Legend at 0x1e819af4af0>"
            ]
          },
          "execution_count": 203,
          "metadata": {},
          "output_type": "execute_result"
        },
        {
          "data": {
            "text/plain": [
              "<Figure size 7800x4200 with 0 Axes>"
            ]
          },
          "metadata": {},
          "output_type": "display_data"
        },
        {
          "data": {
            "image/png": "[encoded data removed]",
            "text/plain": [
              "<Figure size 640x480 with 1 Axes>"
            ]
          },
          "metadata": {},
          "output_type": "display_data"
        }
      ],
      "source": [
        "# to set the plot size\n",
        "plt.figure(figsize=(26, 14), dpi=300)\n",
        "\n",
        "# using .plot method\n",
        "# passing colors as a list\n",
        "joined_data_frame1.plot(label='joined_data_frame1', color=['orange', 'green'])\n",
        "\n",
        "# adding title\n",
        "plt.title('Daily Protest Cells')\n",
        "\n",
        "# adding label to x-axis\n",
        "plt.xlabel('Day')\n",
        "\n",
        "# adding label to y-axis\n",
        "plt.xlabel('Protest Cells')\n",
        "\n",
        "# adding legend.\n",
        "plt.legend()\n"
      ]
    }
  ],
  "metadata": {
    "kernelspec": {
      "display_name": "case20202_env",
      "language": "python",
      "name": "case20202_env"
    },
    "language_info": {
      "codemirror_mode": {
        "name": "ipython",
        "version": 3
      },
      "file_extension": ".py",
      "mimetype": "text/x-python",
      "name": "python",
      "nbconvert_exporter": "python",
      "pygments_lexer": "ipython3",
      "version": "3.10.4"
    },
    "colab": {
      "provenance": [],
      "include_colab_link": true
    }
  },
  "nbformat": 4,
  "nbformat_minor": 0
}